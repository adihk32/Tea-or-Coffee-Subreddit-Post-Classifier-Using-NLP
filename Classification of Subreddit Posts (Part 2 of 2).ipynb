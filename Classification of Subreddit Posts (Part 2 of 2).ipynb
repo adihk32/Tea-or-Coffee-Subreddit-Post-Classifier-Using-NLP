{
 "cells": [
  {
   "cell_type": "markdown",
   "id": "5630f0de-c3b7-4c17-915c-9103bd8d1a4e",
   "metadata": {},
   "source": [
    "<img src=\"http://imgur.com/1ZcRyrc.png\" style=\"float: left; margin: 20px; height: 55px\">\n",
    "\n",
    "# Project 3: Classification of Subreddit Posts (Part 2 of 2)"
   ]
  },
  {
   "cell_type": "markdown",
   "id": "08f8bdf2-390e-4a61-8c25-0b4542f8d4b4",
   "metadata": {},
   "source": [
    "This is the second notebook of the \"Project 3: Classification of Subreddit Posts\" where the following process will be discussed:\n",
    "- Dataset Cleaning\n",
    "- Explanatory Data Anaylsis (EDA)\n",
    "- Modelling, and\n",
    "- Conclusion & Recommendation"
   ]
  },
  {
   "cell_type": "markdown",
   "id": "fcc74aaf-b3a6-4f8b-bbae-d202d0c87fbc",
   "metadata": {},
   "source": [
    "## 1. Importing Libraries"
   ]
  },
  {
   "cell_type": "code",
   "execution_count": 1,
   "id": "73e888b0-7b46-4a2a-a21e-68e61447bf72",
   "metadata": {},
   "outputs": [],
   "source": [
    "import requests\n",
    "import string\n",
    "import re\n",
    "import pandas as pd\n",
    "import numpy as np\n",
    "import time\n",
    "import matplotlib.pyplot as plt\n",
    "import nltk\n",
    "\n",
    "from sklearn.model_selection import train_test_split, GridSearchCV\n",
    "from sklearn.pipeline import Pipeline\n",
    "from sklearn.naive_bayes import MultinomialNB, BernoulliNB\n",
    "from sklearn.linear_model import LogisticRegression\n",
    "from sklearn.metrics import confusion_matrix, plot_confusion_matrix\n",
    "from sklearn.metrics import classification_report\n",
    "from sklearn.metrics import roc_curve, roc_auc_score\n",
    "\n",
    "# Import CountVectorizer and TFIDFVectorizer from feature_extraction.text.\n",
    "from sklearn.feature_extraction.text import CountVectorizer, TfidfVectorizer\n",
    "\n",
    "# instantiate the lemmatizer and stopwords\n",
    "wn = nltk.WordNetLemmatizer()\n",
    "ps = nltk.PorterStemmer()\n",
    "stopwords = nltk.corpus.stopwords.words('english')\n",
    "\n",
    "# set the max columns to none\n",
    "pd.set_option('display.max_columns', None)"
   ]
  },
  {
   "cell_type": "markdown",
   "id": "7f4c9357-940c-4f77-ab81-ee48901c398b",
   "metadata": {},
   "source": [
    "## 2. Cleaning Dataset"
   ]
  },
  {
   "cell_type": "markdown",
   "id": "1324ed59-93d4-4b0a-bfc2-8887d42da728",
   "metadata": {},
   "source": [
    "The dataset that is scrapped was further cleaned. We first filter the dataset to certain columns is relevant with our analysis and also check any empty cells in the dataset.  \n",
    "Next we also remove any duplicates row based on the `title` and `selftext` column to avoid unnecessary noise.  \n",
    "\n",
    "The following step, a new column `text` is created with the `title` and `selftext` value and the column is further check if any unnecessary string such as http/www address and html punctuations exist."
   ]
  },
  {
   "cell_type": "code",
   "execution_count": 2,
   "id": "683c1705-2a60-480e-9b6a-8aeaae858389",
   "metadata": {},
   "outputs": [],
   "source": [
    "data = pd.read_csv('data/df_tea&coffee_220524.csv')"
   ]
  },
  {
   "cell_type": "code",
   "execution_count": 3,
   "id": "c4b95c25-b739-45be-8ffa-dd8a41e16b95",
   "metadata": {},
   "outputs": [
    {
     "data": {
      "text/html": [
       "<div>\n",
       "<style scoped>\n",
       "    .dataframe tbody tr th:only-of-type {\n",
       "        vertical-align: middle;\n",
       "    }\n",
       "\n",
       "    .dataframe tbody tr th {\n",
       "        vertical-align: top;\n",
       "    }\n",
       "\n",
       "    .dataframe thead th {\n",
       "        text-align: right;\n",
       "    }\n",
       "</style>\n",
       "<table border=\"1\" class=\"dataframe\">\n",
       "  <thead>\n",
       "    <tr style=\"text-align: right;\">\n",
       "      <th></th>\n",
       "      <th>all_awardings</th>\n",
       "      <th>allow_live_comments</th>\n",
       "      <th>author</th>\n",
       "      <th>author_flair_css_class</th>\n",
       "      <th>author_flair_richtext</th>\n",
       "      <th>author_flair_text</th>\n",
       "      <th>author_flair_type</th>\n",
       "      <th>author_fullname</th>\n",
       "      <th>author_is_blocked</th>\n",
       "      <th>author_patreon_flair</th>\n",
       "      <th>author_premium</th>\n",
       "      <th>awarders</th>\n",
       "      <th>can_mod_post</th>\n",
       "      <th>contest_mode</th>\n",
       "      <th>created_utc</th>\n",
       "      <th>domain</th>\n",
       "      <th>full_link</th>\n",
       "      <th>gildings</th>\n",
       "      <th>id</th>\n",
       "      <th>is_created_from_ads_ui</th>\n",
       "      <th>is_crosspostable</th>\n",
       "      <th>is_meta</th>\n",
       "      <th>is_original_content</th>\n",
       "      <th>is_reddit_media_domain</th>\n",
       "      <th>is_robot_indexable</th>\n",
       "      <th>is_self</th>\n",
       "      <th>is_video</th>\n",
       "      <th>link_flair_background_color</th>\n",
       "      <th>link_flair_css_class</th>\n",
       "      <th>link_flair_richtext</th>\n",
       "      <th>link_flair_template_id</th>\n",
       "      <th>link_flair_text</th>\n",
       "      <th>link_flair_text_color</th>\n",
       "      <th>link_flair_type</th>\n",
       "      <th>locked</th>\n",
       "      <th>media_only</th>\n",
       "      <th>no_follow</th>\n",
       "      <th>num_comments</th>\n",
       "      <th>num_crossposts</th>\n",
       "      <th>over_18</th>\n",
       "      <th>parent_whitelist_status</th>\n",
       "      <th>permalink</th>\n",
       "      <th>pinned</th>\n",
       "      <th>pwls</th>\n",
       "      <th>retrieved_on</th>\n",
       "      <th>score</th>\n",
       "      <th>selftext</th>\n",
       "      <th>send_replies</th>\n",
       "      <th>spoiler</th>\n",
       "      <th>stickied</th>\n",
       "      <th>subreddit</th>\n",
       "      <th>subreddit_id</th>\n",
       "      <th>subreddit_subscribers</th>\n",
       "      <th>subreddit_type</th>\n",
       "      <th>thumbnail</th>\n",
       "      <th>title</th>\n",
       "      <th>total_awards_received</th>\n",
       "      <th>treatment_tags</th>\n",
       "      <th>upvote_ratio</th>\n",
       "      <th>url</th>\n",
       "      <th>whitelist_status</th>\n",
       "      <th>wls</th>\n",
       "      <th>post_hint</th>\n",
       "      <th>preview</th>\n",
       "      <th>removed_by_category</th>\n",
       "      <th>thumbnail_height</th>\n",
       "      <th>thumbnail_width</th>\n",
       "      <th>url_overridden_by_dest</th>\n",
       "      <th>gallery_data</th>\n",
       "      <th>is_gallery</th>\n",
       "      <th>media_metadata</th>\n",
       "      <th>media</th>\n",
       "      <th>media_embed</th>\n",
       "      <th>secure_media</th>\n",
       "      <th>secure_media_embed</th>\n",
       "      <th>crosspost_parent</th>\n",
       "      <th>crosspost_parent_list</th>\n",
       "      <th>author_flair_template_id</th>\n",
       "      <th>author_flair_text_color</th>\n",
       "      <th>author_flair_background_color</th>\n",
       "      <th>banned_by</th>\n",
       "      <th>poll_data</th>\n",
       "      <th>author_cakeday</th>\n",
       "      <th>suggested_sort</th>\n",
       "      <th>distinguished</th>\n",
       "      <th>call_to_action</th>\n",
       "      <th>category</th>\n",
       "    </tr>\n",
       "  </thead>\n",
       "  <tbody>\n",
       "    <tr>\n",
       "      <th>0</th>\n",
       "      <td>[]</td>\n",
       "      <td>False</td>\n",
       "      <td>cobaltjay</td>\n",
       "      <td>NaN</td>\n",
       "      <td>[]</td>\n",
       "      <td>NaN</td>\n",
       "      <td>text</td>\n",
       "      <td>t2_4i4nw2ff</td>\n",
       "      <td>False</td>\n",
       "      <td>False</td>\n",
       "      <td>False</td>\n",
       "      <td>[]</td>\n",
       "      <td>False</td>\n",
       "      <td>False</td>\n",
       "      <td>1653377746</td>\n",
       "      <td>self.tea</td>\n",
       "      <td>https://www.reddit.com/r/tea/comments/uwlc69/w...</td>\n",
       "      <td>{}</td>\n",
       "      <td>uwlc69</td>\n",
       "      <td>False</td>\n",
       "      <td>True</td>\n",
       "      <td>False</td>\n",
       "      <td>False</td>\n",
       "      <td>False</td>\n",
       "      <td>True</td>\n",
       "      <td>True</td>\n",
       "      <td>False</td>\n",
       "      <td>NaN</td>\n",
       "      <td>reco</td>\n",
       "      <td>[{'e': 'text', 't': 'Recommendation'}]</td>\n",
       "      <td>7863b26c-9f57-11e4-a2b0-22000bc1889b</td>\n",
       "      <td>Recommendation</td>\n",
       "      <td>dark</td>\n",
       "      <td>richtext</td>\n",
       "      <td>False</td>\n",
       "      <td>False</td>\n",
       "      <td>True</td>\n",
       "      <td>0</td>\n",
       "      <td>0</td>\n",
       "      <td>False</td>\n",
       "      <td>all_ads</td>\n",
       "      <td>/r/tea/comments/uwlc69/whats_your_favourite_br...</td>\n",
       "      <td>False</td>\n",
       "      <td>6</td>\n",
       "      <td>1653377757</td>\n",
       "      <td>1</td>\n",
       "      <td>I have recently started some new medication th...</td>\n",
       "      <td>True</td>\n",
       "      <td>False</td>\n",
       "      <td>False</td>\n",
       "      <td>tea</td>\n",
       "      <td>t5_2qq5e</td>\n",
       "      <td>659158</td>\n",
       "      <td>public</td>\n",
       "      <td>self</td>\n",
       "      <td>What's your favourite brand for decaf tea?</td>\n",
       "      <td>0</td>\n",
       "      <td>[]</td>\n",
       "      <td>1.0</td>\n",
       "      <td>https://www.reddit.com/r/tea/comments/uwlc69/w...</td>\n",
       "      <td>all_ads</td>\n",
       "      <td>6</td>\n",
       "      <td>NaN</td>\n",
       "      <td>NaN</td>\n",
       "      <td>NaN</td>\n",
       "      <td>NaN</td>\n",
       "      <td>NaN</td>\n",
       "      <td>NaN</td>\n",
       "      <td>NaN</td>\n",
       "      <td>NaN</td>\n",
       "      <td>NaN</td>\n",
       "      <td>NaN</td>\n",
       "      <td>NaN</td>\n",
       "      <td>NaN</td>\n",
       "      <td>NaN</td>\n",
       "      <td>NaN</td>\n",
       "      <td>NaN</td>\n",
       "      <td>NaN</td>\n",
       "      <td>NaN</td>\n",
       "      <td>NaN</td>\n",
       "      <td>NaN</td>\n",
       "      <td>NaN</td>\n",
       "      <td>NaN</td>\n",
       "      <td>NaN</td>\n",
       "      <td>NaN</td>\n",
       "      <td>NaN</td>\n",
       "      <td>NaN</td>\n",
       "    </tr>\n",
       "    <tr>\n",
       "      <th>1</th>\n",
       "      <td>[]</td>\n",
       "      <td>False</td>\n",
       "      <td>kibbles16</td>\n",
       "      <td>NaN</td>\n",
       "      <td>[]</td>\n",
       "      <td>NaN</td>\n",
       "      <td>text</td>\n",
       "      <td>t2_m8mu0vez</td>\n",
       "      <td>False</td>\n",
       "      <td>False</td>\n",
       "      <td>False</td>\n",
       "      <td>[]</td>\n",
       "      <td>False</td>\n",
       "      <td>False</td>\n",
       "      <td>1653372437</td>\n",
       "      <td>self.tea</td>\n",
       "      <td>https://www.reddit.com/r/tea/comments/uwk4pc/h...</td>\n",
       "      <td>{}</td>\n",
       "      <td>uwk4pc</td>\n",
       "      <td>False</td>\n",
       "      <td>True</td>\n",
       "      <td>False</td>\n",
       "      <td>False</td>\n",
       "      <td>False</td>\n",
       "      <td>True</td>\n",
       "      <td>True</td>\n",
       "      <td>False</td>\n",
       "      <td>NaN</td>\n",
       "      <td>NaN</td>\n",
       "      <td>[]</td>\n",
       "      <td>NaN</td>\n",
       "      <td>NaN</td>\n",
       "      <td>dark</td>\n",
       "      <td>text</td>\n",
       "      <td>False</td>\n",
       "      <td>False</td>\n",
       "      <td>True</td>\n",
       "      <td>0</td>\n",
       "      <td>0</td>\n",
       "      <td>False</td>\n",
       "      <td>all_ads</td>\n",
       "      <td>/r/tea/comments/uwk4pc/how_do_you_make_tea_tas...</td>\n",
       "      <td>False</td>\n",
       "      <td>6</td>\n",
       "      <td>1653372448</td>\n",
       "      <td>1</td>\n",
       "      <td>I love tea, especially green and jasmine tea. ...</td>\n",
       "      <td>True</td>\n",
       "      <td>False</td>\n",
       "      <td>False</td>\n",
       "      <td>tea</td>\n",
       "      <td>t5_2qq5e</td>\n",
       "      <td>659124</td>\n",
       "      <td>public</td>\n",
       "      <td>self</td>\n",
       "      <td>How do you make tea taste refreshing?</td>\n",
       "      <td>0</td>\n",
       "      <td>[]</td>\n",
       "      <td>1.0</td>\n",
       "      <td>https://www.reddit.com/r/tea/comments/uwk4pc/h...</td>\n",
       "      <td>all_ads</td>\n",
       "      <td>6</td>\n",
       "      <td>NaN</td>\n",
       "      <td>NaN</td>\n",
       "      <td>NaN</td>\n",
       "      <td>NaN</td>\n",
       "      <td>NaN</td>\n",
       "      <td>NaN</td>\n",
       "      <td>NaN</td>\n",
       "      <td>NaN</td>\n",
       "      <td>NaN</td>\n",
       "      <td>NaN</td>\n",
       "      <td>NaN</td>\n",
       "      <td>NaN</td>\n",
       "      <td>NaN</td>\n",
       "      <td>NaN</td>\n",
       "      <td>NaN</td>\n",
       "      <td>NaN</td>\n",
       "      <td>NaN</td>\n",
       "      <td>NaN</td>\n",
       "      <td>NaN</td>\n",
       "      <td>NaN</td>\n",
       "      <td>NaN</td>\n",
       "      <td>NaN</td>\n",
       "      <td>NaN</td>\n",
       "      <td>NaN</td>\n",
       "      <td>NaN</td>\n",
       "    </tr>\n",
       "    <tr>\n",
       "      <th>2</th>\n",
       "      <td>[]</td>\n",
       "      <td>False</td>\n",
       "      <td>-___ari___-</td>\n",
       "      <td>NaN</td>\n",
       "      <td>[]</td>\n",
       "      <td>NaN</td>\n",
       "      <td>text</td>\n",
       "      <td>t2_82epe397</td>\n",
       "      <td>False</td>\n",
       "      <td>False</td>\n",
       "      <td>False</td>\n",
       "      <td>[]</td>\n",
       "      <td>False</td>\n",
       "      <td>False</td>\n",
       "      <td>1653364473</td>\n",
       "      <td>self.tea</td>\n",
       "      <td>https://www.reddit.com/r/tea/comments/uwi2xw/h...</td>\n",
       "      <td>{}</td>\n",
       "      <td>uwi2xw</td>\n",
       "      <td>False</td>\n",
       "      <td>True</td>\n",
       "      <td>False</td>\n",
       "      <td>False</td>\n",
       "      <td>False</td>\n",
       "      <td>True</td>\n",
       "      <td>True</td>\n",
       "      <td>False</td>\n",
       "      <td>NaN</td>\n",
       "      <td>help</td>\n",
       "      <td>[{'e': 'text', 't': 'Question/Help'}]</td>\n",
       "      <td>64c60b7e-9f57-11e4-adfe-22000b680aa5</td>\n",
       "      <td>Question/Help</td>\n",
       "      <td>dark</td>\n",
       "      <td>richtext</td>\n",
       "      <td>False</td>\n",
       "      <td>False</td>\n",
       "      <td>True</td>\n",
       "      <td>0</td>\n",
       "      <td>0</td>\n",
       "      <td>False</td>\n",
       "      <td>all_ads</td>\n",
       "      <td>/r/tea/comments/uwi2xw/how_is_the_first_flush_...</td>\n",
       "      <td>False</td>\n",
       "      <td>6</td>\n",
       "      <td>1653364483</td>\n",
       "      <td>1</td>\n",
       "      <td>hi, just recently getting into specialty teas,...</td>\n",
       "      <td>True</td>\n",
       "      <td>False</td>\n",
       "      <td>False</td>\n",
       "      <td>tea</td>\n",
       "      <td>t5_2qq5e</td>\n",
       "      <td>659088</td>\n",
       "      <td>public</td>\n",
       "      <td>self</td>\n",
       "      <td>how is the first flush experience? is it that ...</td>\n",
       "      <td>0</td>\n",
       "      <td>[]</td>\n",
       "      <td>1.0</td>\n",
       "      <td>https://www.reddit.com/r/tea/comments/uwi2xw/h...</td>\n",
       "      <td>all_ads</td>\n",
       "      <td>6</td>\n",
       "      <td>NaN</td>\n",
       "      <td>NaN</td>\n",
       "      <td>NaN</td>\n",
       "      <td>NaN</td>\n",
       "      <td>NaN</td>\n",
       "      <td>NaN</td>\n",
       "      <td>NaN</td>\n",
       "      <td>NaN</td>\n",
       "      <td>NaN</td>\n",
       "      <td>NaN</td>\n",
       "      <td>NaN</td>\n",
       "      <td>NaN</td>\n",
       "      <td>NaN</td>\n",
       "      <td>NaN</td>\n",
       "      <td>NaN</td>\n",
       "      <td>NaN</td>\n",
       "      <td>NaN</td>\n",
       "      <td>NaN</td>\n",
       "      <td>NaN</td>\n",
       "      <td>NaN</td>\n",
       "      <td>NaN</td>\n",
       "      <td>NaN</td>\n",
       "      <td>NaN</td>\n",
       "      <td>NaN</td>\n",
       "      <td>NaN</td>\n",
       "    </tr>\n",
       "    <tr>\n",
       "      <th>3</th>\n",
       "      <td>[]</td>\n",
       "      <td>False</td>\n",
       "      <td>UsernameNumberThree</td>\n",
       "      <td>NaN</td>\n",
       "      <td>[]</td>\n",
       "      <td>NaN</td>\n",
       "      <td>text</td>\n",
       "      <td>t2_fcgfe</td>\n",
       "      <td>False</td>\n",
       "      <td>False</td>\n",
       "      <td>False</td>\n",
       "      <td>[]</td>\n",
       "      <td>False</td>\n",
       "      <td>False</td>\n",
       "      <td>1653350251</td>\n",
       "      <td>self.tea</td>\n",
       "      <td>https://www.reddit.com/r/tea/comments/uwdvoh/w...</td>\n",
       "      <td>{}</td>\n",
       "      <td>uwdvoh</td>\n",
       "      <td>False</td>\n",
       "      <td>True</td>\n",
       "      <td>False</td>\n",
       "      <td>False</td>\n",
       "      <td>False</td>\n",
       "      <td>True</td>\n",
       "      <td>True</td>\n",
       "      <td>False</td>\n",
       "      <td>NaN</td>\n",
       "      <td>NaN</td>\n",
       "      <td>[]</td>\n",
       "      <td>NaN</td>\n",
       "      <td>NaN</td>\n",
       "      <td>dark</td>\n",
       "      <td>text</td>\n",
       "      <td>False</td>\n",
       "      <td>False</td>\n",
       "      <td>True</td>\n",
       "      <td>0</td>\n",
       "      <td>0</td>\n",
       "      <td>False</td>\n",
       "      <td>all_ads</td>\n",
       "      <td>/r/tea/comments/uwdvoh/what_are_your_most_succ...</td>\n",
       "      <td>False</td>\n",
       "      <td>6</td>\n",
       "      <td>1653350262</td>\n",
       "      <td>1</td>\n",
       "      <td>I purchased some from a specialty shop in NYC....</td>\n",
       "      <td>True</td>\n",
       "      <td>False</td>\n",
       "      <td>False</td>\n",
       "      <td>tea</td>\n",
       "      <td>t5_2qq5e</td>\n",
       "      <td>659042</td>\n",
       "      <td>public</td>\n",
       "      <td>self</td>\n",
       "      <td>What are your most successful concoctions with...</td>\n",
       "      <td>0</td>\n",
       "      <td>[]</td>\n",
       "      <td>1.0</td>\n",
       "      <td>https://www.reddit.com/r/tea/comments/uwdvoh/w...</td>\n",
       "      <td>all_ads</td>\n",
       "      <td>6</td>\n",
       "      <td>NaN</td>\n",
       "      <td>NaN</td>\n",
       "      <td>NaN</td>\n",
       "      <td>NaN</td>\n",
       "      <td>NaN</td>\n",
       "      <td>NaN</td>\n",
       "      <td>NaN</td>\n",
       "      <td>NaN</td>\n",
       "      <td>NaN</td>\n",
       "      <td>NaN</td>\n",
       "      <td>NaN</td>\n",
       "      <td>NaN</td>\n",
       "      <td>NaN</td>\n",
       "      <td>NaN</td>\n",
       "      <td>NaN</td>\n",
       "      <td>NaN</td>\n",
       "      <td>NaN</td>\n",
       "      <td>NaN</td>\n",
       "      <td>NaN</td>\n",
       "      <td>NaN</td>\n",
       "      <td>NaN</td>\n",
       "      <td>NaN</td>\n",
       "      <td>NaN</td>\n",
       "      <td>NaN</td>\n",
       "      <td>NaN</td>\n",
       "    </tr>\n",
       "    <tr>\n",
       "      <th>4</th>\n",
       "      <td>[]</td>\n",
       "      <td>False</td>\n",
       "      <td>mkmkatreddit</td>\n",
       "      <td>NaN</td>\n",
       "      <td>[]</td>\n",
       "      <td>NaN</td>\n",
       "      <td>text</td>\n",
       "      <td>t2_17bti9pn</td>\n",
       "      <td>False</td>\n",
       "      <td>False</td>\n",
       "      <td>False</td>\n",
       "      <td>[]</td>\n",
       "      <td>False</td>\n",
       "      <td>False</td>\n",
       "      <td>1653336633</td>\n",
       "      <td>self.tea</td>\n",
       "      <td>https://www.reddit.com/r/tea/comments/uw95qw/p...</td>\n",
       "      <td>{}</td>\n",
       "      <td>uw95qw</td>\n",
       "      <td>False</td>\n",
       "      <td>True</td>\n",
       "      <td>False</td>\n",
       "      <td>False</td>\n",
       "      <td>False</td>\n",
       "      <td>True</td>\n",
       "      <td>True</td>\n",
       "      <td>False</td>\n",
       "      <td>NaN</td>\n",
       "      <td>help</td>\n",
       "      <td>[{'e': 'text', 't': 'Question/Help'}]</td>\n",
       "      <td>64c60b7e-9f57-11e4-adfe-22000b680aa5</td>\n",
       "      <td>Question/Help</td>\n",
       "      <td>dark</td>\n",
       "      <td>richtext</td>\n",
       "      <td>False</td>\n",
       "      <td>False</td>\n",
       "      <td>True</td>\n",
       "      <td>0</td>\n",
       "      <td>0</td>\n",
       "      <td>False</td>\n",
       "      <td>all_ads</td>\n",
       "      <td>/r/tea/comments/uw95qw/please_help_is_my_yixin...</td>\n",
       "      <td>False</td>\n",
       "      <td>6</td>\n",
       "      <td>1653336643</td>\n",
       "      <td>1</td>\n",
       "      <td>Hi,\\ncan someone please help me asses whether ...</td>\n",
       "      <td>True</td>\n",
       "      <td>False</td>\n",
       "      <td>False</td>\n",
       "      <td>tea</td>\n",
       "      <td>t5_2qq5e</td>\n",
       "      <td>658994</td>\n",
       "      <td>public</td>\n",
       "      <td>self</td>\n",
       "      <td>Please help, is my Yixing teapot genuine?</td>\n",
       "      <td>0</td>\n",
       "      <td>[]</td>\n",
       "      <td>1.0</td>\n",
       "      <td>https://www.reddit.com/r/tea/comments/uw95qw/p...</td>\n",
       "      <td>all_ads</td>\n",
       "      <td>6</td>\n",
       "      <td>self</td>\n",
       "      <td>{'enabled': False, 'images': [{'id': 's96yESlA...</td>\n",
       "      <td>NaN</td>\n",
       "      <td>NaN</td>\n",
       "      <td>NaN</td>\n",
       "      <td>NaN</td>\n",
       "      <td>NaN</td>\n",
       "      <td>NaN</td>\n",
       "      <td>NaN</td>\n",
       "      <td>NaN</td>\n",
       "      <td>NaN</td>\n",
       "      <td>NaN</td>\n",
       "      <td>NaN</td>\n",
       "      <td>NaN</td>\n",
       "      <td>NaN</td>\n",
       "      <td>NaN</td>\n",
       "      <td>NaN</td>\n",
       "      <td>NaN</td>\n",
       "      <td>NaN</td>\n",
       "      <td>NaN</td>\n",
       "      <td>NaN</td>\n",
       "      <td>NaN</td>\n",
       "      <td>NaN</td>\n",
       "      <td>NaN</td>\n",
       "      <td>NaN</td>\n",
       "    </tr>\n",
       "  </tbody>\n",
       "</table>\n",
       "</div>"
      ],
      "text/plain": [
       "  all_awardings  allow_live_comments               author  \\\n",
       "0            []                False            cobaltjay   \n",
       "1            []                False            kibbles16   \n",
       "2            []                False          -___ari___-   \n",
       "3            []                False  UsernameNumberThree   \n",
       "4            []                False         mkmkatreddit   \n",
       "\n",
       "   author_flair_css_class author_flair_richtext author_flair_text  \\\n",
       "0                     NaN                    []               NaN   \n",
       "1                     NaN                    []               NaN   \n",
       "2                     NaN                    []               NaN   \n",
       "3                     NaN                    []               NaN   \n",
       "4                     NaN                    []               NaN   \n",
       "\n",
       "  author_flair_type author_fullname  author_is_blocked  author_patreon_flair  \\\n",
       "0              text     t2_4i4nw2ff              False                 False   \n",
       "1              text     t2_m8mu0vez              False                 False   \n",
       "2              text     t2_82epe397              False                 False   \n",
       "3              text        t2_fcgfe              False                 False   \n",
       "4              text     t2_17bti9pn              False                 False   \n",
       "\n",
       "   author_premium awarders  can_mod_post  contest_mode  created_utc    domain  \\\n",
       "0           False       []         False         False   1653377746  self.tea   \n",
       "1           False       []         False         False   1653372437  self.tea   \n",
       "2           False       []         False         False   1653364473  self.tea   \n",
       "3           False       []         False         False   1653350251  self.tea   \n",
       "4           False       []         False         False   1653336633  self.tea   \n",
       "\n",
       "                                           full_link gildings      id  \\\n",
       "0  https://www.reddit.com/r/tea/comments/uwlc69/w...       {}  uwlc69   \n",
       "1  https://www.reddit.com/r/tea/comments/uwk4pc/h...       {}  uwk4pc   \n",
       "2  https://www.reddit.com/r/tea/comments/uwi2xw/h...       {}  uwi2xw   \n",
       "3  https://www.reddit.com/r/tea/comments/uwdvoh/w...       {}  uwdvoh   \n",
       "4  https://www.reddit.com/r/tea/comments/uw95qw/p...       {}  uw95qw   \n",
       "\n",
       "   is_created_from_ads_ui  is_crosspostable  is_meta  is_original_content  \\\n",
       "0                   False              True    False                False   \n",
       "1                   False              True    False                False   \n",
       "2                   False              True    False                False   \n",
       "3                   False              True    False                False   \n",
       "4                   False              True    False                False   \n",
       "\n",
       "   is_reddit_media_domain  is_robot_indexable  is_self  is_video  \\\n",
       "0                   False                True     True     False   \n",
       "1                   False                True     True     False   \n",
       "2                   False                True     True     False   \n",
       "3                   False                True     True     False   \n",
       "4                   False                True     True     False   \n",
       "\n",
       "  link_flair_background_color link_flair_css_class  \\\n",
       "0                         NaN                 reco   \n",
       "1                         NaN                  NaN   \n",
       "2                         NaN                 help   \n",
       "3                         NaN                  NaN   \n",
       "4                         NaN                 help   \n",
       "\n",
       "                      link_flair_richtext  \\\n",
       "0  [{'e': 'text', 't': 'Recommendation'}]   \n",
       "1                                      []   \n",
       "2   [{'e': 'text', 't': 'Question/Help'}]   \n",
       "3                                      []   \n",
       "4   [{'e': 'text', 't': 'Question/Help'}]   \n",
       "\n",
       "                 link_flair_template_id link_flair_text link_flair_text_color  \\\n",
       "0  7863b26c-9f57-11e4-a2b0-22000bc1889b  Recommendation                  dark   \n",
       "1                                   NaN             NaN                  dark   \n",
       "2  64c60b7e-9f57-11e4-adfe-22000b680aa5   Question/Help                  dark   \n",
       "3                                   NaN             NaN                  dark   \n",
       "4  64c60b7e-9f57-11e4-adfe-22000b680aa5   Question/Help                  dark   \n",
       "\n",
       "  link_flair_type  locked  media_only  no_follow  num_comments  \\\n",
       "0        richtext   False       False       True             0   \n",
       "1            text   False       False       True             0   \n",
       "2        richtext   False       False       True             0   \n",
       "3            text   False       False       True             0   \n",
       "4        richtext   False       False       True             0   \n",
       "\n",
       "   num_crossposts  over_18 parent_whitelist_status  \\\n",
       "0               0    False                 all_ads   \n",
       "1               0    False                 all_ads   \n",
       "2               0    False                 all_ads   \n",
       "3               0    False                 all_ads   \n",
       "4               0    False                 all_ads   \n",
       "\n",
       "                                           permalink  pinned  pwls  \\\n",
       "0  /r/tea/comments/uwlc69/whats_your_favourite_br...   False     6   \n",
       "1  /r/tea/comments/uwk4pc/how_do_you_make_tea_tas...   False     6   \n",
       "2  /r/tea/comments/uwi2xw/how_is_the_first_flush_...   False     6   \n",
       "3  /r/tea/comments/uwdvoh/what_are_your_most_succ...   False     6   \n",
       "4  /r/tea/comments/uw95qw/please_help_is_my_yixin...   False     6   \n",
       "\n",
       "   retrieved_on  score                                           selftext  \\\n",
       "0    1653377757      1  I have recently started some new medication th...   \n",
       "1    1653372448      1  I love tea, especially green and jasmine tea. ...   \n",
       "2    1653364483      1  hi, just recently getting into specialty teas,...   \n",
       "3    1653350262      1  I purchased some from a specialty shop in NYC....   \n",
       "4    1653336643      1  Hi,\\ncan someone please help me asses whether ...   \n",
       "\n",
       "   send_replies  spoiler  stickied subreddit subreddit_id  \\\n",
       "0          True    False     False       tea     t5_2qq5e   \n",
       "1          True    False     False       tea     t5_2qq5e   \n",
       "2          True    False     False       tea     t5_2qq5e   \n",
       "3          True    False     False       tea     t5_2qq5e   \n",
       "4          True    False     False       tea     t5_2qq5e   \n",
       "\n",
       "   subreddit_subscribers subreddit_type thumbnail  \\\n",
       "0                 659158         public      self   \n",
       "1                 659124         public      self   \n",
       "2                 659088         public      self   \n",
       "3                 659042         public      self   \n",
       "4                 658994         public      self   \n",
       "\n",
       "                                               title  total_awards_received  \\\n",
       "0         What's your favourite brand for decaf tea?                      0   \n",
       "1              How do you make tea taste refreshing?                      0   \n",
       "2  how is the first flush experience? is it that ...                      0   \n",
       "3  What are your most successful concoctions with...                      0   \n",
       "4          Please help, is my Yixing teapot genuine?                      0   \n",
       "\n",
       "  treatment_tags  upvote_ratio  \\\n",
       "0             []           1.0   \n",
       "1             []           1.0   \n",
       "2             []           1.0   \n",
       "3             []           1.0   \n",
       "4             []           1.0   \n",
       "\n",
       "                                                 url whitelist_status  wls  \\\n",
       "0  https://www.reddit.com/r/tea/comments/uwlc69/w...          all_ads    6   \n",
       "1  https://www.reddit.com/r/tea/comments/uwk4pc/h...          all_ads    6   \n",
       "2  https://www.reddit.com/r/tea/comments/uwi2xw/h...          all_ads    6   \n",
       "3  https://www.reddit.com/r/tea/comments/uwdvoh/w...          all_ads    6   \n",
       "4  https://www.reddit.com/r/tea/comments/uw95qw/p...          all_ads    6   \n",
       "\n",
       "  post_hint                                            preview  \\\n",
       "0       NaN                                                NaN   \n",
       "1       NaN                                                NaN   \n",
       "2       NaN                                                NaN   \n",
       "3       NaN                                                NaN   \n",
       "4      self  {'enabled': False, 'images': [{'id': 's96yESlA...   \n",
       "\n",
       "   removed_by_category  thumbnail_height  thumbnail_width  \\\n",
       "0                  NaN               NaN              NaN   \n",
       "1                  NaN               NaN              NaN   \n",
       "2                  NaN               NaN              NaN   \n",
       "3                  NaN               NaN              NaN   \n",
       "4                  NaN               NaN              NaN   \n",
       "\n",
       "   url_overridden_by_dest  gallery_data  is_gallery media_metadata  media  \\\n",
       "0                     NaN           NaN         NaN            NaN    NaN   \n",
       "1                     NaN           NaN         NaN            NaN    NaN   \n",
       "2                     NaN           NaN         NaN            NaN    NaN   \n",
       "3                     NaN           NaN         NaN            NaN    NaN   \n",
       "4                     NaN           NaN         NaN            NaN    NaN   \n",
       "\n",
       "   media_embed  secure_media  secure_media_embed  crosspost_parent  \\\n",
       "0          NaN           NaN                 NaN               NaN   \n",
       "1          NaN           NaN                 NaN               NaN   \n",
       "2          NaN           NaN                 NaN               NaN   \n",
       "3          NaN           NaN                 NaN               NaN   \n",
       "4          NaN           NaN                 NaN               NaN   \n",
       "\n",
       "   crosspost_parent_list author_flair_template_id author_flair_text_color  \\\n",
       "0                    NaN                      NaN                     NaN   \n",
       "1                    NaN                      NaN                     NaN   \n",
       "2                    NaN                      NaN                     NaN   \n",
       "3                    NaN                      NaN                     NaN   \n",
       "4                    NaN                      NaN                     NaN   \n",
       "\n",
       "   author_flair_background_color  banned_by poll_data author_cakeday  \\\n",
       "0                            NaN        NaN       NaN            NaN   \n",
       "1                            NaN        NaN       NaN            NaN   \n",
       "2                            NaN        NaN       NaN            NaN   \n",
       "3                            NaN        NaN       NaN            NaN   \n",
       "4                            NaN        NaN       NaN            NaN   \n",
       "\n",
       "  suggested_sort distinguished  call_to_action  category  \n",
       "0            NaN           NaN             NaN       NaN  \n",
       "1            NaN           NaN             NaN       NaN  \n",
       "2            NaN           NaN             NaN       NaN  \n",
       "3            NaN           NaN             NaN       NaN  \n",
       "4            NaN           NaN             NaN       NaN  "
      ]
     },
     "execution_count": 3,
     "metadata": {},
     "output_type": "execute_result"
    }
   ],
   "source": [
    "data.head()"
   ]
  },
  {
   "cell_type": "code",
   "execution_count": 211,
   "id": "da9c5ba3-88fe-4984-9ad8-9a377166f43e",
   "metadata": {},
   "outputs": [
    {
     "data": {
      "text/plain": [
       "(2442, 87)"
      ]
     },
     "execution_count": 211,
     "metadata": {},
     "output_type": "execute_result"
    }
   ],
   "source": [
    "data.shape"
   ]
  },
  {
   "cell_type": "code",
   "execution_count": 4,
   "id": "62300650-4dd8-49c3-8e3e-3f063a8225b2",
   "metadata": {},
   "outputs": [
    {
     "data": {
      "text/plain": [
       "Index(['all_awardings', 'allow_live_comments', 'author',\n",
       "       'author_flair_css_class', 'author_flair_richtext', 'author_flair_text',\n",
       "       'author_flair_type', 'author_fullname', 'author_is_blocked',\n",
       "       'author_patreon_flair', 'author_premium', 'awarders', 'can_mod_post',\n",
       "       'contest_mode', 'created_utc', 'domain', 'full_link', 'gildings', 'id',\n",
       "       'is_created_from_ads_ui', 'is_crosspostable', 'is_meta',\n",
       "       'is_original_content', 'is_reddit_media_domain', 'is_robot_indexable',\n",
       "       'is_self', 'is_video', 'link_flair_background_color',\n",
       "       'link_flair_css_class', 'link_flair_richtext', 'link_flair_template_id',\n",
       "       'link_flair_text', 'link_flair_text_color', 'link_flair_type', 'locked',\n",
       "       'media_only', 'no_follow', 'num_comments', 'num_crossposts', 'over_18',\n",
       "       'parent_whitelist_status', 'permalink', 'pinned', 'pwls',\n",
       "       'retrieved_on', 'score', 'selftext', 'send_replies', 'spoiler',\n",
       "       'stickied', 'subreddit', 'subreddit_id', 'subreddit_subscribers',\n",
       "       'subreddit_type', 'thumbnail', 'title', 'total_awards_received',\n",
       "       'treatment_tags', 'upvote_ratio', 'url', 'whitelist_status', 'wls',\n",
       "       'post_hint', 'preview', 'removed_by_category', 'thumbnail_height',\n",
       "       'thumbnail_width', 'url_overridden_by_dest', 'gallery_data',\n",
       "       'is_gallery', 'media_metadata', 'media', 'media_embed', 'secure_media',\n",
       "       'secure_media_embed', 'crosspost_parent', 'crosspost_parent_list',\n",
       "       'author_flair_template_id', 'author_flair_text_color',\n",
       "       'author_flair_background_color', 'banned_by', 'poll_data',\n",
       "       'author_cakeday', 'suggested_sort', 'distinguished', 'call_to_action',\n",
       "       'category'],\n",
       "      dtype='object')"
      ]
     },
     "execution_count": 4,
     "metadata": {},
     "output_type": "execute_result"
    }
   ],
   "source": [
    "data.columns"
   ]
  },
  {
   "cell_type": "markdown",
   "id": "8cfb8baa-eef2-4878-bfab-98108be1acc1",
   "metadata": {},
   "source": [
    "We will choose the columns that are appropriate for our analysis"
   ]
  },
  {
   "cell_type": "code",
   "execution_count": 5,
   "id": "ba0ffcd8-a315-401c-a928-416b8e963ce4",
   "metadata": {},
   "outputs": [],
   "source": [
    "columns = ['author', 'created_utc', 'num_comments', 'title', 'selftext', 'subreddit']"
   ]
  },
  {
   "cell_type": "code",
   "execution_count": 6,
   "id": "97362b2a-66cd-4fb0-ba66-afe93823032a",
   "metadata": {},
   "outputs": [
    {
     "data": {
      "text/html": [
       "<div>\n",
       "<style scoped>\n",
       "    .dataframe tbody tr th:only-of-type {\n",
       "        vertical-align: middle;\n",
       "    }\n",
       "\n",
       "    .dataframe tbody tr th {\n",
       "        vertical-align: top;\n",
       "    }\n",
       "\n",
       "    .dataframe thead th {\n",
       "        text-align: right;\n",
       "    }\n",
       "</style>\n",
       "<table border=\"1\" class=\"dataframe\">\n",
       "  <thead>\n",
       "    <tr style=\"text-align: right;\">\n",
       "      <th></th>\n",
       "      <th>author</th>\n",
       "      <th>created_utc</th>\n",
       "      <th>num_comments</th>\n",
       "      <th>title</th>\n",
       "      <th>selftext</th>\n",
       "      <th>subreddit</th>\n",
       "    </tr>\n",
       "  </thead>\n",
       "  <tbody>\n",
       "    <tr>\n",
       "      <th>0</th>\n",
       "      <td>cobaltjay</td>\n",
       "      <td>1653377746</td>\n",
       "      <td>0</td>\n",
       "      <td>What's your favourite brand for decaf tea?</td>\n",
       "      <td>I have recently started some new medication th...</td>\n",
       "      <td>tea</td>\n",
       "    </tr>\n",
       "    <tr>\n",
       "      <th>1</th>\n",
       "      <td>kibbles16</td>\n",
       "      <td>1653372437</td>\n",
       "      <td>0</td>\n",
       "      <td>How do you make tea taste refreshing?</td>\n",
       "      <td>I love tea, especially green and jasmine tea. ...</td>\n",
       "      <td>tea</td>\n",
       "    </tr>\n",
       "    <tr>\n",
       "      <th>2</th>\n",
       "      <td>-___ari___-</td>\n",
       "      <td>1653364473</td>\n",
       "      <td>0</td>\n",
       "      <td>how is the first flush experience? is it that ...</td>\n",
       "      <td>hi, just recently getting into specialty teas,...</td>\n",
       "      <td>tea</td>\n",
       "    </tr>\n",
       "    <tr>\n",
       "      <th>3</th>\n",
       "      <td>UsernameNumberThree</td>\n",
       "      <td>1653350251</td>\n",
       "      <td>0</td>\n",
       "      <td>What are your most successful concoctions with...</td>\n",
       "      <td>I purchased some from a specialty shop in NYC....</td>\n",
       "      <td>tea</td>\n",
       "    </tr>\n",
       "    <tr>\n",
       "      <th>4</th>\n",
       "      <td>mkmkatreddit</td>\n",
       "      <td>1653336633</td>\n",
       "      <td>0</td>\n",
       "      <td>Please help, is my Yixing teapot genuine?</td>\n",
       "      <td>Hi,\\ncan someone please help me asses whether ...</td>\n",
       "      <td>tea</td>\n",
       "    </tr>\n",
       "  </tbody>\n",
       "</table>\n",
       "</div>"
      ],
      "text/plain": [
       "                author  created_utc  num_comments  \\\n",
       "0            cobaltjay   1653377746             0   \n",
       "1            kibbles16   1653372437             0   \n",
       "2          -___ari___-   1653364473             0   \n",
       "3  UsernameNumberThree   1653350251             0   \n",
       "4         mkmkatreddit   1653336633             0   \n",
       "\n",
       "                                               title  \\\n",
       "0         What's your favourite brand for decaf tea?   \n",
       "1              How do you make tea taste refreshing?   \n",
       "2  how is the first flush experience? is it that ...   \n",
       "3  What are your most successful concoctions with...   \n",
       "4          Please help, is my Yixing teapot genuine?   \n",
       "\n",
       "                                            selftext subreddit  \n",
       "0  I have recently started some new medication th...       tea  \n",
       "1  I love tea, especially green and jasmine tea. ...       tea  \n",
       "2  hi, just recently getting into specialty teas,...       tea  \n",
       "3  I purchased some from a specialty shop in NYC....       tea  \n",
       "4  Hi,\\ncan someone please help me asses whether ...       tea  "
      ]
     },
     "execution_count": 6,
     "metadata": {},
     "output_type": "execute_result"
    }
   ],
   "source": [
    "data_clean = data[columns]\n",
    "data_clean.head()"
   ]
  },
  {
   "cell_type": "code",
   "execution_count": 210,
   "id": "8ab2d5b5-c69b-4db5-b4ff-1d0654a8ab1c",
   "metadata": {},
   "outputs": [
    {
     "data": {
      "text/plain": [
       "author          0\n",
       "created_utc     0\n",
       "num_comments    0\n",
       "title           0\n",
       "selftext        0\n",
       "subreddit       0\n",
       "dtype: int64"
      ]
     },
     "execution_count": 210,
     "metadata": {},
     "output_type": "execute_result"
    }
   ],
   "source": [
    "data_clean.isnull().sum().iloc[:-3]"
   ]
  },
  {
   "cell_type": "markdown",
   "id": "8c907aed-6072-4dbb-8830-fa7b2d2ec736",
   "metadata": {},
   "source": [
    "There should be no empty cell since we have filtered them out during scraping process"
   ]
  },
  {
   "cell_type": "markdown",
   "id": "c2c490c5-a480-4592-9a90-4e56c6ee5e11",
   "metadata": {},
   "source": [
    "### - Remove Duplicates"
   ]
  },
  {
   "cell_type": "markdown",
   "id": "cf0fa9e4-3337-4e15-9f2e-3d68ab0a6a19",
   "metadata": {},
   "source": [
    "We are going to drop duplicates based on the title and selftext to avoid unnecessary noise"
   ]
  },
  {
   "cell_type": "code",
   "execution_count": 8,
   "id": "b314edb0-09af-4906-a4b7-31547c004efe",
   "metadata": {},
   "outputs": [
    {
     "name": "stderr",
     "output_type": "stream",
     "text": [
      "C:\\Users\\Adi H. Kusuma\\anaconda3\\lib\\site-packages\\pandas\\util\\_decorators.py:311: SettingWithCopyWarning: \n",
      "A value is trying to be set on a copy of a slice from a DataFrame\n",
      "\n",
      "See the caveats in the documentation: https://pandas.pydata.org/pandas-docs/stable/user_guide/indexing.html#returning-a-view-versus-a-copy\n",
      "  return func(*args, **kwargs)\n"
     ]
    }
   ],
   "source": [
    "data_clean.drop_duplicates(subset=['title', 'selftext'], keep='first', inplace=True)"
   ]
  },
  {
   "cell_type": "code",
   "execution_count": 9,
   "id": "aed32337-cdc9-45ed-a035-9224b6943eae",
   "metadata": {},
   "outputs": [
    {
     "data": {
      "text/html": [
       "<div>\n",
       "<style scoped>\n",
       "    .dataframe tbody tr th:only-of-type {\n",
       "        vertical-align: middle;\n",
       "    }\n",
       "\n",
       "    .dataframe tbody tr th {\n",
       "        vertical-align: top;\n",
       "    }\n",
       "\n",
       "    .dataframe thead th {\n",
       "        text-align: right;\n",
       "    }\n",
       "</style>\n",
       "<table border=\"1\" class=\"dataframe\">\n",
       "  <thead>\n",
       "    <tr style=\"text-align: right;\">\n",
       "      <th></th>\n",
       "      <th>author</th>\n",
       "      <th>created_utc</th>\n",
       "      <th>num_comments</th>\n",
       "      <th>title</th>\n",
       "      <th>selftext</th>\n",
       "      <th>subreddit</th>\n",
       "    </tr>\n",
       "  </thead>\n",
       "  <tbody>\n",
       "    <tr>\n",
       "      <th>0</th>\n",
       "      <td>cobaltjay</td>\n",
       "      <td>1653377746</td>\n",
       "      <td>0</td>\n",
       "      <td>What's your favourite brand for decaf tea?</td>\n",
       "      <td>I have recently started some new medication th...</td>\n",
       "      <td>tea</td>\n",
       "    </tr>\n",
       "    <tr>\n",
       "      <th>1</th>\n",
       "      <td>kibbles16</td>\n",
       "      <td>1653372437</td>\n",
       "      <td>0</td>\n",
       "      <td>How do you make tea taste refreshing?</td>\n",
       "      <td>I love tea, especially green and jasmine tea. ...</td>\n",
       "      <td>tea</td>\n",
       "    </tr>\n",
       "    <tr>\n",
       "      <th>2</th>\n",
       "      <td>-___ari___-</td>\n",
       "      <td>1653364473</td>\n",
       "      <td>0</td>\n",
       "      <td>how is the first flush experience? is it that ...</td>\n",
       "      <td>hi, just recently getting into specialty teas,...</td>\n",
       "      <td>tea</td>\n",
       "    </tr>\n",
       "    <tr>\n",
       "      <th>3</th>\n",
       "      <td>UsernameNumberThree</td>\n",
       "      <td>1653350251</td>\n",
       "      <td>0</td>\n",
       "      <td>What are your most successful concoctions with...</td>\n",
       "      <td>I purchased some from a specialty shop in NYC....</td>\n",
       "      <td>tea</td>\n",
       "    </tr>\n",
       "    <tr>\n",
       "      <th>4</th>\n",
       "      <td>mkmkatreddit</td>\n",
       "      <td>1653336633</td>\n",
       "      <td>0</td>\n",
       "      <td>Please help, is my Yixing teapot genuine?</td>\n",
       "      <td>Hi,\\ncan someone please help me asses whether ...</td>\n",
       "      <td>tea</td>\n",
       "    </tr>\n",
       "    <tr>\n",
       "      <th>...</th>\n",
       "      <td>...</td>\n",
       "      <td>...</td>\n",
       "      <td>...</td>\n",
       "      <td>...</td>\n",
       "      <td>...</td>\n",
       "      <td>...</td>\n",
       "    </tr>\n",
       "    <tr>\n",
       "      <th>2437</th>\n",
       "      <td>jack_ftw</td>\n",
       "      <td>1650038368</td>\n",
       "      <td>0</td>\n",
       "      <td>\"Work perk\" mystery bag</td>\n",
       "      <td>A friend got a bag of coffee from work as a \"p...</td>\n",
       "      <td>Coffee</td>\n",
       "    </tr>\n",
       "    <tr>\n",
       "      <th>2438</th>\n",
       "      <td>Classic_Ad9996</td>\n",
       "      <td>1650035557</td>\n",
       "      <td>0</td>\n",
       "      <td>Bonavita Carafe</td>\n",
       "      <td>I have a Bonavita 8-Cup One-Touch, with Therma...</td>\n",
       "      <td>Coffee</td>\n",
       "    </tr>\n",
       "    <tr>\n",
       "      <th>2439</th>\n",
       "      <td>ResponsibilityNo6435</td>\n",
       "      <td>1650035176</td>\n",
       "      <td>0</td>\n",
       "      <td>Favorite coffee brewing from first to last</td>\n",
       "      <td>Okay, everyone has an opinion, especially abou...</td>\n",
       "      <td>Coffee</td>\n",
       "    </tr>\n",
       "    <tr>\n",
       "      <th>2440</th>\n",
       "      <td>pnwbg</td>\n",
       "      <td>1650033804</td>\n",
       "      <td>0</td>\n",
       "      <td>Broke my Kalita Wave</td>\n",
       "      <td>I broke my glass Kalita wave the day after I r...</td>\n",
       "      <td>Coffee</td>\n",
       "    </tr>\n",
       "    <tr>\n",
       "      <th>2441</th>\n",
       "      <td>DrownedMilan</td>\n",
       "      <td>1650033416</td>\n",
       "      <td>0</td>\n",
       "      <td>When should syrup be added?</td>\n",
       "      <td>Hello, as someone who loves flavoured coffee (...</td>\n",
       "      <td>Coffee</td>\n",
       "    </tr>\n",
       "  </tbody>\n",
       "</table>\n",
       "<p>2389 rows × 6 columns</p>\n",
       "</div>"
      ],
      "text/plain": [
       "                    author  created_utc  num_comments  \\\n",
       "0                cobaltjay   1653377746             0   \n",
       "1                kibbles16   1653372437             0   \n",
       "2              -___ari___-   1653364473             0   \n",
       "3      UsernameNumberThree   1653350251             0   \n",
       "4             mkmkatreddit   1653336633             0   \n",
       "...                    ...          ...           ...   \n",
       "2437              jack_ftw   1650038368             0   \n",
       "2438        Classic_Ad9996   1650035557             0   \n",
       "2439  ResponsibilityNo6435   1650035176             0   \n",
       "2440                 pnwbg   1650033804             0   \n",
       "2441          DrownedMilan   1650033416             0   \n",
       "\n",
       "                                                  title  \\\n",
       "0            What's your favourite brand for decaf tea?   \n",
       "1                 How do you make tea taste refreshing?   \n",
       "2     how is the first flush experience? is it that ...   \n",
       "3     What are your most successful concoctions with...   \n",
       "4             Please help, is my Yixing teapot genuine?   \n",
       "...                                                 ...   \n",
       "2437                            \"Work perk\" mystery bag   \n",
       "2438                                    Bonavita Carafe   \n",
       "2439         Favorite coffee brewing from first to last   \n",
       "2440                               Broke my Kalita Wave   \n",
       "2441                        When should syrup be added?   \n",
       "\n",
       "                                               selftext subreddit  \n",
       "0     I have recently started some new medication th...       tea  \n",
       "1     I love tea, especially green and jasmine tea. ...       tea  \n",
       "2     hi, just recently getting into specialty teas,...       tea  \n",
       "3     I purchased some from a specialty shop in NYC....       tea  \n",
       "4     Hi,\\ncan someone please help me asses whether ...       tea  \n",
       "...                                                 ...       ...  \n",
       "2437  A friend got a bag of coffee from work as a \"p...    Coffee  \n",
       "2438  I have a Bonavita 8-Cup One-Touch, with Therma...    Coffee  \n",
       "2439  Okay, everyone has an opinion, especially abou...    Coffee  \n",
       "2440  I broke my glass Kalita wave the day after I r...    Coffee  \n",
       "2441  Hello, as someone who loves flavoured coffee (...    Coffee  \n",
       "\n",
       "[2389 rows x 6 columns]"
      ]
     },
     "execution_count": 9,
     "metadata": {},
     "output_type": "execute_result"
    }
   ],
   "source": [
    "data_clean"
   ]
  },
  {
   "cell_type": "markdown",
   "id": "cd29c9e9-9768-436b-9e4e-94b366e54c39",
   "metadata": {},
   "source": [
    "Remarks: 53 rows are deleted after the drop duplicates function is enacted"
   ]
  },
  {
   "cell_type": "markdown",
   "id": "26aa2f97-8edb-4bce-a1f2-2c645eda5c93",
   "metadata": {},
   "source": [
    "### - Removing Unnecessary Words from the Text"
   ]
  },
  {
   "cell_type": "markdown",
   "id": "0adf2b50-7c33-47b1-936f-ab218df878b4",
   "metadata": {},
   "source": [
    "We create new column `text` based on `title` and `selftext`columns"
   ]
  },
  {
   "cell_type": "code",
   "execution_count": 10,
   "id": "85bf49da-0485-408f-a445-6fa947db62f6",
   "metadata": {},
   "outputs": [
    {
     "name": "stderr",
     "output_type": "stream",
     "text": [
      "C:\\Users\\ADIH~1.KUS\\AppData\\Local\\Temp/ipykernel_24392/584891190.py:1: SettingWithCopyWarning: \n",
      "A value is trying to be set on a copy of a slice from a DataFrame.\n",
      "Try using .loc[row_indexer,col_indexer] = value instead\n",
      "\n",
      "See the caveats in the documentation: https://pandas.pydata.org/pandas-docs/stable/user_guide/indexing.html#returning-a-view-versus-a-copy\n",
      "  data_clean['text'] = data_clean['title'] + ' ' + data_clean['selftext']\n"
     ]
    }
   ],
   "source": [
    "data_clean['text'] = data_clean['title'] + ' ' + data_clean['selftext']"
   ]
  },
  {
   "cell_type": "code",
   "execution_count": 11,
   "id": "8a2a5489-b6bc-493a-b389-6edb890ab303",
   "metadata": {},
   "outputs": [
    {
     "data": {
      "text/html": [
       "<div>\n",
       "<style scoped>\n",
       "    .dataframe tbody tr th:only-of-type {\n",
       "        vertical-align: middle;\n",
       "    }\n",
       "\n",
       "    .dataframe tbody tr th {\n",
       "        vertical-align: top;\n",
       "    }\n",
       "\n",
       "    .dataframe thead th {\n",
       "        text-align: right;\n",
       "    }\n",
       "</style>\n",
       "<table border=\"1\" class=\"dataframe\">\n",
       "  <thead>\n",
       "    <tr style=\"text-align: right;\">\n",
       "      <th></th>\n",
       "      <th>author</th>\n",
       "      <th>created_utc</th>\n",
       "      <th>num_comments</th>\n",
       "      <th>title</th>\n",
       "      <th>selftext</th>\n",
       "      <th>subreddit</th>\n",
       "      <th>text</th>\n",
       "    </tr>\n",
       "  </thead>\n",
       "  <tbody>\n",
       "    <tr>\n",
       "      <th>0</th>\n",
       "      <td>cobaltjay</td>\n",
       "      <td>1653377746</td>\n",
       "      <td>0</td>\n",
       "      <td>What's your favourite brand for decaf tea?</td>\n",
       "      <td>I have recently started some new medication th...</td>\n",
       "      <td>tea</td>\n",
       "      <td>What's your favourite brand for decaf tea? I h...</td>\n",
       "    </tr>\n",
       "    <tr>\n",
       "      <th>1</th>\n",
       "      <td>kibbles16</td>\n",
       "      <td>1653372437</td>\n",
       "      <td>0</td>\n",
       "      <td>How do you make tea taste refreshing?</td>\n",
       "      <td>I love tea, especially green and jasmine tea. ...</td>\n",
       "      <td>tea</td>\n",
       "      <td>How do you make tea taste refreshing? I love t...</td>\n",
       "    </tr>\n",
       "    <tr>\n",
       "      <th>2</th>\n",
       "      <td>-___ari___-</td>\n",
       "      <td>1653364473</td>\n",
       "      <td>0</td>\n",
       "      <td>how is the first flush experience? is it that ...</td>\n",
       "      <td>hi, just recently getting into specialty teas,...</td>\n",
       "      <td>tea</td>\n",
       "      <td>how is the first flush experience? is it that ...</td>\n",
       "    </tr>\n",
       "    <tr>\n",
       "      <th>3</th>\n",
       "      <td>UsernameNumberThree</td>\n",
       "      <td>1653350251</td>\n",
       "      <td>0</td>\n",
       "      <td>What are your most successful concoctions with...</td>\n",
       "      <td>I purchased some from a specialty shop in NYC....</td>\n",
       "      <td>tea</td>\n",
       "      <td>What are your most successful concoctions with...</td>\n",
       "    </tr>\n",
       "    <tr>\n",
       "      <th>4</th>\n",
       "      <td>mkmkatreddit</td>\n",
       "      <td>1653336633</td>\n",
       "      <td>0</td>\n",
       "      <td>Please help, is my Yixing teapot genuine?</td>\n",
       "      <td>Hi,\\ncan someone please help me asses whether ...</td>\n",
       "      <td>tea</td>\n",
       "      <td>Please help, is my Yixing teapot genuine? Hi,\\...</td>\n",
       "    </tr>\n",
       "    <tr>\n",
       "      <th>...</th>\n",
       "      <td>...</td>\n",
       "      <td>...</td>\n",
       "      <td>...</td>\n",
       "      <td>...</td>\n",
       "      <td>...</td>\n",
       "      <td>...</td>\n",
       "      <td>...</td>\n",
       "    </tr>\n",
       "    <tr>\n",
       "      <th>2437</th>\n",
       "      <td>jack_ftw</td>\n",
       "      <td>1650038368</td>\n",
       "      <td>0</td>\n",
       "      <td>\"Work perk\" mystery bag</td>\n",
       "      <td>A friend got a bag of coffee from work as a \"p...</td>\n",
       "      <td>Coffee</td>\n",
       "      <td>\"Work perk\" mystery bag A friend got a bag of ...</td>\n",
       "    </tr>\n",
       "    <tr>\n",
       "      <th>2438</th>\n",
       "      <td>Classic_Ad9996</td>\n",
       "      <td>1650035557</td>\n",
       "      <td>0</td>\n",
       "      <td>Bonavita Carafe</td>\n",
       "      <td>I have a Bonavita 8-Cup One-Touch, with Therma...</td>\n",
       "      <td>Coffee</td>\n",
       "      <td>Bonavita Carafe I have a Bonavita 8-Cup One-To...</td>\n",
       "    </tr>\n",
       "    <tr>\n",
       "      <th>2439</th>\n",
       "      <td>ResponsibilityNo6435</td>\n",
       "      <td>1650035176</td>\n",
       "      <td>0</td>\n",
       "      <td>Favorite coffee brewing from first to last</td>\n",
       "      <td>Okay, everyone has an opinion, especially abou...</td>\n",
       "      <td>Coffee</td>\n",
       "      <td>Favorite coffee brewing from first to last Oka...</td>\n",
       "    </tr>\n",
       "    <tr>\n",
       "      <th>2440</th>\n",
       "      <td>pnwbg</td>\n",
       "      <td>1650033804</td>\n",
       "      <td>0</td>\n",
       "      <td>Broke my Kalita Wave</td>\n",
       "      <td>I broke my glass Kalita wave the day after I r...</td>\n",
       "      <td>Coffee</td>\n",
       "      <td>Broke my Kalita Wave I broke my glass Kalita w...</td>\n",
       "    </tr>\n",
       "    <tr>\n",
       "      <th>2441</th>\n",
       "      <td>DrownedMilan</td>\n",
       "      <td>1650033416</td>\n",
       "      <td>0</td>\n",
       "      <td>When should syrup be added?</td>\n",
       "      <td>Hello, as someone who loves flavoured coffee (...</td>\n",
       "      <td>Coffee</td>\n",
       "      <td>When should syrup be added? Hello, as someone ...</td>\n",
       "    </tr>\n",
       "  </tbody>\n",
       "</table>\n",
       "<p>2389 rows × 7 columns</p>\n",
       "</div>"
      ],
      "text/plain": [
       "                    author  created_utc  num_comments  \\\n",
       "0                cobaltjay   1653377746             0   \n",
       "1                kibbles16   1653372437             0   \n",
       "2              -___ari___-   1653364473             0   \n",
       "3      UsernameNumberThree   1653350251             0   \n",
       "4             mkmkatreddit   1653336633             0   \n",
       "...                    ...          ...           ...   \n",
       "2437              jack_ftw   1650038368             0   \n",
       "2438        Classic_Ad9996   1650035557             0   \n",
       "2439  ResponsibilityNo6435   1650035176             0   \n",
       "2440                 pnwbg   1650033804             0   \n",
       "2441          DrownedMilan   1650033416             0   \n",
       "\n",
       "                                                  title  \\\n",
       "0            What's your favourite brand for decaf tea?   \n",
       "1                 How do you make tea taste refreshing?   \n",
       "2     how is the first flush experience? is it that ...   \n",
       "3     What are your most successful concoctions with...   \n",
       "4             Please help, is my Yixing teapot genuine?   \n",
       "...                                                 ...   \n",
       "2437                            \"Work perk\" mystery bag   \n",
       "2438                                    Bonavita Carafe   \n",
       "2439         Favorite coffee brewing from first to last   \n",
       "2440                               Broke my Kalita Wave   \n",
       "2441                        When should syrup be added?   \n",
       "\n",
       "                                               selftext subreddit  \\\n",
       "0     I have recently started some new medication th...       tea   \n",
       "1     I love tea, especially green and jasmine tea. ...       tea   \n",
       "2     hi, just recently getting into specialty teas,...       tea   \n",
       "3     I purchased some from a specialty shop in NYC....       tea   \n",
       "4     Hi,\\ncan someone please help me asses whether ...       tea   \n",
       "...                                                 ...       ...   \n",
       "2437  A friend got a bag of coffee from work as a \"p...    Coffee   \n",
       "2438  I have a Bonavita 8-Cup One-Touch, with Therma...    Coffee   \n",
       "2439  Okay, everyone has an opinion, especially abou...    Coffee   \n",
       "2440  I broke my glass Kalita wave the day after I r...    Coffee   \n",
       "2441  Hello, as someone who loves flavoured coffee (...    Coffee   \n",
       "\n",
       "                                                   text  \n",
       "0     What's your favourite brand for decaf tea? I h...  \n",
       "1     How do you make tea taste refreshing? I love t...  \n",
       "2     how is the first flush experience? is it that ...  \n",
       "3     What are your most successful concoctions with...  \n",
       "4     Please help, is my Yixing teapot genuine? Hi,\\...  \n",
       "...                                                 ...  \n",
       "2437  \"Work perk\" mystery bag A friend got a bag of ...  \n",
       "2438  Bonavita Carafe I have a Bonavita 8-Cup One-To...  \n",
       "2439  Favorite coffee brewing from first to last Oka...  \n",
       "2440  Broke my Kalita Wave I broke my glass Kalita w...  \n",
       "2441  When should syrup be added? Hello, as someone ...  \n",
       "\n",
       "[2389 rows x 7 columns]"
      ]
     },
     "execution_count": 11,
     "metadata": {},
     "output_type": "execute_result"
    }
   ],
   "source": [
    "data_clean"
   ]
  },
  {
   "cell_type": "markdown",
   "id": "f7464b76-47ab-413f-bf1e-88bf2a06d19c",
   "metadata": {},
   "source": [
    "The `text` column is filtered through if there is any http/www address or any html punctuation"
   ]
  },
  {
   "cell_type": "code",
   "execution_count": 12,
   "id": "08573cfa-eea3-4932-82d8-2a2548d9764f",
   "metadata": {},
   "outputs": [
    {
     "name": "stderr",
     "output_type": "stream",
     "text": [
      "C:\\Users\\ADIH~1.KUS\\AppData\\Local\\Temp/ipykernel_24392/1296742667.py:1: SettingWithCopyWarning: \n",
      "A value is trying to be set on a copy of a slice from a DataFrame.\n",
      "Try using .loc[row_indexer,col_indexer] = value instead\n",
      "\n",
      "See the caveats in the documentation: https://pandas.pydata.org/pandas-docs/stable/user_guide/indexing.html#returning-a-view-versus-a-copy\n",
      "  data_clean['text']  = data_clean['text'].str.replace(r'http.+', '', regex=True)\n",
      "C:\\Users\\ADIH~1.KUS\\AppData\\Local\\Temp/ipykernel_24392/1296742667.py:2: SettingWithCopyWarning: \n",
      "A value is trying to be set on a copy of a slice from a DataFrame.\n",
      "Try using .loc[row_indexer,col_indexer] = value instead\n",
      "\n",
      "See the caveats in the documentation: https://pandas.pydata.org/pandas-docs/stable/user_guide/indexing.html#returning-a-view-versus-a-copy\n",
      "  data_clean['text']  = data_clean['text'].str.replace(r'www.+', '', regex=True)\n",
      "C:\\Users\\ADIH~1.KUS\\AppData\\Local\\Temp/ipykernel_24392/1296742667.py:3: SettingWithCopyWarning: \n",
      "A value is trying to be set on a copy of a slice from a DataFrame.\n",
      "Try using .loc[row_indexer,col_indexer] = value instead\n",
      "\n",
      "See the caveats in the documentation: https://pandas.pydata.org/pandas-docs/stable/user_guide/indexing.html#returning-a-view-versus-a-copy\n",
      "  data_clean['text']  = data_clean['text'].str.replace('\\n', ' ')\n",
      "C:\\Users\\ADIH~1.KUS\\AppData\\Local\\Temp/ipykernel_24392/1296742667.py:4: SettingWithCopyWarning: \n",
      "A value is trying to be set on a copy of a slice from a DataFrame.\n",
      "Try using .loc[row_indexer,col_indexer] = value instead\n",
      "\n",
      "See the caveats in the documentation: https://pandas.pydata.org/pandas-docs/stable/user_guide/indexing.html#returning-a-view-versus-a-copy\n",
      "  data_clean['text']  = data_clean['text'].str.replace('&#x200b', ' ')\n",
      "C:\\Users\\ADIH~1.KUS\\AppData\\Local\\Temp/ipykernel_24392/1296742667.py:5: SettingWithCopyWarning: \n",
      "A value is trying to be set on a copy of a slice from a DataFrame.\n",
      "Try using .loc[row_indexer,col_indexer] = value instead\n",
      "\n",
      "See the caveats in the documentation: https://pandas.pydata.org/pandas-docs/stable/user_guide/indexing.html#returning-a-view-versus-a-copy\n",
      "  data_clean['text']  = data_clean['text'].str.replace('&amp;', ' ')\n"
     ]
    }
   ],
   "source": [
    "data_clean['text']  = data_clean['text'].str.replace(r'http.+', '', regex=True)\n",
    "data_clean['text']  = data_clean['text'].str.replace(r'www.+', '', regex=True)\n",
    "data_clean['text']  = data_clean['text'].str.replace('\\n', ' ')\n",
    "data_clean['text']  = data_clean['text'].str.replace('&#x200b', ' ')\n",
    "data_clean['text']  = data_clean['text'].str.replace('&amp;', ' ')"
   ]
  },
  {
   "cell_type": "code",
   "execution_count": 13,
   "id": "65230526-dbd7-488f-80d7-e79895ab99df",
   "metadata": {},
   "outputs": [
    {
     "data": {
      "text/plain": [
       "0"
      ]
     },
     "execution_count": 13,
     "metadata": {},
     "output_type": "execute_result"
    }
   ],
   "source": [
    "len(data_clean[data_clean['text'] == ''])"
   ]
  },
  {
   "cell_type": "markdown",
   "id": "4d522307-06d5-415c-9ee3-6c560cb596ca",
   "metadata": {},
   "source": [
    "There are no empty text in the dataset, we will move on to next step"
   ]
  },
  {
   "cell_type": "code",
   "execution_count": 14,
   "id": "a9a2b68b-6dbd-4b1b-b5db-7f09ce2dd5cf",
   "metadata": {},
   "outputs": [
    {
     "data": {
      "text/html": [
       "<div>\n",
       "<style scoped>\n",
       "    .dataframe tbody tr th:only-of-type {\n",
       "        vertical-align: middle;\n",
       "    }\n",
       "\n",
       "    .dataframe tbody tr th {\n",
       "        vertical-align: top;\n",
       "    }\n",
       "\n",
       "    .dataframe thead th {\n",
       "        text-align: right;\n",
       "    }\n",
       "</style>\n",
       "<table border=\"1\" class=\"dataframe\">\n",
       "  <thead>\n",
       "    <tr style=\"text-align: right;\">\n",
       "      <th></th>\n",
       "      <th>author</th>\n",
       "      <th>created_utc</th>\n",
       "      <th>num_comments</th>\n",
       "      <th>title</th>\n",
       "      <th>selftext</th>\n",
       "      <th>subreddit</th>\n",
       "      <th>text</th>\n",
       "    </tr>\n",
       "  </thead>\n",
       "  <tbody>\n",
       "    <tr>\n",
       "      <th>0</th>\n",
       "      <td>cobaltjay</td>\n",
       "      <td>1653377746</td>\n",
       "      <td>0</td>\n",
       "      <td>What's your favourite brand for decaf tea?</td>\n",
       "      <td>I have recently started some new medication th...</td>\n",
       "      <td>tea</td>\n",
       "      <td>What's your favourite brand for decaf tea? I h...</td>\n",
       "    </tr>\n",
       "    <tr>\n",
       "      <th>1</th>\n",
       "      <td>kibbles16</td>\n",
       "      <td>1653372437</td>\n",
       "      <td>0</td>\n",
       "      <td>How do you make tea taste refreshing?</td>\n",
       "      <td>I love tea, especially green and jasmine tea. ...</td>\n",
       "      <td>tea</td>\n",
       "      <td>How do you make tea taste refreshing? I love t...</td>\n",
       "    </tr>\n",
       "    <tr>\n",
       "      <th>2</th>\n",
       "      <td>-___ari___-</td>\n",
       "      <td>1653364473</td>\n",
       "      <td>0</td>\n",
       "      <td>how is the first flush experience? is it that ...</td>\n",
       "      <td>hi, just recently getting into specialty teas,...</td>\n",
       "      <td>tea</td>\n",
       "      <td>how is the first flush experience? is it that ...</td>\n",
       "    </tr>\n",
       "    <tr>\n",
       "      <th>3</th>\n",
       "      <td>UsernameNumberThree</td>\n",
       "      <td>1653350251</td>\n",
       "      <td>0</td>\n",
       "      <td>What are your most successful concoctions with...</td>\n",
       "      <td>I purchased some from a specialty shop in NYC....</td>\n",
       "      <td>tea</td>\n",
       "      <td>What are your most successful concoctions with...</td>\n",
       "    </tr>\n",
       "    <tr>\n",
       "      <th>4</th>\n",
       "      <td>mkmkatreddit</td>\n",
       "      <td>1653336633</td>\n",
       "      <td>0</td>\n",
       "      <td>Please help, is my Yixing teapot genuine?</td>\n",
       "      <td>Hi,\\ncan someone please help me asses whether ...</td>\n",
       "      <td>tea</td>\n",
       "      <td>Please help, is my Yixing teapot genuine? Hi, ...</td>\n",
       "    </tr>\n",
       "    <tr>\n",
       "      <th>...</th>\n",
       "      <td>...</td>\n",
       "      <td>...</td>\n",
       "      <td>...</td>\n",
       "      <td>...</td>\n",
       "      <td>...</td>\n",
       "      <td>...</td>\n",
       "      <td>...</td>\n",
       "    </tr>\n",
       "    <tr>\n",
       "      <th>2437</th>\n",
       "      <td>jack_ftw</td>\n",
       "      <td>1650038368</td>\n",
       "      <td>0</td>\n",
       "      <td>\"Work perk\" mystery bag</td>\n",
       "      <td>A friend got a bag of coffee from work as a \"p...</td>\n",
       "      <td>Coffee</td>\n",
       "      <td>\"Work perk\" mystery bag A friend got a bag of ...</td>\n",
       "    </tr>\n",
       "    <tr>\n",
       "      <th>2438</th>\n",
       "      <td>Classic_Ad9996</td>\n",
       "      <td>1650035557</td>\n",
       "      <td>0</td>\n",
       "      <td>Bonavita Carafe</td>\n",
       "      <td>I have a Bonavita 8-Cup One-Touch, with Therma...</td>\n",
       "      <td>Coffee</td>\n",
       "      <td>Bonavita Carafe I have a Bonavita 8-Cup One-To...</td>\n",
       "    </tr>\n",
       "    <tr>\n",
       "      <th>2439</th>\n",
       "      <td>ResponsibilityNo6435</td>\n",
       "      <td>1650035176</td>\n",
       "      <td>0</td>\n",
       "      <td>Favorite coffee brewing from first to last</td>\n",
       "      <td>Okay, everyone has an opinion, especially abou...</td>\n",
       "      <td>Coffee</td>\n",
       "      <td>Favorite coffee brewing from first to last Oka...</td>\n",
       "    </tr>\n",
       "    <tr>\n",
       "      <th>2440</th>\n",
       "      <td>pnwbg</td>\n",
       "      <td>1650033804</td>\n",
       "      <td>0</td>\n",
       "      <td>Broke my Kalita Wave</td>\n",
       "      <td>I broke my glass Kalita wave the day after I r...</td>\n",
       "      <td>Coffee</td>\n",
       "      <td>Broke my Kalita Wave I broke my glass Kalita w...</td>\n",
       "    </tr>\n",
       "    <tr>\n",
       "      <th>2441</th>\n",
       "      <td>DrownedMilan</td>\n",
       "      <td>1650033416</td>\n",
       "      <td>0</td>\n",
       "      <td>When should syrup be added?</td>\n",
       "      <td>Hello, as someone who loves flavoured coffee (...</td>\n",
       "      <td>Coffee</td>\n",
       "      <td>When should syrup be added? Hello, as someone ...</td>\n",
       "    </tr>\n",
       "  </tbody>\n",
       "</table>\n",
       "<p>2389 rows × 7 columns</p>\n",
       "</div>"
      ],
      "text/plain": [
       "                    author  created_utc  num_comments  \\\n",
       "0                cobaltjay   1653377746             0   \n",
       "1                kibbles16   1653372437             0   \n",
       "2              -___ari___-   1653364473             0   \n",
       "3      UsernameNumberThree   1653350251             0   \n",
       "4             mkmkatreddit   1653336633             0   \n",
       "...                    ...          ...           ...   \n",
       "2437              jack_ftw   1650038368             0   \n",
       "2438        Classic_Ad9996   1650035557             0   \n",
       "2439  ResponsibilityNo6435   1650035176             0   \n",
       "2440                 pnwbg   1650033804             0   \n",
       "2441          DrownedMilan   1650033416             0   \n",
       "\n",
       "                                                  title  \\\n",
       "0            What's your favourite brand for decaf tea?   \n",
       "1                 How do you make tea taste refreshing?   \n",
       "2     how is the first flush experience? is it that ...   \n",
       "3     What are your most successful concoctions with...   \n",
       "4             Please help, is my Yixing teapot genuine?   \n",
       "...                                                 ...   \n",
       "2437                            \"Work perk\" mystery bag   \n",
       "2438                                    Bonavita Carafe   \n",
       "2439         Favorite coffee brewing from first to last   \n",
       "2440                               Broke my Kalita Wave   \n",
       "2441                        When should syrup be added?   \n",
       "\n",
       "                                               selftext subreddit  \\\n",
       "0     I have recently started some new medication th...       tea   \n",
       "1     I love tea, especially green and jasmine tea. ...       tea   \n",
       "2     hi, just recently getting into specialty teas,...       tea   \n",
       "3     I purchased some from a specialty shop in NYC....       tea   \n",
       "4     Hi,\\ncan someone please help me asses whether ...       tea   \n",
       "...                                                 ...       ...   \n",
       "2437  A friend got a bag of coffee from work as a \"p...    Coffee   \n",
       "2438  I have a Bonavita 8-Cup One-Touch, with Therma...    Coffee   \n",
       "2439  Okay, everyone has an opinion, especially abou...    Coffee   \n",
       "2440  I broke my glass Kalita wave the day after I r...    Coffee   \n",
       "2441  Hello, as someone who loves flavoured coffee (...    Coffee   \n",
       "\n",
       "                                                   text  \n",
       "0     What's your favourite brand for decaf tea? I h...  \n",
       "1     How do you make tea taste refreshing? I love t...  \n",
       "2     how is the first flush experience? is it that ...  \n",
       "3     What are your most successful concoctions with...  \n",
       "4     Please help, is my Yixing teapot genuine? Hi, ...  \n",
       "...                                                 ...  \n",
       "2437  \"Work perk\" mystery bag A friend got a bag of ...  \n",
       "2438  Bonavita Carafe I have a Bonavita 8-Cup One-To...  \n",
       "2439  Favorite coffee brewing from first to last Oka...  \n",
       "2440  Broke my Kalita Wave I broke my glass Kalita w...  \n",
       "2441  When should syrup be added? Hello, as someone ...  \n",
       "\n",
       "[2389 rows x 7 columns]"
      ]
     },
     "execution_count": 14,
     "metadata": {},
     "output_type": "execute_result"
    }
   ],
   "source": [
    "data_clean"
   ]
  },
  {
   "cell_type": "markdown",
   "id": "bc2bc011-31ef-4fe7-aea5-680114ef05f2",
   "metadata": {},
   "source": [
    "## 3. Exploratory Data Analysis"
   ]
  },
  {
   "cell_type": "markdown",
   "id": "db8b6358-b595-43f0-b59d-52b4406b3557",
   "metadata": {},
   "source": [
    "In this stage, we explored the data based on the number of comments as well as the text of each posts. The texts were analysed using CountVectorizer and TfidfVectorizer based on the unigram, bigram and tigram. After the first analysis, we found some posts from the moderator and decided to remove them. Some new stopwords were also added to have a better understanding of the data. The newly cleaned dataset was analysed again to check for the top word indicator"
   ]
  },
  {
   "cell_type": "markdown",
   "id": "39268470-55ed-433d-af0c-20540a8f8c5a",
   "metadata": {},
   "source": [
    "### - Number of Comments"
   ]
  },
  {
   "cell_type": "markdown",
   "id": "b46fad9e-e773-4ae3-96e3-42e9b1aa3c76",
   "metadata": {},
   "source": [
    "The number of comments were grouped by the subreddit for analysis"
   ]
  },
  {
   "cell_type": "code",
   "execution_count": 15,
   "id": "00bf7bd4-c2e2-447e-af80-55e92bc086ac",
   "metadata": {},
   "outputs": [],
   "source": [
    "group = data_clean.groupby(by='subreddit')"
   ]
  },
  {
   "cell_type": "code",
   "execution_count": 16,
   "id": "436d3c8e-6126-472a-9313-fc240764183c",
   "metadata": {},
   "outputs": [
    {
     "data": {
      "text/plain": [
       "subreddit\n",
       "Coffee      2\n",
       "tea       597\n",
       "Name: num_comments, dtype: int64"
      ]
     },
     "execution_count": 16,
     "metadata": {},
     "output_type": "execute_result"
    }
   ],
   "source": [
    "group['num_comments'].sum()"
   ]
  },
  {
   "cell_type": "code",
   "execution_count": 205,
   "id": "ad94c520-7aab-4ca5-9115-b6a485966583",
   "metadata": {},
   "outputs": [
    {
     "data": {
      "text/plain": [
       "<matplotlib.legend.Legend at 0x1da755d6df0>"
      ]
     },
     "execution_count": 205,
     "metadata": {},
     "output_type": "execute_result"
    },
    {
     "data": {
      "image/png": "[encoded data removed]",
      "text/plain": [
       "<Figure size 720x432 with 1 Axes>"
      ]
     },
     "metadata": {
      "needs_background": "light"
     },
     "output_type": "display_data"
    }
   ],
   "source": [
    "group['num_comments'].plot(kind='hist', bins=40, figsize=(10,6))\n",
    "\n",
    "plt.title('Histogram of Number of Comments Per Post')\n",
    "plt.xlabel('Number of comments')\n",
    "plt.legend(['r/Coffee','r/tea'])"
   ]
  },
  {
   "cell_type": "markdown",
   "id": "8a045cf1-1fde-45d7-82cb-e0ebffd25420",
   "metadata": {},
   "source": [
    "Observation: The r/tea subreddit clearly have more comments compared to r/Coffee subreddit. This may implies that the posts in r/tea subreddit tends to be discussion thus the number of comments found are bigger than the r/Coffee subreddit"
   ]
  },
  {
   "cell_type": "markdown",
   "id": "24e81643-b3d5-4193-b552-d01cf08031ea",
   "metadata": {},
   "source": [
    "### - Text"
   ]
  },
  {
   "cell_type": "markdown",
   "id": "20c0a190-a270-4f2c-9b15-cf61b49ee6df",
   "metadata": {},
   "source": [
    "The texts were analysed using CountVectorizer and TfidfVectorizer. Before inputting the columns to the transformer model, the texts were further filter by removing the punctuation, tokenization and lemmatization in order for the model to have a better dataset that is easily interpreted."
   ]
  },
  {
   "cell_type": "markdown",
   "id": "957a4f97-a56a-476b-9d00-0c0949afaddc",
   "metadata": {},
   "source": [
    "Let's convert the subreddit into binary labels:\n",
    "- tea : 0\n",
    "- coffee : 1"
   ]
  },
  {
   "cell_type": "code",
   "execution_count": 23,
   "id": "73bd696b-3269-42d8-874e-e3148b568a79",
   "metadata": {},
   "outputs": [
    {
     "name": "stderr",
     "output_type": "stream",
     "text": [
      "C:\\Users\\ADIH~1.KUS\\AppData\\Local\\Temp/ipykernel_24392/58976592.py:1: SettingWithCopyWarning: \n",
      "A value is trying to be set on a copy of a slice from a DataFrame.\n",
      "Try using .loc[row_indexer,col_indexer] = value instead\n",
      "\n",
      "See the caveats in the documentation: https://pandas.pydata.org/pandas-docs/stable/user_guide/indexing.html#returning-a-view-versus-a-copy\n",
      "  data_clean['subreddit'] = data_clean['subreddit'].map({'tea':0, 'Coffee':1})\n"
     ]
    }
   ],
   "source": [
    "data_clean['subreddit'] = data_clean['subreddit'].map({'tea':0, 'Coffee':1})"
   ]
  },
  {
   "cell_type": "code",
   "execution_count": 24,
   "id": "b095bd62-6b43-4a45-9339-3ddce62ebf67",
   "metadata": {},
   "outputs": [
    {
     "data": {
      "text/html": [
       "<div>\n",
       "<style scoped>\n",
       "    .dataframe tbody tr th:only-of-type {\n",
       "        vertical-align: middle;\n",
       "    }\n",
       "\n",
       "    .dataframe tbody tr th {\n",
       "        vertical-align: top;\n",
       "    }\n",
       "\n",
       "    .dataframe thead th {\n",
       "        text-align: right;\n",
       "    }\n",
       "</style>\n",
       "<table border=\"1\" class=\"dataframe\">\n",
       "  <thead>\n",
       "    <tr style=\"text-align: right;\">\n",
       "      <th></th>\n",
       "      <th>author</th>\n",
       "      <th>created_utc</th>\n",
       "      <th>num_comments</th>\n",
       "      <th>title</th>\n",
       "      <th>selftext</th>\n",
       "      <th>subreddit</th>\n",
       "      <th>text</th>\n",
       "    </tr>\n",
       "  </thead>\n",
       "  <tbody>\n",
       "    <tr>\n",
       "      <th>0</th>\n",
       "      <td>cobaltjay</td>\n",
       "      <td>1653377746</td>\n",
       "      <td>0</td>\n",
       "      <td>What's your favourite brand for decaf tea?</td>\n",
       "      <td>I have recently started some new medication th...</td>\n",
       "      <td>0</td>\n",
       "      <td>What's your favourite brand for decaf tea? I h...</td>\n",
       "    </tr>\n",
       "    <tr>\n",
       "      <th>1</th>\n",
       "      <td>kibbles16</td>\n",
       "      <td>1653372437</td>\n",
       "      <td>0</td>\n",
       "      <td>How do you make tea taste refreshing?</td>\n",
       "      <td>I love tea, especially green and jasmine tea. ...</td>\n",
       "      <td>0</td>\n",
       "      <td>How do you make tea taste refreshing? I love t...</td>\n",
       "    </tr>\n",
       "    <tr>\n",
       "      <th>2</th>\n",
       "      <td>-___ari___-</td>\n",
       "      <td>1653364473</td>\n",
       "      <td>0</td>\n",
       "      <td>how is the first flush experience? is it that ...</td>\n",
       "      <td>hi, just recently getting into specialty teas,...</td>\n",
       "      <td>0</td>\n",
       "      <td>how is the first flush experience? is it that ...</td>\n",
       "    </tr>\n",
       "    <tr>\n",
       "      <th>3</th>\n",
       "      <td>UsernameNumberThree</td>\n",
       "      <td>1653350251</td>\n",
       "      <td>0</td>\n",
       "      <td>What are your most successful concoctions with...</td>\n",
       "      <td>I purchased some from a specialty shop in NYC....</td>\n",
       "      <td>0</td>\n",
       "      <td>What are your most successful concoctions with...</td>\n",
       "    </tr>\n",
       "    <tr>\n",
       "      <th>4</th>\n",
       "      <td>mkmkatreddit</td>\n",
       "      <td>1653336633</td>\n",
       "      <td>0</td>\n",
       "      <td>Please help, is my Yixing teapot genuine?</td>\n",
       "      <td>Hi,\\ncan someone please help me asses whether ...</td>\n",
       "      <td>0</td>\n",
       "      <td>Please help, is my Yixing teapot genuine? Hi, ...</td>\n",
       "    </tr>\n",
       "    <tr>\n",
       "      <th>...</th>\n",
       "      <td>...</td>\n",
       "      <td>...</td>\n",
       "      <td>...</td>\n",
       "      <td>...</td>\n",
       "      <td>...</td>\n",
       "      <td>...</td>\n",
       "      <td>...</td>\n",
       "    </tr>\n",
       "    <tr>\n",
       "      <th>2437</th>\n",
       "      <td>jack_ftw</td>\n",
       "      <td>1650038368</td>\n",
       "      <td>0</td>\n",
       "      <td>\"Work perk\" mystery bag</td>\n",
       "      <td>A friend got a bag of coffee from work as a \"p...</td>\n",
       "      <td>1</td>\n",
       "      <td>\"Work perk\" mystery bag A friend got a bag of ...</td>\n",
       "    </tr>\n",
       "    <tr>\n",
       "      <th>2438</th>\n",
       "      <td>Classic_Ad9996</td>\n",
       "      <td>1650035557</td>\n",
       "      <td>0</td>\n",
       "      <td>Bonavita Carafe</td>\n",
       "      <td>I have a Bonavita 8-Cup One-Touch, with Therma...</td>\n",
       "      <td>1</td>\n",
       "      <td>Bonavita Carafe I have a Bonavita 8-Cup One-To...</td>\n",
       "    </tr>\n",
       "    <tr>\n",
       "      <th>2439</th>\n",
       "      <td>ResponsibilityNo6435</td>\n",
       "      <td>1650035176</td>\n",
       "      <td>0</td>\n",
       "      <td>Favorite coffee brewing from first to last</td>\n",
       "      <td>Okay, everyone has an opinion, especially abou...</td>\n",
       "      <td>1</td>\n",
       "      <td>Favorite coffee brewing from first to last Oka...</td>\n",
       "    </tr>\n",
       "    <tr>\n",
       "      <th>2440</th>\n",
       "      <td>pnwbg</td>\n",
       "      <td>1650033804</td>\n",
       "      <td>0</td>\n",
       "      <td>Broke my Kalita Wave</td>\n",
       "      <td>I broke my glass Kalita wave the day after I r...</td>\n",
       "      <td>1</td>\n",
       "      <td>Broke my Kalita Wave I broke my glass Kalita w...</td>\n",
       "    </tr>\n",
       "    <tr>\n",
       "      <th>2441</th>\n",
       "      <td>DrownedMilan</td>\n",
       "      <td>1650033416</td>\n",
       "      <td>0</td>\n",
       "      <td>When should syrup be added?</td>\n",
       "      <td>Hello, as someone who loves flavoured coffee (...</td>\n",
       "      <td>1</td>\n",
       "      <td>When should syrup be added? Hello, as someone ...</td>\n",
       "    </tr>\n",
       "  </tbody>\n",
       "</table>\n",
       "<p>2389 rows × 7 columns</p>\n",
       "</div>"
      ],
      "text/plain": [
       "                    author  created_utc  num_comments  \\\n",
       "0                cobaltjay   1653377746             0   \n",
       "1                kibbles16   1653372437             0   \n",
       "2              -___ari___-   1653364473             0   \n",
       "3      UsernameNumberThree   1653350251             0   \n",
       "4             mkmkatreddit   1653336633             0   \n",
       "...                    ...          ...           ...   \n",
       "2437              jack_ftw   1650038368             0   \n",
       "2438        Classic_Ad9996   1650035557             0   \n",
       "2439  ResponsibilityNo6435   1650035176             0   \n",
       "2440                 pnwbg   1650033804             0   \n",
       "2441          DrownedMilan   1650033416             0   \n",
       "\n",
       "                                                  title  \\\n",
       "0            What's your favourite brand for decaf tea?   \n",
       "1                 How do you make tea taste refreshing?   \n",
       "2     how is the first flush experience? is it that ...   \n",
       "3     What are your most successful concoctions with...   \n",
       "4             Please help, is my Yixing teapot genuine?   \n",
       "...                                                 ...   \n",
       "2437                            \"Work perk\" mystery bag   \n",
       "2438                                    Bonavita Carafe   \n",
       "2439         Favorite coffee brewing from first to last   \n",
       "2440                               Broke my Kalita Wave   \n",
       "2441                        When should syrup be added?   \n",
       "\n",
       "                                               selftext  subreddit  \\\n",
       "0     I have recently started some new medication th...          0   \n",
       "1     I love tea, especially green and jasmine tea. ...          0   \n",
       "2     hi, just recently getting into specialty teas,...          0   \n",
       "3     I purchased some from a specialty shop in NYC....          0   \n",
       "4     Hi,\\ncan someone please help me asses whether ...          0   \n",
       "...                                                 ...        ...   \n",
       "2437  A friend got a bag of coffee from work as a \"p...          1   \n",
       "2438  I have a Bonavita 8-Cup One-Touch, with Therma...          1   \n",
       "2439  Okay, everyone has an opinion, especially abou...          1   \n",
       "2440  I broke my glass Kalita wave the day after I r...          1   \n",
       "2441  Hello, as someone who loves flavoured coffee (...          1   \n",
       "\n",
       "                                                   text  \n",
       "0     What's your favourite brand for decaf tea? I h...  \n",
       "1     How do you make tea taste refreshing? I love t...  \n",
       "2     how is the first flush experience? is it that ...  \n",
       "3     What are your most successful concoctions with...  \n",
       "4     Please help, is my Yixing teapot genuine? Hi, ...  \n",
       "...                                                 ...  \n",
       "2437  \"Work perk\" mystery bag A friend got a bag of ...  \n",
       "2438  Bonavita Carafe I have a Bonavita 8-Cup One-To...  \n",
       "2439  Favorite coffee brewing from first to last Oka...  \n",
       "2440  Broke my Kalita Wave I broke my glass Kalita w...  \n",
       "2441  When should syrup be added? Hello, as someone ...  \n",
       "\n",
       "[2389 rows x 7 columns]"
      ]
     },
     "execution_count": 24,
     "metadata": {},
     "output_type": "execute_result"
    }
   ],
   "source": [
    "data_clean"
   ]
  },
  {
   "cell_type": "code",
   "execution_count": 25,
   "id": "1353f726-bdac-45ef-a52f-5576af4755f8",
   "metadata": {},
   "outputs": [],
   "source": [
    "# we will exclude the punctuation in the stopwords list to match with our function workflow\n",
    "stopwords = [ ''.join(letter for letter in word if letter not in string.punctuation) for word in stopwords]"
   ]
  },
  {
   "cell_type": "code",
   "execution_count": 26,
   "id": "be42839d-2ef8-4955-b5c8-fb46994fcabc",
   "metadata": {},
   "outputs": [],
   "source": [
    "def clean_text(text):\n",
    "    text = \"\".join([word.lower() if word not in string.punctuation else ' ' for word in text ])\n",
    "    # \\W matches any non-word character (equivalent to [^a-zA-Z0-9_]). This does not include spaces i.e. \\s\n",
    "    # Add a + just in case there are 2 or more spaces between certain words\n",
    "    tokens = re.split('\\W+', text)\n",
    "    \n",
    "    # apply lemmatize and stopwords exclusion within the same step\n",
    "    text = ' '.join([wn.lemmatize(word) for word in tokens if word not in stopwords])\n",
    "    return text"
   ]
  },
  {
   "cell_type": "code",
   "execution_count": 27,
   "id": "cf8e466e-9203-48f5-a2c7-64ac2ded72a7",
   "metadata": {},
   "outputs": [
    {
     "name": "stderr",
     "output_type": "stream",
     "text": [
      "C:\\Users\\ADIH~1.KUS\\AppData\\Local\\Temp/ipykernel_24392/616010759.py:1: SettingWithCopyWarning: \n",
      "A value is trying to be set on a copy of a slice from a DataFrame.\n",
      "Try using .loc[row_indexer,col_indexer] = value instead\n",
      "\n",
      "See the caveats in the documentation: https://pandas.pydata.org/pandas-docs/stable/user_guide/indexing.html#returning-a-view-versus-a-copy\n",
      "  data_clean['text_cleaned_lemmatize'] = data_clean['text'].apply(clean_text)\n"
     ]
    }
   ],
   "source": [
    "# apply the clean_text function to the 'text' column\n",
    "data_clean['text_cleaned_lemmatize'] = data_clean['text'].apply(clean_text)"
   ]
  },
  {
   "cell_type": "code",
   "execution_count": 28,
   "id": "50f6b90d-87d7-4249-9c47-6df3b4d1a3c1",
   "metadata": {},
   "outputs": [
    {
     "data": {
      "text/html": [
       "<div>\n",
       "<style scoped>\n",
       "    .dataframe tbody tr th:only-of-type {\n",
       "        vertical-align: middle;\n",
       "    }\n",
       "\n",
       "    .dataframe tbody tr th {\n",
       "        vertical-align: top;\n",
       "    }\n",
       "\n",
       "    .dataframe thead th {\n",
       "        text-align: right;\n",
       "    }\n",
       "</style>\n",
       "<table border=\"1\" class=\"dataframe\">\n",
       "  <thead>\n",
       "    <tr style=\"text-align: right;\">\n",
       "      <th></th>\n",
       "      <th>author</th>\n",
       "      <th>created_utc</th>\n",
       "      <th>num_comments</th>\n",
       "      <th>title</th>\n",
       "      <th>selftext</th>\n",
       "      <th>subreddit</th>\n",
       "      <th>text</th>\n",
       "      <th>text_cleaned_lemmatize</th>\n",
       "    </tr>\n",
       "  </thead>\n",
       "  <tbody>\n",
       "    <tr>\n",
       "      <th>0</th>\n",
       "      <td>cobaltjay</td>\n",
       "      <td>1653377746</td>\n",
       "      <td>0</td>\n",
       "      <td>What's your favourite brand for decaf tea?</td>\n",
       "      <td>I have recently started some new medication th...</td>\n",
       "      <td>0</td>\n",
       "      <td>What's your favourite brand for decaf tea? I h...</td>\n",
       "      <td>favourite brand decaf tea recently started new...</td>\n",
       "    </tr>\n",
       "    <tr>\n",
       "      <th>1</th>\n",
       "      <td>kibbles16</td>\n",
       "      <td>1653372437</td>\n",
       "      <td>0</td>\n",
       "      <td>How do you make tea taste refreshing?</td>\n",
       "      <td>I love tea, especially green and jasmine tea. ...</td>\n",
       "      <td>0</td>\n",
       "      <td>How do you make tea taste refreshing? I love t...</td>\n",
       "      <td>make tea taste refreshing love tea especially ...</td>\n",
       "    </tr>\n",
       "    <tr>\n",
       "      <th>2</th>\n",
       "      <td>-___ari___-</td>\n",
       "      <td>1653364473</td>\n",
       "      <td>0</td>\n",
       "      <td>how is the first flush experience? is it that ...</td>\n",
       "      <td>hi, just recently getting into specialty teas,...</td>\n",
       "      <td>0</td>\n",
       "      <td>how is the first flush experience? is it that ...</td>\n",
       "      <td>first flush experience good hi recently gettin...</td>\n",
       "    </tr>\n",
       "    <tr>\n",
       "      <th>3</th>\n",
       "      <td>UsernameNumberThree</td>\n",
       "      <td>1653350251</td>\n",
       "      <td>0</td>\n",
       "      <td>What are your most successful concoctions with...</td>\n",
       "      <td>I purchased some from a specialty shop in NYC....</td>\n",
       "      <td>0</td>\n",
       "      <td>What are your most successful concoctions with...</td>\n",
       "      <td>successful concoction butterfly pea flower tea...</td>\n",
       "    </tr>\n",
       "    <tr>\n",
       "      <th>4</th>\n",
       "      <td>mkmkatreddit</td>\n",
       "      <td>1653336633</td>\n",
       "      <td>0</td>\n",
       "      <td>Please help, is my Yixing teapot genuine?</td>\n",
       "      <td>Hi,\\ncan someone please help me asses whether ...</td>\n",
       "      <td>0</td>\n",
       "      <td>Please help, is my Yixing teapot genuine? Hi, ...</td>\n",
       "      <td>please help yixing teapot genuine hi someone p...</td>\n",
       "    </tr>\n",
       "    <tr>\n",
       "      <th>...</th>\n",
       "      <td>...</td>\n",
       "      <td>...</td>\n",
       "      <td>...</td>\n",
       "      <td>...</td>\n",
       "      <td>...</td>\n",
       "      <td>...</td>\n",
       "      <td>...</td>\n",
       "      <td>...</td>\n",
       "    </tr>\n",
       "    <tr>\n",
       "      <th>2437</th>\n",
       "      <td>jack_ftw</td>\n",
       "      <td>1650038368</td>\n",
       "      <td>0</td>\n",
       "      <td>\"Work perk\" mystery bag</td>\n",
       "      <td>A friend got a bag of coffee from work as a \"p...</td>\n",
       "      <td>1</td>\n",
       "      <td>\"Work perk\" mystery bag A friend got a bag of ...</td>\n",
       "      <td>work perk mystery bag friend got bag coffee w...</td>\n",
       "    </tr>\n",
       "    <tr>\n",
       "      <th>2438</th>\n",
       "      <td>Classic_Ad9996</td>\n",
       "      <td>1650035557</td>\n",
       "      <td>0</td>\n",
       "      <td>Bonavita Carafe</td>\n",
       "      <td>I have a Bonavita 8-Cup One-Touch, with Therma...</td>\n",
       "      <td>1</td>\n",
       "      <td>Bonavita Carafe I have a Bonavita 8-Cup One-To...</td>\n",
       "      <td>bonavita carafe bonavita 8 cup one touch therm...</td>\n",
       "    </tr>\n",
       "    <tr>\n",
       "      <th>2439</th>\n",
       "      <td>ResponsibilityNo6435</td>\n",
       "      <td>1650035176</td>\n",
       "      <td>0</td>\n",
       "      <td>Favorite coffee brewing from first to last</td>\n",
       "      <td>Okay, everyone has an opinion, especially abou...</td>\n",
       "      <td>1</td>\n",
       "      <td>Favorite coffee brewing from first to last Oka...</td>\n",
       "      <td>favorite coffee brewing first last okay everyo...</td>\n",
       "    </tr>\n",
       "    <tr>\n",
       "      <th>2440</th>\n",
       "      <td>pnwbg</td>\n",
       "      <td>1650033804</td>\n",
       "      <td>0</td>\n",
       "      <td>Broke my Kalita Wave</td>\n",
       "      <td>I broke my glass Kalita wave the day after I r...</td>\n",
       "      <td>1</td>\n",
       "      <td>Broke my Kalita Wave I broke my glass Kalita w...</td>\n",
       "      <td>broke kalita wave broke glass kalita wave day ...</td>\n",
       "    </tr>\n",
       "    <tr>\n",
       "      <th>2441</th>\n",
       "      <td>DrownedMilan</td>\n",
       "      <td>1650033416</td>\n",
       "      <td>0</td>\n",
       "      <td>When should syrup be added?</td>\n",
       "      <td>Hello, as someone who loves flavoured coffee (...</td>\n",
       "      <td>1</td>\n",
       "      <td>When should syrup be added? Hello, as someone ...</td>\n",
       "      <td>syrup added hello someone love flavoured coffe...</td>\n",
       "    </tr>\n",
       "  </tbody>\n",
       "</table>\n",
       "<p>2389 rows × 8 columns</p>\n",
       "</div>"
      ],
      "text/plain": [
       "                    author  created_utc  num_comments  \\\n",
       "0                cobaltjay   1653377746             0   \n",
       "1                kibbles16   1653372437             0   \n",
       "2              -___ari___-   1653364473             0   \n",
       "3      UsernameNumberThree   1653350251             0   \n",
       "4             mkmkatreddit   1653336633             0   \n",
       "...                    ...          ...           ...   \n",
       "2437              jack_ftw   1650038368             0   \n",
       "2438        Classic_Ad9996   1650035557             0   \n",
       "2439  ResponsibilityNo6435   1650035176             0   \n",
       "2440                 pnwbg   1650033804             0   \n",
       "2441          DrownedMilan   1650033416             0   \n",
       "\n",
       "                                                  title  \\\n",
       "0            What's your favourite brand for decaf tea?   \n",
       "1                 How do you make tea taste refreshing?   \n",
       "2     how is the first flush experience? is it that ...   \n",
       "3     What are your most successful concoctions with...   \n",
       "4             Please help, is my Yixing teapot genuine?   \n",
       "...                                                 ...   \n",
       "2437                            \"Work perk\" mystery bag   \n",
       "2438                                    Bonavita Carafe   \n",
       "2439         Favorite coffee brewing from first to last   \n",
       "2440                               Broke my Kalita Wave   \n",
       "2441                        When should syrup be added?   \n",
       "\n",
       "                                               selftext  subreddit  \\\n",
       "0     I have recently started some new medication th...          0   \n",
       "1     I love tea, especially green and jasmine tea. ...          0   \n",
       "2     hi, just recently getting into specialty teas,...          0   \n",
       "3     I purchased some from a specialty shop in NYC....          0   \n",
       "4     Hi,\\ncan someone please help me asses whether ...          0   \n",
       "...                                                 ...        ...   \n",
       "2437  A friend got a bag of coffee from work as a \"p...          1   \n",
       "2438  I have a Bonavita 8-Cup One-Touch, with Therma...          1   \n",
       "2439  Okay, everyone has an opinion, especially abou...          1   \n",
       "2440  I broke my glass Kalita wave the day after I r...          1   \n",
       "2441  Hello, as someone who loves flavoured coffee (...          1   \n",
       "\n",
       "                                                   text  \\\n",
       "0     What's your favourite brand for decaf tea? I h...   \n",
       "1     How do you make tea taste refreshing? I love t...   \n",
       "2     how is the first flush experience? is it that ...   \n",
       "3     What are your most successful concoctions with...   \n",
       "4     Please help, is my Yixing teapot genuine? Hi, ...   \n",
       "...                                                 ...   \n",
       "2437  \"Work perk\" mystery bag A friend got a bag of ...   \n",
       "2438  Bonavita Carafe I have a Bonavita 8-Cup One-To...   \n",
       "2439  Favorite coffee brewing from first to last Oka...   \n",
       "2440  Broke my Kalita Wave I broke my glass Kalita w...   \n",
       "2441  When should syrup be added? Hello, as someone ...   \n",
       "\n",
       "                                 text_cleaned_lemmatize  \n",
       "0     favourite brand decaf tea recently started new...  \n",
       "1     make tea taste refreshing love tea especially ...  \n",
       "2     first flush experience good hi recently gettin...  \n",
       "3     successful concoction butterfly pea flower tea...  \n",
       "4     please help yixing teapot genuine hi someone p...  \n",
       "...                                                 ...  \n",
       "2437   work perk mystery bag friend got bag coffee w...  \n",
       "2438  bonavita carafe bonavita 8 cup one touch therm...  \n",
       "2439  favorite coffee brewing first last okay everyo...  \n",
       "2440  broke kalita wave broke glass kalita wave day ...  \n",
       "2441  syrup added hello someone love flavoured coffe...  \n",
       "\n",
       "[2389 rows x 8 columns]"
      ]
     },
     "execution_count": 28,
     "metadata": {},
     "output_type": "execute_result"
    }
   ],
   "source": [
    "data_clean"
   ]
  },
  {
   "cell_type": "markdown",
   "id": "135293a6-79e8-4c79-a289-84d7dd8a1e62",
   "metadata": {},
   "source": [
    "We will first check what is the most common words in each of the subreddit"
   ]
  },
  {
   "cell_type": "code",
   "execution_count": 29,
   "id": "e5859758-2478-4315-9c90-d8e55b2c9053",
   "metadata": {},
   "outputs": [],
   "source": [
    "X_tea = data_clean[data_clean['subreddit'] == 0]['text_cleaned_lemmatize']\n",
    "X_coffee = data_clean[data_clean['subreddit'] == 1]['text_cleaned_lemmatize']"
   ]
  },
  {
   "cell_type": "markdown",
   "id": "611d7e8e-5186-4e02-ba99-e76bc7c89e4b",
   "metadata": {},
   "source": [
    "#### -> Count Vectorizer"
   ]
  },
  {
   "cell_type": "markdown",
   "id": "1da62813-8a7c-40a6-bacf-a70dc29fcdce",
   "metadata": {},
   "source": [
    "Count Vectorizer transforms our dataset into a structured dataset based on number of counts of the words as a whole which is more intepretable for the machine.  \n",
    "The process include:\n",
    "- Dropping Punctuation from the text\n",
    "- Tokenising the text\n",
    "- Lemmatizing the text\n",
    "- Fit the model to the dataset\n",
    "- Convert to pandas dataframe for plotting purposes"
   ]
  },
  {
   "cell_type": "code",
   "execution_count": 30,
   "id": "f31da0a7-629a-48a0-bd65-e540a24a6bd7",
   "metadata": {},
   "outputs": [],
   "source": [
    "# function to create subplots of barplot\n",
    "def subplot_barplot(X1, X2, sub1, sub2, ngram, ngram_type, method):\n",
    "      \n",
    "    fig, ax = plt.subplots(nrows=1, ncols=2, sharex=False, sharey=False, squeeze=True, figsize=(15,10))\n",
    "    ax = ax.ravel() # Ravel turns a matrix into a vector, which is easier to iterate\n",
    "    \n",
    "    if method == 'cvec':\n",
    "        mthd = '(Count Vectorizer)'\n",
    "    elif method == 'tfidf':\n",
    "        mthd = '(TF-IDF)'\n",
    "        \n",
    "    X1_df = vectorizer_df(X1, sub1, ngram, method) \n",
    "    X1_df.sum().sort_values(ascending=False).head(10).plot(kind='barh', ax=ax[0], color='g')\n",
    "    ax[0].set_title((sub1 + ' Subreddit Top ' + ngram_type + ' Words ' + mthd))\n",
    "    ax[0].set_ylabel('word')\n",
    "    ax[0].set_xlabel('count')\n",
    "    \n",
    "    X2_df = vectorizer_df(X2, sub2, ngram, method)\n",
    "    X2_df.sum().sort_values(ascending=False).head(10).plot(kind='barh', ax=ax[1], color='r')\n",
    "    ax[1].set_title((sub2 + ' Subreddit Top ' + ngram_type + ' Words ' + mthd))\n",
    "    ax[1].set_ylabel('word')\n",
    "    ax[1].set_xlabel('count')\n",
    "    \n",
    "    fig.tight_layout()"
   ]
  },
  {
   "cell_type": "code",
   "execution_count": 31,
   "id": "946d0c9f-f787-4840-890a-86b90284bc6d",
   "metadata": {},
   "outputs": [],
   "source": [
    "# function to vectorize the X list and return a dataframe\n",
    "def vectorizer_df(X, sub, ngram, method):\n",
    "    # to classify the method\n",
    "    if method == 'cvec':\n",
    "        vec = CountVectorizer(ngram_range=ngram)\n",
    "    elif method == 'tfidf':\n",
    "        vec = TfidfVectorizer(ngram_range=ngram)\n",
    "    \n",
    "    # fit and transform the X to the vectorizer\n",
    "    X = vec.fit_transform(X)\n",
    "    \n",
    "    # print the shape of the matrix\n",
    "    print('The shape of the', sub, 'matrix :', X.shape)\n",
    "    \n",
    "    X_df = pd.DataFrame(X.todense(), columns=vec.get_feature_names())\n",
    "    \n",
    "    return X_df"
   ]
  },
  {
   "cell_type": "markdown",
   "id": "9f55593b-ac37-4f2d-93a8-b20d91844915",
   "metadata": {},
   "source": [
    "##### + Unigram"
   ]
  },
  {
   "cell_type": "code",
   "execution_count": 32,
   "id": "4de12542-a9e5-4691-84e0-1127bc3331bd",
   "metadata": {},
   "outputs": [
    {
     "name": "stdout",
     "output_type": "stream",
     "text": [
      "The shape of the r/tea matrix : (1211, 6280)\n",
      "The shape of the r/Coffee matrix : (1178, 6870)\n"
     ]
    },
    {
     "data": {
      "image/png": "[encoded data removed]",
      "text/plain": [
       "<Figure size 1080x720 with 2 Axes>"
      ]
     },
     "metadata": {
      "needs_background": "light"
     },
     "output_type": "display_data"
    }
   ],
   "source": [
    "subplot_barplot(X_tea, X_coffee, 'r/tea', 'r/Coffee', (1,1), 'Unigram', 'cvec')"
   ]
  },
  {
   "cell_type": "markdown",
   "id": "c0f6e9d1-7555-47c9-90f0-100854e6ccae",
   "metadata": {},
   "source": [
    "Observation: The top indicator word for both r/tea and r/Coffee subreddit is unsuprisingly tea and coffee. The count is quite huge and the word itself is too obvious, thus we decided to remove it from consideration. The other word indicators are somehow not reflecting the subreddit title."
   ]
  },
  {
   "cell_type": "markdown",
   "id": "2eeb67e7-8e35-4dd0-a34d-c79efe025112",
   "metadata": {
    "tags": []
   },
   "source": [
    "##### + Bigram"
   ]
  },
  {
   "cell_type": "code",
   "execution_count": 33,
   "id": "0a34a0e2-663d-4efa-968d-29cad2a4a252",
   "metadata": {},
   "outputs": [
    {
     "name": "stdout",
     "output_type": "stream",
     "text": [
      "The shape of the r/tea matrix : (1211, 37322)\n",
      "The shape of the r/Coffee matrix : (1178, 45521)\n"
     ]
    },
    {
     "data": {
      "image/png": "[encoded data removed]",
      "text/plain": [
       "<Figure size 1080x720 with 2 Axes>"
      ]
     },
     "metadata": {
      "needs_background": "light"
     },
     "output_type": "display_data"
    }
   ],
   "source": [
    "subplot_barplot(X_tea, X_coffee, 'r/tea', 'r/Coffee', (2,2), 'Bigram', 'cvec')"
   ]
  },
  {
   "cell_type": "markdown",
   "id": "4ba24611-3d82-4476-8852-b1f75b442d46",
   "metadata": {},
   "source": [
    "Remarks: As for the bigram, the top 3 words are very indicative of the subreddit. But we need to check again after we drop the tea and coffee word.  \n",
    "As of the trend, for r/tea, it mainly consists of the type of teas while r/Coffee talks ore about the technique for coffee making.  \n",
    "There is one bigram words in tea that is interesting which is 'guy gal' that need to be further checked."
   ]
  },
  {
   "cell_type": "markdown",
   "id": "13d60be0-a9da-447f-a251-6dc9657cff0c",
   "metadata": {
    "tags": []
   },
   "source": [
    "##### + Trigram"
   ]
  },
  {
   "cell_type": "code",
   "execution_count": 34,
   "id": "65637006-91b3-4a56-912b-be41ffce8f73",
   "metadata": {},
   "outputs": [
    {
     "name": "stdout",
     "output_type": "stream",
     "text": [
      "The shape of the r/tea matrix : (1211, 46939)\n",
      "The shape of the r/Coffee matrix : (1178, 56377)\n"
     ]
    },
    {
     "data": {
      "image/png": "[encoded data removed]",
      "text/plain": [
       "<Figure size 1080x720 with 2 Axes>"
      ]
     },
     "metadata": {
      "needs_background": "light"
     },
     "output_type": "display_data"
    }
   ],
   "source": [
    "subplot_barplot(X_tea, X_coffee, 'r/tea', 'r/Coffee', (3,3), 'Trigram', 'cvec')"
   ]
  },
  {
   "cell_type": "markdown",
   "id": "6ccf95f4-a9fb-4c63-a439-3ff2720de7b4",
   "metadata": {},
   "source": [
    "Remarks: For the r/tea subreddit, the top trigram indicator has very little correlative link with tea while the r/Coffee top trigram is still relatable but the count is relative low compared to other unigram and trigram, thus it may have little effect on the classification process"
   ]
  },
  {
   "cell_type": "markdown",
   "id": "9548062e-ac49-41eb-bbd7-ae3fbb4a0703",
   "metadata": {},
   "source": [
    "#### -> TF-IDF (Term Frequency - Inverse Document Frequency)"
   ]
  },
  {
   "cell_type": "markdown",
   "id": "82437152-9032-41f1-8e19-dd23dba5011f",
   "metadata": {},
   "source": [
    "We will check the top words of each subreddit as per the count vectorize. The unigram, bigram and trigram will be evaluated as well.  \n",
    "TF-IDF will be based on the term frequency with the inverse relation of document frequency. We wanted to compare with the Count Vectorizer method whether it will yield the same result."
   ]
  },
  {
   "cell_type": "markdown",
   "id": "34815689-8324-456f-9181-2bac0508c61b",
   "metadata": {},
   "source": [
    "##### + Unigram"
   ]
  },
  {
   "cell_type": "code",
   "execution_count": 35,
   "id": "099f99b5-a27c-42e3-b9e9-4fb5797eba20",
   "metadata": {},
   "outputs": [
    {
     "name": "stdout",
     "output_type": "stream",
     "text": [
      "The shape of the r/tea matrix : (1211, 6280)\n",
      "The shape of the r/Coffee matrix : (1178, 6870)\n"
     ]
    },
    {
     "data": {
      "image/png": "[encoded data removed]",
      "text/plain": [
       "<Figure size 1080x720 with 2 Axes>"
      ]
     },
     "metadata": {
      "needs_background": "light"
     },
     "output_type": "display_data"
    }
   ],
   "source": [
    "subplot_barplot(X_tea, X_coffee, 'r/tea', 'r/Coffee', (1,1), 'Unigram', 'tfidf')"
   ]
  },
  {
   "cell_type": "markdown",
   "id": "7653e98e-3872-4dec-b687-44d29e018dd9",
   "metadata": {},
   "source": [
    "##### + Bigram"
   ]
  },
  {
   "cell_type": "code",
   "execution_count": 36,
   "id": "e88d466c-0609-4674-8a12-b2aa873ef92d",
   "metadata": {},
   "outputs": [
    {
     "name": "stdout",
     "output_type": "stream",
     "text": [
      "The shape of the r/tea matrix : (1211, 37322)\n",
      "The shape of the r/Coffee matrix : (1178, 45521)\n"
     ]
    },
    {
     "data": {
      "image/png": "[encoded data removed]",
      "text/plain": [
       "<Figure size 1080x720 with 2 Axes>"
      ]
     },
     "metadata": {
      "needs_background": "light"
     },
     "output_type": "display_data"
    }
   ],
   "source": [
    "subplot_barplot(X_tea, X_coffee, 'r/tea', 'r/Coffee', (2,2), 'Bigram', 'tfidf')"
   ]
  },
  {
   "cell_type": "markdown",
   "id": "91090be6-305c-473d-82eb-0f1e829808cc",
   "metadata": {},
   "source": [
    "##### + Trigram"
   ]
  },
  {
   "cell_type": "code",
   "execution_count": 37,
   "id": "b34440b5-ecca-44c8-bd12-df3de733fd06",
   "metadata": {},
   "outputs": [
    {
     "name": "stdout",
     "output_type": "stream",
     "text": [
      "The shape of the r/tea matrix : (1211, 46939)\n",
      "The shape of the r/Coffee matrix : (1178, 56377)\n"
     ]
    },
    {
     "data": {
      "image/png": "[encoded data removed]",
      "text/plain": [
       "<Figure size 1080x720 with 2 Axes>"
      ]
     },
     "metadata": {
      "needs_background": "light"
     },
     "output_type": "display_data"
    }
   ],
   "source": [
    "subplot_barplot(X_tea, X_coffee, 'r/tea', 'r/Coffee', (3,3), 'Trigram', 'tfidf')"
   ]
  },
  {
   "cell_type": "markdown",
   "id": "6b5475a0-77fb-411a-bf36-6c4dc3a43139",
   "metadata": {},
   "source": [
    "Remarks: From the unigram, bigram and trigram top indicators, we can conclude that the words are similar to the words that are found with Count Vectorizer model"
   ]
  },
  {
   "cell_type": "markdown",
   "id": "bb3eac65-4d23-470c-96f2-5ca159f6997e",
   "metadata": {},
   "source": [
    "We tried to find the data that contains 'guy gal' :"
   ]
  },
  {
   "cell_type": "code",
   "execution_count": 38,
   "id": "c9847d56-adde-4ea7-b4c7-9bc951697f57",
   "metadata": {},
   "outputs": [
    {
     "data": {
      "text/html": [
       "<div>\n",
       "<style scoped>\n",
       "    .dataframe tbody tr th:only-of-type {\n",
       "        vertical-align: middle;\n",
       "    }\n",
       "\n",
       "    .dataframe tbody tr th {\n",
       "        vertical-align: top;\n",
       "    }\n",
       "\n",
       "    .dataframe thead th {\n",
       "        text-align: right;\n",
       "    }\n",
       "</style>\n",
       "<table border=\"1\" class=\"dataframe\">\n",
       "  <thead>\n",
       "    <tr style=\"text-align: right;\">\n",
       "      <th></th>\n",
       "      <th>author</th>\n",
       "      <th>created_utc</th>\n",
       "      <th>num_comments</th>\n",
       "      <th>title</th>\n",
       "      <th>selftext</th>\n",
       "      <th>subreddit</th>\n",
       "      <th>text</th>\n",
       "      <th>text_cleaned_lemmatize</th>\n",
       "    </tr>\n",
       "  </thead>\n",
       "  <tbody>\n",
       "    <tr>\n",
       "      <th>11</th>\n",
       "      <td>AutoModerator</td>\n",
       "      <td>1653303611</td>\n",
       "      <td>0</td>\n",
       "      <td>What's in your cup? Daily discussion, question...</td>\n",
       "      <td>What are you drinking today?  What questions h...</td>\n",
       "      <td>0</td>\n",
       "      <td>What's in your cup? Daily discussion, question...</td>\n",
       "      <td>cup daily discussion question story may 23 202...</td>\n",
       "    </tr>\n",
       "    <tr>\n",
       "      <th>23</th>\n",
       "      <td>AutoModerator</td>\n",
       "      <td>1653217211</td>\n",
       "      <td>0</td>\n",
       "      <td>What's in your cup? Daily discussion, question...</td>\n",
       "      <td>What are you drinking today?  What questions h...</td>\n",
       "      <td>0</td>\n",
       "      <td>What's in your cup? Daily discussion, question...</td>\n",
       "      <td>cup daily discussion question story may 22 202...</td>\n",
       "    </tr>\n",
       "    <tr>\n",
       "      <th>30</th>\n",
       "      <td>kenshinkan08</td>\n",
       "      <td>1653146858</td>\n",
       "      <td>0</td>\n",
       "      <td>are you a lowest steep time guy or longest?</td>\n",
       "      <td>Just curious, I've been buying japanese gyokur...</td>\n",
       "      <td>0</td>\n",
       "      <td>are you a lowest steep time guy or longest? Ju...</td>\n",
       "      <td>lowest steep time guy longest curious buying j...</td>\n",
       "    </tr>\n",
       "    <tr>\n",
       "      <th>32</th>\n",
       "      <td>AutoModerator</td>\n",
       "      <td>1653130810</td>\n",
       "      <td>0</td>\n",
       "      <td>What's in your cup? Daily discussion, question...</td>\n",
       "      <td>What are you drinking today?  What questions h...</td>\n",
       "      <td>0</td>\n",
       "      <td>What's in your cup? Daily discussion, question...</td>\n",
       "      <td>cup daily discussion question story may 21 202...</td>\n",
       "    </tr>\n",
       "    <tr>\n",
       "      <th>42</th>\n",
       "      <td>AutoModerator</td>\n",
       "      <td>1653044410</td>\n",
       "      <td>0</td>\n",
       "      <td>What's in your cup? Daily discussion, question...</td>\n",
       "      <td>What are you drinking today?  What questions h...</td>\n",
       "      <td>0</td>\n",
       "      <td>What's in your cup? Daily discussion, question...</td>\n",
       "      <td>cup daily discussion question story may 20 202...</td>\n",
       "    </tr>\n",
       "    <tr>\n",
       "      <th>...</th>\n",
       "      <td>...</td>\n",
       "      <td>...</td>\n",
       "      <td>...</td>\n",
       "      <td>...</td>\n",
       "      <td>...</td>\n",
       "      <td>...</td>\n",
       "      <td>...</td>\n",
       "      <td>...</td>\n",
       "    </tr>\n",
       "    <tr>\n",
       "      <th>1149</th>\n",
       "      <td>AutoModerator</td>\n",
       "      <td>1645704016</td>\n",
       "      <td>9</td>\n",
       "      <td>What's in your cup? Daily discussion, question...</td>\n",
       "      <td>What are you drinking today?  What questions h...</td>\n",
       "      <td>0</td>\n",
       "      <td>What's in your cup? Daily discussion, question...</td>\n",
       "      <td>cup daily discussion question story february 2...</td>\n",
       "    </tr>\n",
       "    <tr>\n",
       "      <th>1169</th>\n",
       "      <td>AutoModerator</td>\n",
       "      <td>1645617615</td>\n",
       "      <td>19</td>\n",
       "      <td>What's in your cup? Daily discussion, question...</td>\n",
       "      <td>What are you drinking today?  What questions h...</td>\n",
       "      <td>0</td>\n",
       "      <td>What's in your cup? Daily discussion, question...</td>\n",
       "      <td>cup daily discussion question story february 2...</td>\n",
       "    </tr>\n",
       "    <tr>\n",
       "      <th>1184</th>\n",
       "      <td>AutoModerator</td>\n",
       "      <td>1645531218</td>\n",
       "      <td>40</td>\n",
       "      <td>What's in your cup? Daily discussion, question...</td>\n",
       "      <td>What are you drinking today?  What questions h...</td>\n",
       "      <td>0</td>\n",
       "      <td>What's in your cup? Daily discussion, question...</td>\n",
       "      <td>cup daily discussion question story february 2...</td>\n",
       "    </tr>\n",
       "    <tr>\n",
       "      <th>1196</th>\n",
       "      <td>AutoModerator</td>\n",
       "      <td>1645444816</td>\n",
       "      <td>13</td>\n",
       "      <td>What's in your cup? Daily discussion, question...</td>\n",
       "      <td>What are you drinking today?  What questions h...</td>\n",
       "      <td>0</td>\n",
       "      <td>What's in your cup? Daily discussion, question...</td>\n",
       "      <td>cup daily discussion question story february 2...</td>\n",
       "    </tr>\n",
       "    <tr>\n",
       "      <th>1211</th>\n",
       "      <td>AutoModerator</td>\n",
       "      <td>1645358412</td>\n",
       "      <td>15</td>\n",
       "      <td>What's in your cup? Daily discussion, question...</td>\n",
       "      <td>What are you drinking today?  What questions h...</td>\n",
       "      <td>0</td>\n",
       "      <td>What's in your cup? Daily discussion, question...</td>\n",
       "      <td>cup daily discussion question story february 2...</td>\n",
       "    </tr>\n",
       "  </tbody>\n",
       "</table>\n",
       "<p>92 rows × 8 columns</p>\n",
       "</div>"
      ],
      "text/plain": [
       "             author  created_utc  num_comments  \\\n",
       "11    AutoModerator   1653303611             0   \n",
       "23    AutoModerator   1653217211             0   \n",
       "30     kenshinkan08   1653146858             0   \n",
       "32    AutoModerator   1653130810             0   \n",
       "42    AutoModerator   1653044410             0   \n",
       "...             ...          ...           ...   \n",
       "1149  AutoModerator   1645704016             9   \n",
       "1169  AutoModerator   1645617615            19   \n",
       "1184  AutoModerator   1645531218            40   \n",
       "1196  AutoModerator   1645444816            13   \n",
       "1211  AutoModerator   1645358412            15   \n",
       "\n",
       "                                                  title  \\\n",
       "11    What's in your cup? Daily discussion, question...   \n",
       "23    What's in your cup? Daily discussion, question...   \n",
       "30          are you a lowest steep time guy or longest?   \n",
       "32    What's in your cup? Daily discussion, question...   \n",
       "42    What's in your cup? Daily discussion, question...   \n",
       "...                                                 ...   \n",
       "1149  What's in your cup? Daily discussion, question...   \n",
       "1169  What's in your cup? Daily discussion, question...   \n",
       "1184  What's in your cup? Daily discussion, question...   \n",
       "1196  What's in your cup? Daily discussion, question...   \n",
       "1211  What's in your cup? Daily discussion, question...   \n",
       "\n",
       "                                               selftext  subreddit  \\\n",
       "11    What are you drinking today?  What questions h...          0   \n",
       "23    What are you drinking today?  What questions h...          0   \n",
       "30    Just curious, I've been buying japanese gyokur...          0   \n",
       "32    What are you drinking today?  What questions h...          0   \n",
       "42    What are you drinking today?  What questions h...          0   \n",
       "...                                                 ...        ...   \n",
       "1149  What are you drinking today?  What questions h...          0   \n",
       "1169  What are you drinking today?  What questions h...          0   \n",
       "1184  What are you drinking today?  What questions h...          0   \n",
       "1196  What are you drinking today?  What questions h...          0   \n",
       "1211  What are you drinking today?  What questions h...          0   \n",
       "\n",
       "                                                   text  \\\n",
       "11    What's in your cup? Daily discussion, question...   \n",
       "23    What's in your cup? Daily discussion, question...   \n",
       "30    are you a lowest steep time guy or longest? Ju...   \n",
       "32    What's in your cup? Daily discussion, question...   \n",
       "42    What's in your cup? Daily discussion, question...   \n",
       "...                                                 ...   \n",
       "1149  What's in your cup? Daily discussion, question...   \n",
       "1169  What's in your cup? Daily discussion, question...   \n",
       "1184  What's in your cup? Daily discussion, question...   \n",
       "1196  What's in your cup? Daily discussion, question...   \n",
       "1211  What's in your cup? Daily discussion, question...   \n",
       "\n",
       "                                 text_cleaned_lemmatize  \n",
       "11    cup daily discussion question story may 23 202...  \n",
       "23    cup daily discussion question story may 22 202...  \n",
       "30    lowest steep time guy longest curious buying j...  \n",
       "32    cup daily discussion question story may 21 202...  \n",
       "42    cup daily discussion question story may 20 202...  \n",
       "...                                                 ...  \n",
       "1149  cup daily discussion question story february 2...  \n",
       "1169  cup daily discussion question story february 2...  \n",
       "1184  cup daily discussion question story february 2...  \n",
       "1196  cup daily discussion question story february 2...  \n",
       "1211  cup daily discussion question story february 2...  \n",
       "\n",
       "[92 rows x 8 columns]"
      ]
     },
     "execution_count": 38,
     "metadata": {},
     "output_type": "execute_result"
    }
   ],
   "source": [
    "data_clean[data_clean['text_cleaned_lemmatize'].str.contains('guy gal')]"
   ]
  },
  {
   "cell_type": "markdown",
   "id": "ed75e1ff-ef44-4792-a4ec-24249457dc1f",
   "metadata": {},
   "source": [
    "Remarks: There are some posts that is authored by AutoModerator and has the same content with different dates on different posts, we decided to remove the posts to remove noise"
   ]
  },
  {
   "cell_type": "code",
   "execution_count": 39,
   "id": "99ea17a5-45a4-4c80-89bd-290cc2f66674",
   "metadata": {},
   "outputs": [
    {
     "data": {
      "text/html": [
       "<div>\n",
       "<style scoped>\n",
       "    .dataframe tbody tr th:only-of-type {\n",
       "        vertical-align: middle;\n",
       "    }\n",
       "\n",
       "    .dataframe tbody tr th {\n",
       "        vertical-align: top;\n",
       "    }\n",
       "\n",
       "    .dataframe thead th {\n",
       "        text-align: right;\n",
       "    }\n",
       "</style>\n",
       "<table border=\"1\" class=\"dataframe\">\n",
       "  <thead>\n",
       "    <tr style=\"text-align: right;\">\n",
       "      <th></th>\n",
       "      <th>author</th>\n",
       "      <th>created_utc</th>\n",
       "      <th>num_comments</th>\n",
       "      <th>title</th>\n",
       "      <th>selftext</th>\n",
       "      <th>subreddit</th>\n",
       "      <th>text</th>\n",
       "      <th>text_cleaned_lemmatize</th>\n",
       "    </tr>\n",
       "  </thead>\n",
       "  <tbody>\n",
       "    <tr>\n",
       "      <th>0</th>\n",
       "      <td>cobaltjay</td>\n",
       "      <td>1653377746</td>\n",
       "      <td>0</td>\n",
       "      <td>What's your favourite brand for decaf tea?</td>\n",
       "      <td>I have recently started some new medication th...</td>\n",
       "      <td>0</td>\n",
       "      <td>What's your favourite brand for decaf tea? I h...</td>\n",
       "      <td>favourite brand decaf tea recently started new...</td>\n",
       "    </tr>\n",
       "    <tr>\n",
       "      <th>1</th>\n",
       "      <td>kibbles16</td>\n",
       "      <td>1653372437</td>\n",
       "      <td>0</td>\n",
       "      <td>How do you make tea taste refreshing?</td>\n",
       "      <td>I love tea, especially green and jasmine tea. ...</td>\n",
       "      <td>0</td>\n",
       "      <td>How do you make tea taste refreshing? I love t...</td>\n",
       "      <td>make tea taste refreshing love tea especially ...</td>\n",
       "    </tr>\n",
       "    <tr>\n",
       "      <th>2</th>\n",
       "      <td>-___ari___-</td>\n",
       "      <td>1653364473</td>\n",
       "      <td>0</td>\n",
       "      <td>how is the first flush experience? is it that ...</td>\n",
       "      <td>hi, just recently getting into specialty teas,...</td>\n",
       "      <td>0</td>\n",
       "      <td>how is the first flush experience? is it that ...</td>\n",
       "      <td>first flush experience good hi recently gettin...</td>\n",
       "    </tr>\n",
       "    <tr>\n",
       "      <th>3</th>\n",
       "      <td>UsernameNumberThree</td>\n",
       "      <td>1653350251</td>\n",
       "      <td>0</td>\n",
       "      <td>What are your most successful concoctions with...</td>\n",
       "      <td>I purchased some from a specialty shop in NYC....</td>\n",
       "      <td>0</td>\n",
       "      <td>What are your most successful concoctions with...</td>\n",
       "      <td>successful concoction butterfly pea flower tea...</td>\n",
       "    </tr>\n",
       "    <tr>\n",
       "      <th>4</th>\n",
       "      <td>mkmkatreddit</td>\n",
       "      <td>1653336633</td>\n",
       "      <td>0</td>\n",
       "      <td>Please help, is my Yixing teapot genuine?</td>\n",
       "      <td>Hi,\\ncan someone please help me asses whether ...</td>\n",
       "      <td>0</td>\n",
       "      <td>Please help, is my Yixing teapot genuine? Hi, ...</td>\n",
       "      <td>please help yixing teapot genuine hi someone p...</td>\n",
       "    </tr>\n",
       "    <tr>\n",
       "      <th>...</th>\n",
       "      <td>...</td>\n",
       "      <td>...</td>\n",
       "      <td>...</td>\n",
       "      <td>...</td>\n",
       "      <td>...</td>\n",
       "      <td>...</td>\n",
       "      <td>...</td>\n",
       "      <td>...</td>\n",
       "    </tr>\n",
       "    <tr>\n",
       "      <th>2437</th>\n",
       "      <td>jack_ftw</td>\n",
       "      <td>1650038368</td>\n",
       "      <td>0</td>\n",
       "      <td>\"Work perk\" mystery bag</td>\n",
       "      <td>A friend got a bag of coffee from work as a \"p...</td>\n",
       "      <td>1</td>\n",
       "      <td>\"Work perk\" mystery bag A friend got a bag of ...</td>\n",
       "      <td>work perk mystery bag friend got bag coffee w...</td>\n",
       "    </tr>\n",
       "    <tr>\n",
       "      <th>2438</th>\n",
       "      <td>Classic_Ad9996</td>\n",
       "      <td>1650035557</td>\n",
       "      <td>0</td>\n",
       "      <td>Bonavita Carafe</td>\n",
       "      <td>I have a Bonavita 8-Cup One-Touch, with Therma...</td>\n",
       "      <td>1</td>\n",
       "      <td>Bonavita Carafe I have a Bonavita 8-Cup One-To...</td>\n",
       "      <td>bonavita carafe bonavita 8 cup one touch therm...</td>\n",
       "    </tr>\n",
       "    <tr>\n",
       "      <th>2439</th>\n",
       "      <td>ResponsibilityNo6435</td>\n",
       "      <td>1650035176</td>\n",
       "      <td>0</td>\n",
       "      <td>Favorite coffee brewing from first to last</td>\n",
       "      <td>Okay, everyone has an opinion, especially abou...</td>\n",
       "      <td>1</td>\n",
       "      <td>Favorite coffee brewing from first to last Oka...</td>\n",
       "      <td>favorite coffee brewing first last okay everyo...</td>\n",
       "    </tr>\n",
       "    <tr>\n",
       "      <th>2440</th>\n",
       "      <td>pnwbg</td>\n",
       "      <td>1650033804</td>\n",
       "      <td>0</td>\n",
       "      <td>Broke my Kalita Wave</td>\n",
       "      <td>I broke my glass Kalita wave the day after I r...</td>\n",
       "      <td>1</td>\n",
       "      <td>Broke my Kalita Wave I broke my glass Kalita w...</td>\n",
       "      <td>broke kalita wave broke glass kalita wave day ...</td>\n",
       "    </tr>\n",
       "    <tr>\n",
       "      <th>2441</th>\n",
       "      <td>DrownedMilan</td>\n",
       "      <td>1650033416</td>\n",
       "      <td>0</td>\n",
       "      <td>When should syrup be added?</td>\n",
       "      <td>Hello, as someone who loves flavoured coffee (...</td>\n",
       "      <td>1</td>\n",
       "      <td>When should syrup be added? Hello, as someone ...</td>\n",
       "      <td>syrup added hello someone love flavoured coffe...</td>\n",
       "    </tr>\n",
       "  </tbody>\n",
       "</table>\n",
       "<p>2286 rows × 8 columns</p>\n",
       "</div>"
      ],
      "text/plain": [
       "                    author  created_utc  num_comments  \\\n",
       "0                cobaltjay   1653377746             0   \n",
       "1                kibbles16   1653372437             0   \n",
       "2              -___ari___-   1653364473             0   \n",
       "3      UsernameNumberThree   1653350251             0   \n",
       "4             mkmkatreddit   1653336633             0   \n",
       "...                    ...          ...           ...   \n",
       "2437              jack_ftw   1650038368             0   \n",
       "2438        Classic_Ad9996   1650035557             0   \n",
       "2439  ResponsibilityNo6435   1650035176             0   \n",
       "2440                 pnwbg   1650033804             0   \n",
       "2441          DrownedMilan   1650033416             0   \n",
       "\n",
       "                                                  title  \\\n",
       "0            What's your favourite brand for decaf tea?   \n",
       "1                 How do you make tea taste refreshing?   \n",
       "2     how is the first flush experience? is it that ...   \n",
       "3     What are your most successful concoctions with...   \n",
       "4             Please help, is my Yixing teapot genuine?   \n",
       "...                                                 ...   \n",
       "2437                            \"Work perk\" mystery bag   \n",
       "2438                                    Bonavita Carafe   \n",
       "2439         Favorite coffee brewing from first to last   \n",
       "2440                               Broke my Kalita Wave   \n",
       "2441                        When should syrup be added?   \n",
       "\n",
       "                                               selftext  subreddit  \\\n",
       "0     I have recently started some new medication th...          0   \n",
       "1     I love tea, especially green and jasmine tea. ...          0   \n",
       "2     hi, just recently getting into specialty teas,...          0   \n",
       "3     I purchased some from a specialty shop in NYC....          0   \n",
       "4     Hi,\\ncan someone please help me asses whether ...          0   \n",
       "...                                                 ...        ...   \n",
       "2437  A friend got a bag of coffee from work as a \"p...          1   \n",
       "2438  I have a Bonavita 8-Cup One-Touch, with Therma...          1   \n",
       "2439  Okay, everyone has an opinion, especially abou...          1   \n",
       "2440  I broke my glass Kalita wave the day after I r...          1   \n",
       "2441  Hello, as someone who loves flavoured coffee (...          1   \n",
       "\n",
       "                                                   text  \\\n",
       "0     What's your favourite brand for decaf tea? I h...   \n",
       "1     How do you make tea taste refreshing? I love t...   \n",
       "2     how is the first flush experience? is it that ...   \n",
       "3     What are your most successful concoctions with...   \n",
       "4     Please help, is my Yixing teapot genuine? Hi, ...   \n",
       "...                                                 ...   \n",
       "2437  \"Work perk\" mystery bag A friend got a bag of ...   \n",
       "2438  Bonavita Carafe I have a Bonavita 8-Cup One-To...   \n",
       "2439  Favorite coffee brewing from first to last Oka...   \n",
       "2440  Broke my Kalita Wave I broke my glass Kalita w...   \n",
       "2441  When should syrup be added? Hello, as someone ...   \n",
       "\n",
       "                                 text_cleaned_lemmatize  \n",
       "0     favourite brand decaf tea recently started new...  \n",
       "1     make tea taste refreshing love tea especially ...  \n",
       "2     first flush experience good hi recently gettin...  \n",
       "3     successful concoction butterfly pea flower tea...  \n",
       "4     please help yixing teapot genuine hi someone p...  \n",
       "...                                                 ...  \n",
       "2437   work perk mystery bag friend got bag coffee w...  \n",
       "2438  bonavita carafe bonavita 8 cup one touch therm...  \n",
       "2439  favorite coffee brewing first last okay everyo...  \n",
       "2440  broke kalita wave broke glass kalita wave day ...  \n",
       "2441  syrup added hello someone love flavoured coffe...  \n",
       "\n",
       "[2286 rows x 8 columns]"
      ]
     },
     "execution_count": 39,
     "metadata": {},
     "output_type": "execute_result"
    }
   ],
   "source": [
    "data_clean = data_clean[data_clean['author'] != 'AutoModerator']\n",
    "data_clean"
   ]
  },
  {
   "cell_type": "markdown",
   "id": "96060d8c-f9ec-4792-bd5d-355efe34b3a6",
   "metadata": {},
   "source": [
    "#### --> Count Vectorizer after Adjusted Stopwords"
   ]
  },
  {
   "cell_type": "markdown",
   "id": "8fc43018-6a6b-427c-9329-fa23f4d75f13",
   "metadata": {},
   "source": [
    "We will going to include the words that is very obvious in regards to either subreddits to the stopwords "
   ]
  },
  {
   "cell_type": "code",
   "execution_count": 40,
   "id": "03aff91c-fb1c-4bc0-9895-9a6bb031baec",
   "metadata": {},
   "outputs": [],
   "source": [
    "# list of additional stopwords to be appended to the stopwords list\n",
    "add_stopwords = ['tea', 'teas', 'coffee', 'would', 'like']"
   ]
  },
  {
   "cell_type": "code",
   "execution_count": 41,
   "id": "1ccb8402-098b-4d81-855a-c205bc9bd75a",
   "metadata": {},
   "outputs": [],
   "source": [
    "stopwords.extend(add_stopwords)"
   ]
  },
  {
   "cell_type": "code",
   "execution_count": 42,
   "id": "4d644de7-3b76-40aa-ac79-4a637808bcbe",
   "metadata": {},
   "outputs": [
    {
     "data": {
      "text/plain": [
       "['tea', 'teas', 'coffee', 'would', 'like']"
      ]
     },
     "execution_count": 42,
     "metadata": {},
     "output_type": "execute_result"
    }
   ],
   "source": [
    "stopwords[-5:]"
   ]
  },
  {
   "cell_type": "code",
   "execution_count": 43,
   "id": "7336f1a2-dbb0-4d3c-bfb2-b12a0603808d",
   "metadata": {},
   "outputs": [
    {
     "name": "stderr",
     "output_type": "stream",
     "text": [
      "C:\\Users\\ADIH~1.KUS\\AppData\\Local\\Temp/ipykernel_24392/3792411941.py:1: SettingWithCopyWarning: \n",
      "A value is trying to be set on a copy of a slice from a DataFrame.\n",
      "Try using .loc[row_indexer,col_indexer] = value instead\n",
      "\n",
      "See the caveats in the documentation: https://pandas.pydata.org/pandas-docs/stable/user_guide/indexing.html#returning-a-view-versus-a-copy\n",
      "  data_clean['text_cleaned_lemmatize_v2'] = data_clean['text'].apply(clean_text)\n"
     ]
    }
   ],
   "source": [
    "data_clean['text_cleaned_lemmatize_v2'] = data_clean['text'].apply(clean_text)"
   ]
  },
  {
   "cell_type": "code",
   "execution_count": 44,
   "id": "7a25bd5d-4cf4-4d67-8412-a4fdca170cac",
   "metadata": {},
   "outputs": [
    {
     "data": {
      "text/html": [
       "<div>\n",
       "<style scoped>\n",
       "    .dataframe tbody tr th:only-of-type {\n",
       "        vertical-align: middle;\n",
       "    }\n",
       "\n",
       "    .dataframe tbody tr th {\n",
       "        vertical-align: top;\n",
       "    }\n",
       "\n",
       "    .dataframe thead th {\n",
       "        text-align: right;\n",
       "    }\n",
       "</style>\n",
       "<table border=\"1\" class=\"dataframe\">\n",
       "  <thead>\n",
       "    <tr style=\"text-align: right;\">\n",
       "      <th></th>\n",
       "      <th>author</th>\n",
       "      <th>created_utc</th>\n",
       "      <th>num_comments</th>\n",
       "      <th>title</th>\n",
       "      <th>selftext</th>\n",
       "      <th>subreddit</th>\n",
       "      <th>text</th>\n",
       "      <th>text_cleaned_lemmatize</th>\n",
       "      <th>text_cleaned_lemmatize_v2</th>\n",
       "    </tr>\n",
       "  </thead>\n",
       "  <tbody>\n",
       "    <tr>\n",
       "      <th>0</th>\n",
       "      <td>cobaltjay</td>\n",
       "      <td>1653377746</td>\n",
       "      <td>0</td>\n",
       "      <td>What's your favourite brand for decaf tea?</td>\n",
       "      <td>I have recently started some new medication th...</td>\n",
       "      <td>0</td>\n",
       "      <td>What's your favourite brand for decaf tea? I h...</td>\n",
       "      <td>favourite brand decaf tea recently started new...</td>\n",
       "      <td>favourite brand decaf recently started new med...</td>\n",
       "    </tr>\n",
       "    <tr>\n",
       "      <th>1</th>\n",
       "      <td>kibbles16</td>\n",
       "      <td>1653372437</td>\n",
       "      <td>0</td>\n",
       "      <td>How do you make tea taste refreshing?</td>\n",
       "      <td>I love tea, especially green and jasmine tea. ...</td>\n",
       "      <td>0</td>\n",
       "      <td>How do you make tea taste refreshing? I love t...</td>\n",
       "      <td>make tea taste refreshing love tea especially ...</td>\n",
       "      <td>make taste refreshing love especially green ja...</td>\n",
       "    </tr>\n",
       "    <tr>\n",
       "      <th>2</th>\n",
       "      <td>-___ari___-</td>\n",
       "      <td>1653364473</td>\n",
       "      <td>0</td>\n",
       "      <td>how is the first flush experience? is it that ...</td>\n",
       "      <td>hi, just recently getting into specialty teas,...</td>\n",
       "      <td>0</td>\n",
       "      <td>how is the first flush experience? is it that ...</td>\n",
       "      <td>first flush experience good hi recently gettin...</td>\n",
       "      <td>first flush experience good hi recently gettin...</td>\n",
       "    </tr>\n",
       "    <tr>\n",
       "      <th>3</th>\n",
       "      <td>UsernameNumberThree</td>\n",
       "      <td>1653350251</td>\n",
       "      <td>0</td>\n",
       "      <td>What are your most successful concoctions with...</td>\n",
       "      <td>I purchased some from a specialty shop in NYC....</td>\n",
       "      <td>0</td>\n",
       "      <td>What are your most successful concoctions with...</td>\n",
       "      <td>successful concoction butterfly pea flower tea...</td>\n",
       "      <td>successful concoction butterfly pea flower pur...</td>\n",
       "    </tr>\n",
       "    <tr>\n",
       "      <th>4</th>\n",
       "      <td>mkmkatreddit</td>\n",
       "      <td>1653336633</td>\n",
       "      <td>0</td>\n",
       "      <td>Please help, is my Yixing teapot genuine?</td>\n",
       "      <td>Hi,\\ncan someone please help me asses whether ...</td>\n",
       "      <td>0</td>\n",
       "      <td>Please help, is my Yixing teapot genuine? Hi, ...</td>\n",
       "      <td>please help yixing teapot genuine hi someone p...</td>\n",
       "      <td>please help yixing teapot genuine hi someone p...</td>\n",
       "    </tr>\n",
       "  </tbody>\n",
       "</table>\n",
       "</div>"
      ],
      "text/plain": [
       "                author  created_utc  num_comments  \\\n",
       "0            cobaltjay   1653377746             0   \n",
       "1            kibbles16   1653372437             0   \n",
       "2          -___ari___-   1653364473             0   \n",
       "3  UsernameNumberThree   1653350251             0   \n",
       "4         mkmkatreddit   1653336633             0   \n",
       "\n",
       "                                               title  \\\n",
       "0         What's your favourite brand for decaf tea?   \n",
       "1              How do you make tea taste refreshing?   \n",
       "2  how is the first flush experience? is it that ...   \n",
       "3  What are your most successful concoctions with...   \n",
       "4          Please help, is my Yixing teapot genuine?   \n",
       "\n",
       "                                            selftext  subreddit  \\\n",
       "0  I have recently started some new medication th...          0   \n",
       "1  I love tea, especially green and jasmine tea. ...          0   \n",
       "2  hi, just recently getting into specialty teas,...          0   \n",
       "3  I purchased some from a specialty shop in NYC....          0   \n",
       "4  Hi,\\ncan someone please help me asses whether ...          0   \n",
       "\n",
       "                                                text  \\\n",
       "0  What's your favourite brand for decaf tea? I h...   \n",
       "1  How do you make tea taste refreshing? I love t...   \n",
       "2  how is the first flush experience? is it that ...   \n",
       "3  What are your most successful concoctions with...   \n",
       "4  Please help, is my Yixing teapot genuine? Hi, ...   \n",
       "\n",
       "                              text_cleaned_lemmatize  \\\n",
       "0  favourite brand decaf tea recently started new...   \n",
       "1  make tea taste refreshing love tea especially ...   \n",
       "2  first flush experience good hi recently gettin...   \n",
       "3  successful concoction butterfly pea flower tea...   \n",
       "4  please help yixing teapot genuine hi someone p...   \n",
       "\n",
       "                           text_cleaned_lemmatize_v2  \n",
       "0  favourite brand decaf recently started new med...  \n",
       "1  make taste refreshing love especially green ja...  \n",
       "2  first flush experience good hi recently gettin...  \n",
       "3  successful concoction butterfly pea flower pur...  \n",
       "4  please help yixing teapot genuine hi someone p...  "
      ]
     },
     "execution_count": 44,
     "metadata": {},
     "output_type": "execute_result"
    }
   ],
   "source": [
    "data_clean.head()"
   ]
  },
  {
   "cell_type": "code",
   "execution_count": 45,
   "id": "dda5ae0f-50a6-43fa-8f7a-94c790f29bcf",
   "metadata": {},
   "outputs": [],
   "source": [
    "X_tea2 = data_clean[data_clean['subreddit'] == 0]['text_cleaned_lemmatize_v2']\n",
    "X_coffee2 = data_clean[data_clean['subreddit'] == 1]['text_cleaned_lemmatize_v2']"
   ]
  },
  {
   "cell_type": "markdown",
   "id": "f61dcf83-a2af-48e1-b18b-c2c9b280a96b",
   "metadata": {},
   "source": [
    "Let's try again to check if there will be any difference on the transformer"
   ]
  },
  {
   "cell_type": "markdown",
   "id": "63391b3a-ace1-4a94-8977-1bbd57a8029c",
   "metadata": {},
   "source": [
    "##### + Unigram"
   ]
  },
  {
   "cell_type": "code",
   "execution_count": 46,
   "id": "bd540876-a87c-4283-853f-124a76919d4c",
   "metadata": {},
   "outputs": [
    {
     "name": "stdout",
     "output_type": "stream",
     "text": [
      "The shape of the r/tea matrix : (1108, 6259)\n",
      "The shape of the r/Coffee matrix : (1178, 6868)\n"
     ]
    },
    {
     "data": {
      "image/png": "[encoded data removed]",
      "text/plain": [
       "<Figure size 1080x720 with 2 Axes>"
      ]
     },
     "metadata": {
      "needs_background": "light"
     },
     "output_type": "display_data"
    }
   ],
   "source": [
    "subplot_barplot(X_tea2, X_coffee2, 'r/tea', 'r/Coffee', (1,1), 'Unigram', 'cvec')"
   ]
  },
  {
   "cell_type": "markdown",
   "id": "4a7718ce-1d67-4cbf-8825-092c3a8d6ff4",
   "metadata": {},
   "source": [
    "Remarks: After the additional stopwords, the unigram top words seems to be more relevant to the subreddit eventhough the top count dropped by at least 70%.  \n",
    "The top indicator words for r/tea:\n",
    "1. leaf\n",
    "2. good\n",
    "3. one\n",
    "4. green\n",
    "5. black\n",
    "\n",
    "The top indicator words for r/Coffee:\n",
    "1. machine\n",
    "2. grinder\n",
    "3. espresso\n",
    "4. bean\n",
    "5. get"
   ]
  },
  {
   "cell_type": "markdown",
   "id": "63a1156e-a96e-4a1d-89a6-a7c6061cdcec",
   "metadata": {
    "tags": []
   },
   "source": [
    "##### + Bigram"
   ]
  },
  {
   "cell_type": "code",
   "execution_count": 47,
   "id": "c0d63c86-13de-4614-b0ec-486ba4588f2a",
   "metadata": {},
   "outputs": [
    {
     "name": "stdout",
     "output_type": "stream",
     "text": [
      "The shape of the r/tea matrix : (1108, 37157)\n",
      "The shape of the r/Coffee matrix : (1178, 45241)\n"
     ]
    },
    {
     "data": {
      "image/png": "[encoded data removed]",
      "text/plain": [
       "<Figure size 1080x720 with 2 Axes>"
      ]
     },
     "metadata": {
      "needs_background": "light"
     },
     "output_type": "display_data"
    }
   ],
   "source": [
    "subplot_barplot(X_tea2, X_coffee2, 'r/tea', 'r/Coffee', (2,2), 'Bigram', 'cvec')"
   ]
  },
  {
   "cell_type": "markdown",
   "id": "0c514b23-85fa-4171-aa0b-1567e2f340a8",
   "metadata": {},
   "source": [
    "Remarks: The bigram words also improved by fair bit.  \n",
    "The top bigram words for r/tea:\n",
    "1. loose leaf\n",
    "2. earl grey\n",
    "3. pu erh\n",
    "4. anyone know\n",
    "5. first time\n",
    "\n",
    "Most of the bigram in r/tea is the type of teas and there are many beginners that started to drinking tea.  \n",
    "One interesting insight is the brand Harney & Sons are mentioned quite frequently\n",
    "\n",
    "The top bigram words for r/Coffee:\n",
    "1. french press\n",
    "2. cold brew\n",
    "3. espresso machine\n",
    "4. moka pot\n",
    "5. hand grinder\n",
    "\n",
    "As per the unigram, the machine and technique still are the indicator words in r/Coffee"
   ]
  },
  {
   "cell_type": "markdown",
   "id": "b4b12d32-fcd1-4bd1-a960-10653449da55",
   "metadata": {
    "tags": []
   },
   "source": [
    "##### + Trigram"
   ]
  },
  {
   "cell_type": "code",
   "execution_count": 48,
   "id": "548d8077-48ae-4896-b0bf-15e7ccf190e7",
   "metadata": {},
   "outputs": [
    {
     "name": "stdout",
     "output_type": "stream",
     "text": [
      "The shape of the r/tea matrix : (1108, 42914)\n",
      "The shape of the r/Coffee matrix : (1178, 53314)\n"
     ]
    },
    {
     "data": {
      "image/png": "[encoded data removed]",
      "text/plain": [
       "<Figure size 1080x720 with 2 Axes>"
      ]
     },
     "metadata": {
      "needs_background": "light"
     },
     "output_type": "display_data"
    }
   ],
   "source": [
    "subplot_barplot(X_tea2, X_coffee2, 'r/tea', 'r/Coffee', (3,3), 'Trigram', 'cvec')"
   ]
  },
  {
   "cell_type": "markdown",
   "id": "80c7223a-f846-428e-966a-898986809bea",
   "metadata": {},
   "source": [
    "Remarks: Similar to bigram top indicator, the trigram top indicator words also has the similar style."
   ]
  },
  {
   "cell_type": "markdown",
   "id": "d28b53b0-d80f-48ec-9948-cdab388a586a",
   "metadata": {},
   "source": [
    "#### -> TF-IDF after Adjusted Stopwords"
   ]
  },
  {
   "cell_type": "markdown",
   "id": "d0ec1b9e-7512-46fc-94be-b17d70841115",
   "metadata": {},
   "source": [
    "##### + Unigram"
   ]
  },
  {
   "cell_type": "code",
   "execution_count": 49,
   "id": "106979eb-7fd1-4bff-aaf2-c46df529864f",
   "metadata": {},
   "outputs": [
    {
     "name": "stdout",
     "output_type": "stream",
     "text": [
      "The shape of the r/tea matrix : (1108, 6259)\n",
      "The shape of the r/Coffee matrix : (1178, 6868)\n"
     ]
    },
    {
     "data": {
      "image/png": "[encoded data removed]",
      "text/plain": [
       "<Figure size 1080x720 with 2 Axes>"
      ]
     },
     "metadata": {
      "needs_background": "light"
     },
     "output_type": "display_data"
    }
   ],
   "source": [
    "subplot_barplot(X_tea2, X_coffee2, 'r/tea', 'r/Coffee', (1,1), 'Unigram', 'tfidf')"
   ]
  },
  {
   "cell_type": "markdown",
   "id": "a4a01159-77f0-458d-9294-42a748e6da0e",
   "metadata": {},
   "source": [
    "##### + Bigram"
   ]
  },
  {
   "cell_type": "code",
   "execution_count": 50,
   "id": "b6118e66-59a5-4557-bf9a-71cb7f9db68d",
   "metadata": {},
   "outputs": [
    {
     "name": "stdout",
     "output_type": "stream",
     "text": [
      "The shape of the r/tea matrix : (1108, 37157)\n",
      "The shape of the r/Coffee matrix : (1178, 45241)\n"
     ]
    },
    {
     "data": {
      "image/png": "[encoded data removed]",
      "text/plain": [
       "<Figure size 1080x720 with 2 Axes>"
      ]
     },
     "metadata": {
      "needs_background": "light"
     },
     "output_type": "display_data"
    }
   ],
   "source": [
    "subplot_barplot(X_tea2, X_coffee2, 'r/tea', 'r/Coffee', (2,2), 'Bigram', 'tfidf')"
   ]
  },
  {
   "cell_type": "markdown",
   "id": "9fd9c3b6-a57e-401b-9285-b710b2aefb8f",
   "metadata": {},
   "source": [
    "##### + Trigram"
   ]
  },
  {
   "cell_type": "code",
   "execution_count": 51,
   "id": "debb84a9-53b5-4842-9f67-d7e6c00e2e25",
   "metadata": {},
   "outputs": [
    {
     "name": "stdout",
     "output_type": "stream",
     "text": [
      "The shape of the r/tea matrix : (1108, 42914)\n",
      "The shape of the r/Coffee matrix : (1178, 53314)\n"
     ]
    },
    {
     "data": {
      "image/png": "[encoded data removed]",
      "text/plain": [
       "<Figure size 1080x720 with 2 Axes>"
      ]
     },
     "metadata": {
      "needs_background": "light"
     },
     "output_type": "display_data"
    }
   ],
   "source": [
    "subplot_barplot(X_tea2, X_coffee2, 'r/tea', 'r/Coffee', (3,3), 'Trigram', 'tfidf')"
   ]
  },
  {
   "cell_type": "markdown",
   "id": "29e814a7-a06a-403d-9b28-5317887b3150",
   "metadata": {},
   "source": [
    "Remarks: The top indicator words is similar as the Count Vectorizer for all unigram, bigram and trigram"
   ]
  },
  {
   "cell_type": "markdown",
   "id": "c068bcac-53a6-41e2-96ca-721f0a51b63c",
   "metadata": {},
   "source": [
    "## 4. Modelling"
   ]
  },
  {
   "cell_type": "markdown",
   "id": "aee6ba86-392b-418a-9d0d-9bb2cb81f313",
   "metadata": {},
   "source": [
    "Let's set up our data for modeling:\n",
    "- `X` will be the `text` column\n",
    "- `y` will be the `subreddit` column"
   ]
  },
  {
   "cell_type": "code",
   "execution_count": 52,
   "id": "ed7846e1-8278-4af0-a9b2-30a8a0513168",
   "metadata": {
    "tags": []
   },
   "outputs": [],
   "source": [
    "X = data_clean['text_cleaned_lemmatize_v2']\n",
    "y = data_clean['subreddit']"
   ]
  },
  {
   "cell_type": "markdown",
   "id": "af0db1c1-9dd6-4fb6-a184-2fc9cebd691d",
   "metadata": {},
   "source": [
    "### - Baseline Model"
   ]
  },
  {
   "cell_type": "markdown",
   "id": "4f2f1b01-8074-4047-a817-ac89c34026c4",
   "metadata": {},
   "source": [
    "First, we will check the baseline model accuracy based on the value count of the subreddit category"
   ]
  },
  {
   "cell_type": "code",
   "execution_count": 53,
   "id": "05a6e0c0-8ecf-4605-9e49-dab97484aee5",
   "metadata": {},
   "outputs": [
    {
     "data": {
      "text/plain": [
       "1    0.515311\n",
       "0    0.484689\n",
       "Name: subreddit, dtype: float64"
      ]
     },
     "execution_count": 53,
     "metadata": {},
     "output_type": "execute_result"
    }
   ],
   "source": [
    "# Check what we need to check in a classification problem.\n",
    "y.value_counts(normalize= True)"
   ]
  },
  {
   "cell_type": "code",
   "execution_count": 54,
   "id": "64ba67a5-682a-45a2-afac-f907c4e58723",
   "metadata": {},
   "outputs": [
    {
     "data": {
      "text/plain": [
       "([<matplotlib.axis.YTick at 0x1da726089a0>,\n",
       "  <matplotlib.axis.YTick at 0x1da72608cd0>],\n",
       " [Text(0, 0, 'r/Coffee'), Text(0, 1, 'r/tea')])"
      ]
     },
     "execution_count": 54,
     "metadata": {},
     "output_type": "execute_result"
    },
    {
     "data": {
      "image/png": "[encoded data removed]",
      "text/plain": [
       "<Figure size 720x432 with 1 Axes>"
      ]
     },
     "metadata": {
      "needs_background": "light"
     },
     "output_type": "display_data"
    }
   ],
   "source": [
    "# Plot a bar graph of the value count\n",
    "plt.rcParams['figure.figsize'] = 10,6\n",
    "y.value_counts(normalize= True).plot(kind='barh')\n",
    "\n",
    "plt.title('Total Percentage of Subreddit Posts in the Dataset')\n",
    "plt.yticks([0,1], ['r/Coffee','r/tea'])"
   ]
  },
  {
   "cell_type": "markdown",
   "id": "7d00ad6e-72a3-4ffb-887c-9f6e979b4698",
   "metadata": {},
   "source": [
    "We can conclude that the accuracy of the baseline model will be **51.5311%**"
   ]
  },
  {
   "cell_type": "markdown",
   "id": "9b3b8705-3a9b-4290-9d45-1634dd42d82e",
   "metadata": {},
   "source": [
    "### - Train Test Split"
   ]
  },
  {
   "cell_type": "code",
   "execution_count": 55,
   "id": "940a2fc5-ad84-453b-820d-b92d7c3353ab",
   "metadata": {},
   "outputs": [],
   "source": [
    "# Split the data into the training and testing sets.\n",
    "X_train, X_test, y_train, y_test = train_test_split(X,\n",
    "                                                    y,\n",
    "                                                    test_size=0.33,\n",
    "                                                    stratify=y,\n",
    "                                                    random_state=42)"
   ]
  },
  {
   "cell_type": "markdown",
   "id": "3a861658-2e98-4ef4-8675-a6012f70c9b2",
   "metadata": {},
   "source": [
    "We will do multiple combination of modelling to determine which one has the best indicator, here are the following combinations:\n",
    "1. Count Vectorizer / Multinomial Naive Bayes\n",
    "2. TF-IDF / Multinomial Naive Bayes\n",
    "3. Count Vectorizer/ Binomial Naive Bayes\n",
    "4. TF-IDF / Binomial Naive Bayes\n",
    "5. Count Vectorizer / Logistic Regression\n",
    "6. TF-IDF / Logistic Regression"
   ]
  },
  {
   "cell_type": "markdown",
   "id": "90089a36-5c0d-43d6-a8d1-aab53e9d3623",
   "metadata": {},
   "source": [
    "The process of the modelling as follow:\n",
    "1. Insert the transformer and estimator model to a pipeline\n",
    "2. Set the pipe parameters\n",
    "3. Instantiate GridSearchCV to find the best parameters to be fitted\n",
    "4. Fit the GridSearchCV fitted model with the train and test data to calculate the accuracy\n",
    "5. Find the features importance of each subreddit\n",
    "6. Plot a confusion matrix and ROC Curve"
   ]
  },
  {
   "cell_type": "markdown",
   "id": "8c3df89a-afe1-4b76-a418-e0b6e10277b7",
   "metadata": {},
   "source": [
    "### 4.1 Count Vectorizer / Multinomial Naive Bayes"
   ]
  },
  {
   "cell_type": "code",
   "execution_count": 56,
   "id": "0e1d0c84-6d55-42cf-a623-7ebd8d591830",
   "metadata": {},
   "outputs": [],
   "source": [
    "# Let's set a pipeline up with two stages:\n",
    "# 1. CountVectorizer (transformer)\n",
    "# 2. Multinomial Naive Bayes (estimator)\n",
    "\n",
    "pipe1 = Pipeline([\n",
    "    ('cvec', CountVectorizer()),\n",
    "    ('nb', MultinomialNB())\n",
    "])"
   ]
  },
  {
   "cell_type": "code",
   "execution_count": 57,
   "id": "decf9b5b-81a4-43e1-ae38-f0730687aaa1",
   "metadata": {},
   "outputs": [],
   "source": [
    "# Search over the following values of hyperparameters:\n",
    "# Maximum number of features fit: 2000, 3000, 4000, 5000\n",
    "# Minimum number of documents needed to include token: 2, 3\n",
    "# Maximum number of documents needed to include token: 90%, 95%\n",
    "# Check (individual tokens) and also check (individual tokens and 2-grams).\n",
    "# Alpha for the laplace smoothing of the multinomial NB\n",
    "\n",
    "pipe_params1 = {\n",
    "    'cvec__max_features': [2_000, 3_000, 4_000, 5_000],\n",
    "    'cvec__min_df': [2, 3],\n",
    "    'cvec__max_df': [.9, .95],\n",
    "    'cvec__ngram_range': [(1,1), (1,2), (1,3), (2,2), (3,3)],\n",
    "    'nb__alpha': [0.25, 0.5, 0.75, 1.0]\n",
    "}"
   ]
  },
  {
   "cell_type": "code",
   "execution_count": 58,
   "id": "ccaf08f0-4ee1-4577-92e7-f4e5962f558c",
   "metadata": {},
   "outputs": [],
   "source": [
    "# Instantiate GridSearchCV.\n",
    "\n",
    "gs = GridSearchCV(pipe1, # what object are we optimizing?\n",
    "                  param_grid=pipe_params1, # what parameters values are we searching?\n",
    "                  cv=5, n_jobs=-1) # 5-fold cross-validation."
   ]
  },
  {
   "cell_type": "code",
   "execution_count": 59,
   "id": "165dd3d1-00bc-48e0-836b-faab9ba0647b",
   "metadata": {
    "scrolled": true
   },
   "outputs": [
    {
     "name": "stdout",
     "output_type": "stream",
     "text": [
      "Wall time: 1min 27s\n"
     ]
    },
    {
     "data": {
      "text/plain": [
       "GridSearchCV(cv=5,\n",
       "             estimator=Pipeline(steps=[('cvec', CountVectorizer()),\n",
       "                                       ('nb', MultinomialNB())]),\n",
       "             n_jobs=-1,\n",
       "             param_grid={'cvec__max_df': [0.9, 0.95],\n",
       "                         'cvec__max_features': [2000, 3000, 4000, 5000],\n",
       "                         'cvec__min_df': [2, 3],\n",
       "                         'cvec__ngram_range': [(1, 1), (1, 2), (1, 3), (2, 2),\n",
       "                                               (3, 3)],\n",
       "                         'nb__alpha': [0.25, 0.5, 0.75, 1.0]})"
      ]
     },
     "execution_count": 59,
     "metadata": {},
     "output_type": "execute_result"
    }
   ],
   "source": [
    "%%time\n",
    "# Fit GridSearch to training data.\n",
    "gs.fit(X_train, y_train)"
   ]
  },
  {
   "cell_type": "code",
   "execution_count": 60,
   "id": "bfc5b25b-102a-4765-a90c-013a261c782b",
   "metadata": {},
   "outputs": [
    {
     "data": {
      "text/plain": [
       "{'cvec__max_df': 0.9,\n",
       " 'cvec__max_features': 4000,\n",
       " 'cvec__min_df': 2,\n",
       " 'cvec__ngram_range': (1, 1),\n",
       " 'nb__alpha': 1.0}"
      ]
     },
     "execution_count": 60,
     "metadata": {},
     "output_type": "execute_result"
    }
   ],
   "source": [
    "gs.best_params_"
   ]
  },
  {
   "cell_type": "code",
   "execution_count": 61,
   "id": "46bc4b5b-50a0-49e0-b68b-10d7dcc2a9c7",
   "metadata": {},
   "outputs": [
    {
     "name": "stdout",
     "output_type": "stream",
     "text": [
      "0.9052947563390177\n"
     ]
    }
   ],
   "source": [
    "print(gs.best_score_)"
   ]
  },
  {
   "cell_type": "code",
   "execution_count": 62,
   "id": "534a85fb-8cb9-48ae-a955-878a6be96bec",
   "metadata": {},
   "outputs": [
    {
     "data": {
      "text/plain": [
       "0.9673416067929458"
      ]
     },
     "execution_count": 62,
     "metadata": {},
     "output_type": "execute_result"
    }
   ],
   "source": [
    "# Score model on training set.\n",
    "gs.score(X_train, y_train)"
   ]
  },
  {
   "cell_type": "code",
   "execution_count": 63,
   "id": "8f96b571-5616-49e8-852b-b4ca68ab8c59",
   "metadata": {},
   "outputs": [
    {
     "data": {
      "text/plain": [
       "0.9139072847682119"
      ]
     },
     "execution_count": 63,
     "metadata": {},
     "output_type": "execute_result"
    }
   ],
   "source": [
    "# Score model on testing set.\n",
    "gs.score(X_test, y_test)"
   ]
  },
  {
   "cell_type": "code",
   "execution_count": 64,
   "id": "eab24e2c-93c0-4927-afc0-0caddd514aa3",
   "metadata": {},
   "outputs": [],
   "source": [
    "# Get predictions\n",
    "preds = gs.predict(X_test)\n",
    "\n",
    "# Save confusion matrix values\n",
    "tn, fp, fn, tp = confusion_matrix(y_test, preds).ravel()"
   ]
  },
  {
   "cell_type": "markdown",
   "id": "72ab3ffb-7eaf-434e-9c29-34422041c3a7",
   "metadata": {},
   "source": [
    "**Features Importance**"
   ]
  },
  {
   "cell_type": "code",
   "execution_count": 65,
   "id": "4be42f46-10a1-4f58-9381-d9948006f065",
   "metadata": {},
   "outputs": [],
   "source": [
    "nb_m1 = gs.best_estimator_.named_steps['nb']\n",
    "cvec_m1 = gs.best_estimator_.named_steps['cvec']"
   ]
  },
  {
   "cell_type": "code",
   "execution_count": 213,
   "id": "971ce61d-8948-4b2b-9a34-4a46675bfa1f",
   "metadata": {},
   "outputs": [],
   "source": [
    "from IPython.display import display_html\n",
    "\n",
    "def FeaturesImportanceNB(trfmr, nb):\n",
    "    df = pd.DataFrame()\n",
    "\n",
    "    df['feature'] = trfmr.get_feature_names()\n",
    "    df['log prob diff'] = nb.feature_log_prob_[1,:] - nb.feature_log_prob_[0, :]\n",
    "\n",
    "    df_tea = df.sort_values(by= 'log prob diff', ascending= True).head(10)\n",
    "    df_coffee = df.sort_values(by= 'log prob diff', ascending= False).head(10)\n",
    "\n",
    "    caption1 = df_tea.style.set_table_attributes(\"style='display:inline'\").set_caption('r/tea Features Importance')\n",
    "    caption2 = df_coffee.style.set_table_attributes(\"style='display:inline'\").set_caption('r/Coffee Features Importance')\n",
    "    display_html(caption1._repr_html_()+'&emsp;&emsp;'+caption2._repr_html_(), raw=True)\n",
    "    "
   ]
  },
  {
   "cell_type": "code",
   "execution_count": 172,
   "id": "f9771cf1-2644-475f-b18b-346ac0ab7556",
   "metadata": {},
   "outputs": [
    {
     "data": {
      "text/html": [
       "<style type=\"text/css\">\n",
       "</style>\n",
       "<table id=\"T_2e078_\" style='display:inline'>\n",
       "  <caption>r/tea Features Importance</caption>\n",
       "  <thead>\n",
       "    <tr>\n",
       "      <th class=\"blank level0\" >&nbsp;</th>\n",
       "      <th class=\"col_heading level0 col0\" >feature</th>\n",
       "      <th class=\"col_heading level0 col1\" >log prob diff</th>\n",
       "    </tr>\n",
       "  </thead>\n",
       "  <tbody>\n",
       "    <tr>\n",
       "      <th id=\"T_2e078_level0_row0\" class=\"row_heading level0 row0\" >2396</th>\n",
       "      <td id=\"T_2e078_row0_col0\" class=\"data row0 col0\" >oolong</td>\n",
       "      <td id=\"T_2e078_row0_col1\" class=\"data row0 col1\" >-5.129162</td>\n",
       "    </tr>\n",
       "    <tr>\n",
       "      <th id=\"T_2e078_level0_row1\" class=\"row_heading level0 row1\" >2149</th>\n",
       "      <td id=\"T_2e078_row1_col0\" class=\"data row1 col0\" >matcha</td>\n",
       "      <td id=\"T_2e078_row1_col1\" class=\"data row1 col1\" >-4.813524</td>\n",
       "    </tr>\n",
       "    <tr>\n",
       "      <th id=\"T_2e078_level0_row2\" class=\"row_heading level0 row2\" >1990</th>\n",
       "      <td id=\"T_2e078_row2_col0\" class=\"data row2 col0\" >leaf</td>\n",
       "      <td id=\"T_2e078_row2_col1\" class=\"data row2 col1\" >-4.480140</td>\n",
       "    </tr>\n",
       "    <tr>\n",
       "      <th id=\"T_2e078_level0_row3\" class=\"row_heading level0 row3\" >2712</th>\n",
       "      <td id=\"T_2e078_row3_col0\" class=\"data row3 col0\" >pu</td>\n",
       "      <td id=\"T_2e078_row3_col1\" class=\"data row3 col1\" >-4.170639</td>\n",
       "    </tr>\n",
       "    <tr>\n",
       "      <th id=\"T_2e078_level0_row4\" class=\"row_heading level0 row4\" >1699</th>\n",
       "      <td id=\"T_2e078_row4_col0\" class=\"data row4 col0\" >herbal</td>\n",
       "      <td id=\"T_2e078_row4_col1\" class=\"data row4 col1\" >-4.170639</td>\n",
       "    </tr>\n",
       "    <tr>\n",
       "      <th id=\"T_2e078_level0_row5\" class=\"row_heading level0 row5\" >2073</th>\n",
       "      <td id=\"T_2e078_row5_col0\" class=\"data row5 col0\" >loose</td>\n",
       "      <td id=\"T_2e078_row5_col1\" class=\"data row5 col1\" >-4.088961</td>\n",
       "    </tr>\n",
       "    <tr>\n",
       "      <th id=\"T_2e078_level0_row6\" class=\"row_heading level0 row6\" >1151</th>\n",
       "      <td id=\"T_2e078_row6_col0\" class=\"data row6 col0\" >earl</td>\n",
       "      <td id=\"T_2e078_row6_col1\" class=\"data row6 col1\" >-4.023003</td>\n",
       "    </tr>\n",
       "    <tr>\n",
       "      <th id=\"T_2e078_level0_row7\" class=\"row_heading level0 row7\" >3477</th>\n",
       "      <td id=\"T_2e078_row7_col0\" class=\"data row7 col0\" >teapot</td>\n",
       "      <td id=\"T_2e078_row7_col1\" class=\"data row7 col1\" >-3.940115</td>\n",
       "    </tr>\n",
       "    <tr>\n",
       "      <th id=\"T_2e078_level0_row8\" class=\"row_heading level0 row8\" >1888</th>\n",
       "      <td id=\"T_2e078_row8_col0\" class=\"data row8 col0\" >jasmine</td>\n",
       "      <td id=\"T_2e078_row8_col1\" class=\"data row8 col1\" >-3.876399</td>\n",
       "    </tr>\n",
       "    <tr>\n",
       "      <th id=\"T_2e078_level0_row9\" class=\"row_heading level0 row9\" >2007</th>\n",
       "      <td id=\"T_2e078_row9_col0\" class=\"data row9 col0\" >lemon</td>\n",
       "      <td id=\"T_2e078_row9_col1\" class=\"data row9 col1\" >-3.794161</td>\n",
       "    </tr>\n",
       "  </tbody>\n",
       "</table>\n",
       "&emsp;&emsp;<style type=\"text/css\">\n",
       "</style>\n",
       "<table id=\"T_e60d5_\" style='display:inline'>\n",
       "  <caption>r/Coffee Features Importance</caption>\n",
       "  <thead>\n",
       "    <tr>\n",
       "      <th class=\"blank level0\" >&nbsp;</th>\n",
       "      <th class=\"col_heading level0 col0\" >feature</th>\n",
       "      <th class=\"col_heading level0 col1\" >log prob diff</th>\n",
       "    </tr>\n",
       "  </thead>\n",
       "  <tbody>\n",
       "    <tr>\n",
       "      <th id=\"T_e60d5_level0_row0\" class=\"row_heading level0 row0\" >1607</th>\n",
       "      <td id=\"T_e60d5_row0_col0\" class=\"data row0 col0\" >grinder</td>\n",
       "      <td id=\"T_e60d5_row0_col1\" class=\"data row0 col1\" >5.604731</td>\n",
       "    </tr>\n",
       "    <tr>\n",
       "      <th id=\"T_e60d5_level0_row1\" class=\"row_heading level0 row1\" >1238</th>\n",
       "      <td id=\"T_e60d5_row1_col0\" class=\"data row1 col0\" >espresso</td>\n",
       "      <td id=\"T_e60d5_row1_col1\" class=\"data row1 col1\" >4.902850</td>\n",
       "    </tr>\n",
       "    <tr>\n",
       "      <th id=\"T_e60d5_level0_row2\" class=\"row_heading level0 row2\" >577</th>\n",
       "      <td id=\"T_e60d5_row2_col0\" class=\"data row2 col0\" >burr</td>\n",
       "      <td id=\"T_e60d5_row2_col1\" class=\"data row2 col1\" >4.523361</td>\n",
       "    </tr>\n",
       "    <tr>\n",
       "      <th id=\"T_e60d5_level0_row3\" class=\"row_heading level0 row3\" >423</th>\n",
       "      <td id=\"T_e60d5_row3_col0\" class=\"data row3 col0\" >bean</td>\n",
       "      <td id=\"T_e60d5_row3_col1\" class=\"data row3 col1\" >4.363018</td>\n",
       "    </tr>\n",
       "    <tr>\n",
       "      <th id=\"T_e60d5_level0_row4\" class=\"row_heading level0 row4\" >3709</th>\n",
       "      <td id=\"T_e60d5_row4_col0\" class=\"data row4 col0\" >v60</td>\n",
       "      <td id=\"T_e60d5_row4_col1\" class=\"data row4 col1\" >4.346154</td>\n",
       "    </tr>\n",
       "    <tr>\n",
       "      <th id=\"T_e60d5_level0_row5\" class=\"row_heading level0 row5\" >2105</th>\n",
       "      <td id=\"T_e60d5_row5_col0\" class=\"data row5 col0\" >machine</td>\n",
       "      <td id=\"T_e60d5_row5_col1\" class=\"data row5 col1\" >4.235679</td>\n",
       "    </tr>\n",
       "    <tr>\n",
       "      <th id=\"T_e60d5_level0_row6\" class=\"row_heading level0 row6\" >2916</th>\n",
       "      <td id=\"T_e60d5_row6_col0\" class=\"data row6 col0\" >roaster</td>\n",
       "      <td id=\"T_e60d5_row6_col1\" class=\"data row6 col1\" >4.180028</td>\n",
       "    </tr>\n",
       "    <tr>\n",
       "      <th id=\"T_e60d5_level0_row7\" class=\"row_heading level0 row7\" >209</th>\n",
       "      <td id=\"T_e60d5_row7_col0\" class=\"data row7 col0\" >aeropress</td>\n",
       "      <td id=\"T_e60d5_row7_col1\" class=\"data row7 col1\" >4.155636</td>\n",
       "    </tr>\n",
       "    <tr>\n",
       "      <th id=\"T_e60d5_level0_row8\" class=\"row_heading level0 row8\" >1605</th>\n",
       "      <td id=\"T_e60d5_row8_col0\" class=\"data row8 col0\" >grind</td>\n",
       "      <td id=\"T_e60d5_row8_col1\" class=\"data row8 col1\" >4.028551</td>\n",
       "    </tr>\n",
       "    <tr>\n",
       "      <th id=\"T_e60d5_level0_row9\" class=\"row_heading level0 row9\" >2914</th>\n",
       "      <td id=\"T_e60d5_row9_col0\" class=\"data row9 col0\" >roast</td>\n",
       "      <td id=\"T_e60d5_row9_col1\" class=\"data row9 col1\" >3.750171</td>\n",
       "    </tr>\n",
       "  </tbody>\n",
       "</table>\n"
      ]
     },
     "metadata": {},
     "output_type": "display_data"
    }
   ],
   "source": [
    "# display the features importance of each subreddit\n",
    "FeaturesImportanceNB(cvec_m1,nb_m1)"
   ]
  },
  {
   "cell_type": "markdown",
   "id": "02bea6b1-3327-4755-a0c6-f2dabf95ae69",
   "metadata": {},
   "source": [
    "The features importance that is determine based on the model has the same trend as per our top indicator in the EDA part.  \n",
    "For r/tea, we can see more type of tea coming out, such as oolong, matcha, pu (for pu erh), herbal, earl (for earl grey), jasmine, lemon  \n",
    "For r/Coffee, the method and machine is still the important feature"
   ]
  },
  {
   "cell_type": "code",
   "execution_count": 68,
   "id": "8b7b2fdf-d85f-445c-bd5e-35436f73479e",
   "metadata": {},
   "outputs": [],
   "source": [
    "def PlotROCCurve(clf, X=X_test, y=y_test): \n",
    "    y_pred_proba = clf.predict_proba(X)[:,1]\n",
    "    fpr, tpr, _ = roc_curve(y,  y_pred_proba)\n",
    "    auc = roc_auc_score(y, y_pred_proba)\n",
    "\n",
    "    plt.rcParams['figure.figsize'] = 10,6\n",
    "\n",
    "    plt.plot(fpr,tpr,label=\"data, auc=\"+str(auc))\n",
    "    plt.plot([\"0\", \"1\"], [\"0\", \"1\"], label='baseline', linestyle='--')\n",
    "\n",
    "    plt.title(\"ROC Curve\")\n",
    "    plt.xlabel('Specificity')\n",
    "    plt.ylabel('Sensitivity')\n",
    "\n",
    "    plt.legend(loc=4)"
   ]
  },
  {
   "cell_type": "code",
   "execution_count": 69,
   "id": "faf4d9fa-0d79-4cec-88e3-ab4e41488c6e",
   "metadata": {},
   "outputs": [
    {
     "data": {
      "image/png": "[encoded data removed]",
      "text/plain": [
       "<Figure size 720x432 with 1 Axes>"
      ]
     },
     "metadata": {
      "needs_background": "light"
     },
     "output_type": "display_data"
    }
   ],
   "source": [
    "PlotROCCurve(gs)"
   ]
  },
  {
   "cell_type": "code",
   "execution_count": 70,
   "id": "433f857c-c0d9-4ec5-8ef5-45c095ec54a4",
   "metadata": {},
   "outputs": [
    {
     "data": {
      "text/plain": [
       "Text(0.5, 1.0, 'Confusion Matrix of Count Vectorizer+ Multinomial NB')"
      ]
     },
     "execution_count": 70,
     "metadata": {},
     "output_type": "execute_result"
    },
    {
     "data": {
      "image/png": "[encoded data removed]",
      "text/plain": [
       "<Figure size 1800x432 with 2 Axes>"
      ]
     },
     "metadata": {
      "needs_background": "light"
     },
     "output_type": "display_data"
    }
   ],
   "source": [
    "# View confusion matrix\n",
    "plt.rcParams['figure.figsize'] = 25,6\n",
    "\n",
    "plot_confusion_matrix(gs, X_test, y_test, cmap='Blues', display_labels=['tea','coffee'] , values_format='d')\n",
    "\n",
    "plt.title('Confusion Matrix of Count Vectorizer+ Multinomial NB')"
   ]
  },
  {
   "cell_type": "code",
   "execution_count": 71,
   "id": "19cd5ad7-d36f-42ed-b44d-d191f31d038a",
   "metadata": {},
   "outputs": [
    {
     "name": "stdout",
     "output_type": "stream",
     "text": [
      "              precision    recall  f1-score   support\n",
      "\n",
      "           0       0.89      0.93      0.91       366\n",
      "           1       0.94      0.89      0.91       389\n",
      "\n",
      "    accuracy                           0.91       755\n",
      "   macro avg       0.91      0.91      0.91       755\n",
      "weighted avg       0.91      0.91      0.91       755\n",
      "\n"
     ]
    }
   ],
   "source": [
    "print(classification_report(y_test, preds))"
   ]
  },
  {
   "cell_type": "markdown",
   "id": "ab3a9707-14f0-480e-8847-dd327d05b553",
   "metadata": {},
   "source": [
    "### 4.2 TF-IDF / Multinomial Naive Bayes"
   ]
  },
  {
   "cell_type": "code",
   "execution_count": 72,
   "id": "6e5e2929-7e7d-462f-a501-23c0dad425bf",
   "metadata": {},
   "outputs": [],
   "source": [
    "# Let's set a pipeline up with two stages:\n",
    "# 1. TF-IDF (transformer)\n",
    "# 2. Multinomial Naive Bayes (estimator)\n",
    "\n",
    "pipe2 = Pipeline([\n",
    "    ('tfidf', TfidfVectorizer()),\n",
    "    ('nb', MultinomialNB())\n",
    "])"
   ]
  },
  {
   "cell_type": "code",
   "execution_count": 73,
   "id": "22033be9-7825-46c7-95e7-d51573cda68c",
   "metadata": {},
   "outputs": [],
   "source": [
    "# Search over the following values of hyperparameters:\n",
    "# Maximum number of features fit: 2000, 3000, 4000, 5000\n",
    "# Minimum number of documents needed to include token: 2, 3\n",
    "# Maximum number of documents needed to include token: 90%, 95%\n",
    "# Check (individual tokens) and also check (individual tokens and 2-grams).\n",
    "# Alpha for the laplace smoothing of the multinomial NB\n",
    "\n",
    "pipe_params2 = {\n",
    "    'tfidf__max_features': [2_000, 3_000, 4_000, 5_000],\n",
    "    'tfidf__min_df': [2, 3],\n",
    "    'tfidf__max_df': [.9, .95],\n",
    "    'tfidf__ngram_range': [(1,1), (1,2), (1,3), (2,2), (3,3)],\n",
    "    'nb__alpha': [0.25, 0.5, 0.75, 1.0]\n",
    "}"
   ]
  },
  {
   "cell_type": "code",
   "execution_count": 74,
   "id": "27ea14f4-bb9f-4d46-8093-edf90081fd51",
   "metadata": {},
   "outputs": [],
   "source": [
    "# Instantiate GridSearchCV.\n",
    "\n",
    "gs2 = GridSearchCV(pipe2, # what object are we optimizing?\n",
    "                  param_grid=pipe_params2, # what parameters values are we searching?\n",
    "                  cv=5, n_jobs=-1) # 5-fold cross-validation."
   ]
  },
  {
   "cell_type": "code",
   "execution_count": 75,
   "id": "431b5f6f-6de0-47da-b15e-396529dba712",
   "metadata": {
    "scrolled": true
   },
   "outputs": [
    {
     "name": "stdout",
     "output_type": "stream",
     "text": [
      "Wall time: 1min 31s\n"
     ]
    },
    {
     "data": {
      "text/plain": [
       "GridSearchCV(cv=5,\n",
       "             estimator=Pipeline(steps=[('tfidf', TfidfVectorizer()),\n",
       "                                       ('nb', MultinomialNB())]),\n",
       "             n_jobs=-1,\n",
       "             param_grid={'nb__alpha': [0.25, 0.5, 0.75, 1.0],\n",
       "                         'tfidf__max_df': [0.9, 0.95],\n",
       "                         'tfidf__max_features': [2000, 3000, 4000, 5000],\n",
       "                         'tfidf__min_df': [2, 3],\n",
       "                         'tfidf__ngram_range': [(1, 1), (1, 2), (1, 3), (2, 2),\n",
       "                                                (3, 3)]})"
      ]
     },
     "execution_count": 75,
     "metadata": {},
     "output_type": "execute_result"
    }
   ],
   "source": [
    "%%time\n",
    "# Fit GridSearch to training data.\n",
    "gs2.fit(X_train, y_train)"
   ]
  },
  {
   "cell_type": "code",
   "execution_count": 76,
   "id": "1dbd4e01-712a-4a24-aebd-057ca7c93027",
   "metadata": {},
   "outputs": [
    {
     "data": {
      "text/plain": [
       "{'nb__alpha': 0.5,\n",
       " 'tfidf__max_df': 0.9,\n",
       " 'tfidf__max_features': 4000,\n",
       " 'tfidf__min_df': 2,\n",
       " 'tfidf__ngram_range': (1, 1)}"
      ]
     },
     "execution_count": 76,
     "metadata": {},
     "output_type": "execute_result"
    }
   ],
   "source": [
    "gs2.best_params_"
   ]
  },
  {
   "cell_type": "code",
   "execution_count": 77,
   "id": "cc9453ed-e80f-4c9b-95d0-075841333383",
   "metadata": {},
   "outputs": [
    {
     "name": "stdout",
     "output_type": "stream",
     "text": [
      "0.8987630665729919\n"
     ]
    }
   ],
   "source": [
    "print(gs2.best_score_)"
   ]
  },
  {
   "cell_type": "code",
   "execution_count": 78,
   "id": "18eb3eb2-63a0-444a-b274-39c4e9977fca",
   "metadata": {},
   "outputs": [
    {
     "data": {
      "text/plain": [
       "0.9810581319399085"
      ]
     },
     "execution_count": 78,
     "metadata": {},
     "output_type": "execute_result"
    }
   ],
   "source": [
    "# Score model on training set.\n",
    "gs2.score(X_train, y_train)"
   ]
  },
  {
   "cell_type": "code",
   "execution_count": 79,
   "id": "3e66873c-ae55-42d7-9e78-0e9c2b93564a",
   "metadata": {},
   "outputs": [
    {
     "data": {
      "text/plain": [
       "0.9139072847682119"
      ]
     },
     "execution_count": 79,
     "metadata": {},
     "output_type": "execute_result"
    }
   ],
   "source": [
    "# Score model on testing set.\n",
    "gs2.score(X_test, y_test)"
   ]
  },
  {
   "cell_type": "code",
   "execution_count": 80,
   "id": "21b50ea8-3585-4c4d-8c1b-e5716957766e",
   "metadata": {},
   "outputs": [],
   "source": [
    "# Get predictions\n",
    "preds2 = gs2.predict(X_test)\n",
    "\n",
    "# Save confusion matrix values\n",
    "tn2, fp2, fn2, tp2 = confusion_matrix(y_test, preds2).ravel()"
   ]
  },
  {
   "cell_type": "markdown",
   "id": "bd0c6e3c-31b9-4859-af78-448d87a0ea4d",
   "metadata": {},
   "source": [
    "**Features Importance**"
   ]
  },
  {
   "cell_type": "code",
   "execution_count": 81,
   "id": "34ca7b35-81de-4de1-941a-4dbe8ad6fdd3",
   "metadata": {},
   "outputs": [],
   "source": [
    "nb_m2 = gs2.best_estimator_.named_steps['nb']\n",
    "tfidf_m2 = gs2.best_estimator_.named_steps['tfidf']"
   ]
  },
  {
   "cell_type": "code",
   "execution_count": 82,
   "id": "0079c646-e7b1-4449-8658-f1341dd9ff90",
   "metadata": {
    "tags": []
   },
   "outputs": [
    {
     "data": {
      "text/html": [
       "<style type=\"text/css\">\n",
       "</style>\n",
       "<table id=\"T_1a5fa_\" style='display:inline'>\n",
       "  <caption>r/tea Features Importance</caption>\n",
       "  <thead>\n",
       "    <tr>\n",
       "      <th class=\"blank level0\" >&nbsp;</th>\n",
       "      <th class=\"col_heading level0 col0\" >feature</th>\n",
       "      <th class=\"col_heading level0 col1\" >log prob diff</th>\n",
       "    </tr>\n",
       "  </thead>\n",
       "  <tbody>\n",
       "    <tr>\n",
       "      <th id=\"T_1a5fa_level0_row0\" class=\"row_heading level0 row0\" >1990</th>\n",
       "      <td id=\"T_1a5fa_row0_col0\" class=\"data row0 col0\" >leaf</td>\n",
       "      <td id=\"T_1a5fa_row0_col1\" class=\"data row0 col1\" >-3.605617</td>\n",
       "    </tr>\n",
       "    <tr>\n",
       "      <th id=\"T_1a5fa_level0_row1\" class=\"row_heading level0 row1\" >2396</th>\n",
       "      <td id=\"T_1a5fa_row1_col0\" class=\"data row1 col0\" >oolong</td>\n",
       "      <td id=\"T_1a5fa_row1_col1\" class=\"data row1 col1\" >-3.468610</td>\n",
       "    </tr>\n",
       "    <tr>\n",
       "      <th id=\"T_1a5fa_level0_row2\" class=\"row_heading level0 row2\" >2073</th>\n",
       "      <td id=\"T_1a5fa_row2_col0\" class=\"data row2 col0\" >loose</td>\n",
       "      <td id=\"T_1a5fa_row2_col1\" class=\"data row2 col1\" >-3.337991</td>\n",
       "    </tr>\n",
       "    <tr>\n",
       "      <th id=\"T_1a5fa_level0_row3\" class=\"row_heading level0 row3\" >2149</th>\n",
       "      <td id=\"T_1a5fa_row3_col0\" class=\"data row3 col0\" >matcha</td>\n",
       "      <td id=\"T_1a5fa_row3_col1\" class=\"data row3 col1\" >-3.324815</td>\n",
       "    </tr>\n",
       "    <tr>\n",
       "      <th id=\"T_1a5fa_level0_row4\" class=\"row_heading level0 row4\" >1600</th>\n",
       "      <td id=\"T_1a5fa_row4_col0\" class=\"data row4 col0\" >green</td>\n",
       "      <td id=\"T_1a5fa_row4_col1\" class=\"data row4 col1\" >-3.109481</td>\n",
       "    </tr>\n",
       "    <tr>\n",
       "      <th id=\"T_1a5fa_level0_row5\" class=\"row_heading level0 row5\" >1699</th>\n",
       "      <td id=\"T_1a5fa_row5_col0\" class=\"data row5 col0\" >herbal</td>\n",
       "      <td id=\"T_1a5fa_row5_col1\" class=\"data row5 col1\" >-2.927101</td>\n",
       "    </tr>\n",
       "    <tr>\n",
       "      <th id=\"T_1a5fa_level0_row6\" class=\"row_heading level0 row6\" >3477</th>\n",
       "      <td id=\"T_1a5fa_row6_col0\" class=\"data row6 col0\" >teapot</td>\n",
       "      <td id=\"T_1a5fa_row6_col1\" class=\"data row6 col1\" >-2.820677</td>\n",
       "    </tr>\n",
       "    <tr>\n",
       "      <th id=\"T_1a5fa_level0_row7\" class=\"row_heading level0 row7\" >1151</th>\n",
       "      <td id=\"T_1a5fa_row7_col0\" class=\"data row7 col0\" >earl</td>\n",
       "      <td id=\"T_1a5fa_row7_col1\" class=\"data row7 col1\" >-2.808009</td>\n",
       "    </tr>\n",
       "    <tr>\n",
       "      <th id=\"T_1a5fa_level0_row8\" class=\"row_heading level0 row8\" >1604</th>\n",
       "      <td id=\"T_1a5fa_row8_col0\" class=\"data row8 col0\" >grey</td>\n",
       "      <td id=\"T_1a5fa_row8_col1\" class=\"data row8 col1\" >-2.746131</td>\n",
       "    </tr>\n",
       "    <tr>\n",
       "      <th id=\"T_1a5fa_level0_row9\" class=\"row_heading level0 row9\" >2712</th>\n",
       "      <td id=\"T_1a5fa_row9_col0\" class=\"data row9 col0\" >pu</td>\n",
       "      <td id=\"T_1a5fa_row9_col1\" class=\"data row9 col1\" >-2.738472</td>\n",
       "    </tr>\n",
       "  </tbody>\n",
       "</table>\n",
       "&emsp;&emsp;<style type=\"text/css\">\n",
       "</style>\n",
       "<table id=\"T_9272e_\" style='display:inline'>\n",
       "  <caption>r/Coffee Features Importance</caption>\n",
       "  <thead>\n",
       "    <tr>\n",
       "      <th class=\"blank level0\" >&nbsp;</th>\n",
       "      <th class=\"col_heading level0 col0\" >feature</th>\n",
       "      <th class=\"col_heading level0 col1\" >log prob diff</th>\n",
       "    </tr>\n",
       "  </thead>\n",
       "  <tbody>\n",
       "    <tr>\n",
       "      <th id=\"T_9272e_level0_row0\" class=\"row_heading level0 row0\" >1607</th>\n",
       "      <td id=\"T_9272e_row0_col0\" class=\"data row0 col0\" >grinder</td>\n",
       "      <td id=\"T_9272e_row0_col1\" class=\"data row0 col1\" >3.912379</td>\n",
       "    </tr>\n",
       "    <tr>\n",
       "      <th id=\"T_9272e_level0_row1\" class=\"row_heading level0 row1\" >1238</th>\n",
       "      <td id=\"T_9272e_row1_col0\" class=\"data row1 col0\" >espresso</td>\n",
       "      <td id=\"T_9272e_row1_col1\" class=\"data row1 col1\" >3.846213</td>\n",
       "    </tr>\n",
       "    <tr>\n",
       "      <th id=\"T_9272e_level0_row2\" class=\"row_heading level0 row2\" >2105</th>\n",
       "      <td id=\"T_9272e_row2_col0\" class=\"data row2 col0\" >machine</td>\n",
       "      <td id=\"T_9272e_row2_col1\" class=\"data row2 col1\" >3.630540</td>\n",
       "    </tr>\n",
       "    <tr>\n",
       "      <th id=\"T_9272e_level0_row3\" class=\"row_heading level0 row3\" >423</th>\n",
       "      <td id=\"T_9272e_row3_col0\" class=\"data row3 col0\" >bean</td>\n",
       "      <td id=\"T_9272e_row3_col1\" class=\"data row3 col1\" >3.529709</td>\n",
       "    </tr>\n",
       "    <tr>\n",
       "      <th id=\"T_9272e_level0_row4\" class=\"row_heading level0 row4\" >577</th>\n",
       "      <td id=\"T_9272e_row4_col0\" class=\"data row4 col0\" >burr</td>\n",
       "      <td id=\"T_9272e_row4_col1\" class=\"data row4 col1\" >3.107260</td>\n",
       "    </tr>\n",
       "    <tr>\n",
       "      <th id=\"T_9272e_level0_row5\" class=\"row_heading level0 row5\" >1605</th>\n",
       "      <td id=\"T_9272e_row5_col0\" class=\"data row5 col0\" >grind</td>\n",
       "      <td id=\"T_9272e_row5_col1\" class=\"data row5 col1\" >2.975641</td>\n",
       "    </tr>\n",
       "    <tr>\n",
       "      <th id=\"T_9272e_level0_row6\" class=\"row_heading level0 row6\" >2916</th>\n",
       "      <td id=\"T_9272e_row6_col0\" class=\"data row6 col0\" >roaster</td>\n",
       "      <td id=\"T_9272e_row6_col1\" class=\"data row6 col1\" >2.895558</td>\n",
       "    </tr>\n",
       "    <tr>\n",
       "      <th id=\"T_9272e_level0_row7\" class=\"row_heading level0 row7\" >3709</th>\n",
       "      <td id=\"T_9272e_row7_col0\" class=\"data row7 col0\" >v60</td>\n",
       "      <td id=\"T_9272e_row7_col1\" class=\"data row7 col1\" >2.891042</td>\n",
       "    </tr>\n",
       "    <tr>\n",
       "      <th id=\"T_9272e_level0_row8\" class=\"row_heading level0 row8\" >2914</th>\n",
       "      <td id=\"T_9272e_row8_col0\" class=\"data row8 col0\" >roast</td>\n",
       "      <td id=\"T_9272e_row8_col1\" class=\"data row8 col1\" >2.873797</td>\n",
       "    </tr>\n",
       "    <tr>\n",
       "      <th id=\"T_9272e_level0_row9\" class=\"row_heading level0 row9\" >209</th>\n",
       "      <td id=\"T_9272e_row9_col0\" class=\"data row9 col0\" >aeropress</td>\n",
       "      <td id=\"T_9272e_row9_col1\" class=\"data row9 col1\" >2.824376</td>\n",
       "    </tr>\n",
       "  </tbody>\n",
       "</table>\n"
      ]
     },
     "metadata": {},
     "output_type": "display_data"
    }
   ],
   "source": [
    "# display the features importance of each subreddit\n",
    "FeaturesImportanceNB(tfidf_m2,nb_m2)"
   ]
  },
  {
   "cell_type": "code",
   "execution_count": 83,
   "id": "0314b5fe-dc02-4104-9f28-c51ed11094e2",
   "metadata": {},
   "outputs": [
    {
     "data": {
      "image/png": "[encoded data removed]",
      "text/plain": [
       "<Figure size 720x432 with 1 Axes>"
      ]
     },
     "metadata": {
      "needs_background": "light"
     },
     "output_type": "display_data"
    }
   ],
   "source": [
    "PlotROCCurve(gs2)"
   ]
  },
  {
   "cell_type": "code",
   "execution_count": 84,
   "id": "4e9697a6-4bb9-4d3b-8376-74f310a6a763",
   "metadata": {},
   "outputs": [
    {
     "data": {
      "text/plain": [
       "Text(0.5, 1.0, 'Confusion Matrix of TF-IDF+ Multinomial NB')"
      ]
     },
     "execution_count": 84,
     "metadata": {},
     "output_type": "execute_result"
    },
    {
     "data": {
      "image/png": "[encoded data removed]",
      "text/plain": [
       "<Figure size 1800x432 with 2 Axes>"
      ]
     },
     "metadata": {
      "needs_background": "light"
     },
     "output_type": "display_data"
    }
   ],
   "source": [
    "# View confusion matrix\n",
    "plt.rcParams['figure.figsize'] = 25,6\n",
    "\n",
    "plot_confusion_matrix(gs2, X_test, y_test, cmap='Reds', display_labels=['tea','coffee'] , values_format='d')\n",
    "\n",
    "plt.title('Confusion Matrix of TF-IDF+ Multinomial NB')"
   ]
  },
  {
   "cell_type": "code",
   "execution_count": 85,
   "id": "bc12da53-0e9e-4dd8-8d30-88a8171b9a6d",
   "metadata": {},
   "outputs": [
    {
     "name": "stdout",
     "output_type": "stream",
     "text": [
      "              precision    recall  f1-score   support\n",
      "\n",
      "           0       0.91      0.92      0.91       366\n",
      "           1       0.92      0.91      0.92       389\n",
      "\n",
      "    accuracy                           0.91       755\n",
      "   macro avg       0.91      0.91      0.91       755\n",
      "weighted avg       0.91      0.91      0.91       755\n",
      "\n"
     ]
    }
   ],
   "source": [
    "print(classification_report(y_test, preds2))"
   ]
  },
  {
   "cell_type": "markdown",
   "id": "d797da76-77b3-495d-911e-4a8f0fd69e1d",
   "metadata": {},
   "source": [
    "### 4.3 Count Vectorizer / Bernoulli Naive Bayes"
   ]
  },
  {
   "cell_type": "code",
   "execution_count": 86,
   "id": "76af26af-be51-4c1b-9eff-e8e40c07704e",
   "metadata": {},
   "outputs": [],
   "source": [
    "# Let's set a pipeline up with two stages:\n",
    "# 1. CountVectorizer (transformer)\n",
    "# 2. Bernoulli Naive Bayes (estimator)\n",
    "\n",
    "pipe3 = Pipeline([\n",
    "    ('cvec', CountVectorizer()),\n",
    "    ('bnb', BernoulliNB())\n",
    "])"
   ]
  },
  {
   "cell_type": "code",
   "execution_count": 87,
   "id": "1097226e-e478-47ce-90d0-925d22447c5b",
   "metadata": {},
   "outputs": [],
   "source": [
    "# Search over the following values of hyperparameters:\n",
    "# Maximum number of features fit: 2000, 3000, 4000, 5000\n",
    "# Minimum number of documents needed to include token: 2, 3\n",
    "# Maximum number of documents needed to include token: 90%, 95%\n",
    "# Check (individual tokens) and also check (individual tokens and 2-grams).\n",
    "# Alpha for the laplace smoothing of the multinomial NB\n",
    "\n",
    "pipe_params3 = {\n",
    "    'cvec__max_features': [2_000, 3_000, 4_000, 5_000],\n",
    "    'cvec__min_df': [2, 3],\n",
    "    'cvec__max_df': [.9, .95],\n",
    "    'cvec__ngram_range': [(1,1), (1,2), (2,2)],\n",
    "    'bnb__alpha': [0.25, 0.5, 0.75, 1.0],\n",
    "    'bnb__binarize': [0.25, 0.5, 0.75, 1.0]\n",
    "}"
   ]
  },
  {
   "cell_type": "code",
   "execution_count": 88,
   "id": "fe5fb470-4ce4-4c7c-b55d-2a47801766a4",
   "metadata": {},
   "outputs": [],
   "source": [
    "# Instantiate GridSearchCV.\n",
    "\n",
    "gs3 = GridSearchCV(pipe3, # what object are we optimizing?\n",
    "                  param_grid=pipe_params3, # what parameters values are we searching?\n",
    "                  cv=5, n_jobs=-1) # 5-fold cross-validation."
   ]
  },
  {
   "cell_type": "code",
   "execution_count": 89,
   "id": "49156eb0-c228-4eec-95ad-4ca867fdb2b9",
   "metadata": {
    "scrolled": true
   },
   "outputs": [
    {
     "name": "stdout",
     "output_type": "stream",
     "text": [
      "Wall time: 2min 42s\n"
     ]
    },
    {
     "data": {
      "text/plain": [
       "GridSearchCV(cv=5,\n",
       "             estimator=Pipeline(steps=[('cvec', CountVectorizer()),\n",
       "                                       ('bnb', BernoulliNB())]),\n",
       "             n_jobs=-1,\n",
       "             param_grid={'bnb__alpha': [0.25, 0.5, 0.75, 1.0],\n",
       "                         'bnb__binarize': [0.25, 0.5, 0.75, 1.0],\n",
       "                         'cvec__max_df': [0.9, 0.95],\n",
       "                         'cvec__max_features': [2000, 3000, 4000, 5000],\n",
       "                         'cvec__min_df': [2, 3],\n",
       "                         'cvec__ngram_range': [(1, 1), (1, 2), (2, 2)]})"
      ]
     },
     "execution_count": 89,
     "metadata": {},
     "output_type": "execute_result"
    }
   ],
   "source": [
    "%%time\n",
    "# Fit GridSearch to training data.\n",
    "gs3.fit(X_train, y_train)"
   ]
  },
  {
   "cell_type": "code",
   "execution_count": 90,
   "id": "f6c863d3-dfda-4d65-9f48-77cc692b3a43",
   "metadata": {},
   "outputs": [
    {
     "data": {
      "text/plain": [
       "{'bnb__alpha': 0.25,\n",
       " 'bnb__binarize': 0.25,\n",
       " 'cvec__max_df': 0.9,\n",
       " 'cvec__max_features': 4000,\n",
       " 'cvec__min_df': 2,\n",
       " 'cvec__ngram_range': (1, 1)}"
      ]
     },
     "execution_count": 90,
     "metadata": {},
     "output_type": "execute_result"
    }
   ],
   "source": [
    "gs3.best_params_"
   ]
  },
  {
   "cell_type": "code",
   "execution_count": 91,
   "id": "c139b6ed-c64a-4e74-99fa-5ab6e0ed2826",
   "metadata": {},
   "outputs": [
    {
     "name": "stdout",
     "output_type": "stream",
     "text": [
      "0.8674118072853464\n"
     ]
    }
   ],
   "source": [
    "print(gs3.best_score_)"
   ]
  },
  {
   "cell_type": "code",
   "execution_count": 92,
   "id": "34a981bd-3d6e-45d3-ae6b-83eafab1840a",
   "metadata": {},
   "outputs": [
    {
     "data": {
      "text/plain": [
       "0.9353363814500326"
      ]
     },
     "execution_count": 92,
     "metadata": {},
     "output_type": "execute_result"
    }
   ],
   "source": [
    "# Score model on training set.\n",
    "gs3.score(X_train, y_train)"
   ]
  },
  {
   "cell_type": "code",
   "execution_count": 93,
   "id": "aaec4ba6-555f-4a62-ae02-f7c33ad771f8",
   "metadata": {},
   "outputs": [
    {
     "data": {
      "text/plain": [
       "0.8503311258278146"
      ]
     },
     "execution_count": 93,
     "metadata": {},
     "output_type": "execute_result"
    }
   ],
   "source": [
    "# Score model on testing set.\n",
    "gs3.score(X_test, y_test)"
   ]
  },
  {
   "cell_type": "code",
   "execution_count": 94,
   "id": "67cf0b8a-770f-4c6d-9219-25c3cd563473",
   "metadata": {},
   "outputs": [],
   "source": [
    "# Get predictions\n",
    "preds3 = gs3.predict(X_test)\n",
    "\n",
    "# Save confusion matrix values\n",
    "tn, fp, fn, tp = confusion_matrix(y_test, preds).ravel()"
   ]
  },
  {
   "cell_type": "markdown",
   "id": "80b3734e-9122-436d-b325-4b7bcac413ac",
   "metadata": {},
   "source": [
    "**Features Importance**"
   ]
  },
  {
   "cell_type": "code",
   "execution_count": 95,
   "id": "f81596b4-3cc3-405b-9b3c-eeedf794b5c6",
   "metadata": {},
   "outputs": [],
   "source": [
    "nb_m3 = gs3.best_estimator_.named_steps['bnb']\n",
    "cvec_m3 = gs3.best_estimator_.named_steps['cvec']"
   ]
  },
  {
   "cell_type": "code",
   "execution_count": 96,
   "id": "42c7af8e-b97b-4200-aaf5-bf6d2ef4ca75",
   "metadata": {
    "tags": []
   },
   "outputs": [
    {
     "data": {
      "text/html": [
       "<style type=\"text/css\">\n",
       "</style>\n",
       "<table id=\"T_72e4e_\" style='display:inline'>\n",
       "  <caption>r/tea Features Importance</caption>\n",
       "  <thead>\n",
       "    <tr>\n",
       "      <th class=\"blank level0\" >&nbsp;</th>\n",
       "      <th class=\"col_heading level0 col0\" >feature</th>\n",
       "      <th class=\"col_heading level0 col1\" >log prob diff</th>\n",
       "    </tr>\n",
       "  </thead>\n",
       "  <tbody>\n",
       "    <tr>\n",
       "      <th id=\"T_72e4e_level0_row0\" class=\"row_heading level0 row0\" >2396</th>\n",
       "      <td id=\"T_72e4e_row0_col0\" class=\"data row0 col0\" >oolong</td>\n",
       "      <td id=\"T_72e4e_row0_col1\" class=\"data row0 col1\" >-5.529437</td>\n",
       "    </tr>\n",
       "    <tr>\n",
       "      <th id=\"T_72e4e_level0_row1\" class=\"row_heading level0 row1\" >2149</th>\n",
       "      <td id=\"T_72e4e_row1_col0\" class=\"data row1 col0\" >matcha</td>\n",
       "      <td id=\"T_72e4e_row1_col1\" class=\"data row1 col1\" >-5.091815</td>\n",
       "    </tr>\n",
       "    <tr>\n",
       "      <th id=\"T_72e4e_level0_row2\" class=\"row_heading level0 row2\" >1699</th>\n",
       "      <td id=\"T_72e4e_row2_col0\" class=\"data row2 col0\" >herbal</td>\n",
       "      <td id=\"T_72e4e_row2_col1\" class=\"data row2 col1\" >-4.981358</td>\n",
       "    </tr>\n",
       "    <tr>\n",
       "      <th id=\"T_72e4e_level0_row3\" class=\"row_heading level0 row3\" >1151</th>\n",
       "      <td id=\"T_72e4e_row3_col0\" class=\"data row3 col0\" >earl</td>\n",
       "      <td id=\"T_72e4e_row3_col1\" class=\"data row3 col1\" >-4.857168</td>\n",
       "    </tr>\n",
       "    <tr>\n",
       "      <th id=\"T_72e4e_level0_row4\" class=\"row_heading level0 row4\" >2712</th>\n",
       "      <td id=\"T_72e4e_row4_col0\" class=\"data row4 col0\" >pu</td>\n",
       "      <td id=\"T_72e4e_row4_col1\" class=\"data row4 col1\" >-4.823551</td>\n",
       "    </tr>\n",
       "    <tr>\n",
       "      <th id=\"T_72e4e_level0_row5\" class=\"row_heading level0 row5\" >672</th>\n",
       "      <td id=\"T_72e4e_row5_col0\" class=\"data row5 col0\" >chamomile</td>\n",
       "      <td id=\"T_72e4e_row5_col1\" class=\"data row5 col1\" >-4.636088</td>\n",
       "    </tr>\n",
       "    <tr>\n",
       "      <th id=\"T_72e4e_level0_row6\" class=\"row_heading level0 row6\" >3908</th>\n",
       "      <td id=\"T_72e4e_row6_col0\" class=\"data row6 col0\" >yunnan</td>\n",
       "      <td id=\"T_72e4e_row6_col1\" class=\"data row6 col1\" >-4.550013</td>\n",
       "    </tr>\n",
       "    <tr>\n",
       "      <th id=\"T_72e4e_level0_row7\" class=\"row_heading level0 row7\" >1516</th>\n",
       "      <td id=\"T_72e4e_row7_col0\" class=\"data row7 col0\" >gaiwan</td>\n",
       "      <td id=\"T_72e4e_row7_col1\" class=\"data row7 col1\" >-4.504028</td>\n",
       "    </tr>\n",
       "    <tr>\n",
       "      <th id=\"T_72e4e_level0_row8\" class=\"row_heading level0 row8\" >1569</th>\n",
       "      <td id=\"T_72e4e_row8_col0\" class=\"data row8 col0\" >gong</td>\n",
       "      <td id=\"T_72e4e_row8_col1\" class=\"data row8 col1\" >-4.504028</td>\n",
       "    </tr>\n",
       "    <tr>\n",
       "      <th id=\"T_72e4e_level0_row9\" class=\"row_heading level0 row9\" >706</th>\n",
       "      <td id=\"T_72e4e_row9_col0\" class=\"data row9 col0\" >china</td>\n",
       "      <td id=\"T_72e4e_row9_col1\" class=\"data row9 col1\" >-4.455826</td>\n",
       "    </tr>\n",
       "  </tbody>\n",
       "</table>\n",
       "&emsp;&emsp;<style type=\"text/css\">\n",
       "</style>\n",
       "<table id=\"T_b3adb_\" style='display:inline'>\n",
       "  <caption>r/Coffee Features Importance</caption>\n",
       "  <thead>\n",
       "    <tr>\n",
       "      <th class=\"blank level0\" >&nbsp;</th>\n",
       "      <th class=\"col_heading level0 col0\" >feature</th>\n",
       "      <th class=\"col_heading level0 col1\" >log prob diff</th>\n",
       "    </tr>\n",
       "  </thead>\n",
       "  <tbody>\n",
       "    <tr>\n",
       "      <th id=\"T_b3adb_level0_row0\" class=\"row_heading level0 row0\" >1607</th>\n",
       "      <td id=\"T_b3adb_row0_col0\" class=\"data row0 col0\" >grinder</td>\n",
       "      <td id=\"T_b3adb_row0_col1\" class=\"data row0 col1\" >6.389093</td>\n",
       "    </tr>\n",
       "    <tr>\n",
       "      <th id=\"T_b3adb_level0_row1\" class=\"row_heading level0 row1\" >3709</th>\n",
       "      <td id=\"T_b3adb_row1_col0\" class=\"data row1 col0\" >v60</td>\n",
       "      <td id=\"T_b3adb_row1_col1\" class=\"data row1 col1\" >5.389661</td>\n",
       "    </tr>\n",
       "    <tr>\n",
       "      <th id=\"T_b3adb_level0_row2\" class=\"row_heading level0 row2\" >577</th>\n",
       "      <td id=\"T_b3adb_row2_col0\" class=\"data row2 col0\" >burr</td>\n",
       "      <td id=\"T_b3adb_row2_col1\" class=\"data row2 col1\" >5.354723</td>\n",
       "    </tr>\n",
       "    <tr>\n",
       "      <th id=\"T_b3adb_level0_row3\" class=\"row_heading level0 row3\" >209</th>\n",
       "      <td id=\"T_b3adb_row3_col0\" class=\"data row3 col0\" >aeropress</td>\n",
       "      <td id=\"T_b3adb_row3_col1\" class=\"data row3 col1\" >5.336786</td>\n",
       "    </tr>\n",
       "    <tr>\n",
       "      <th id=\"T_b3adb_level0_row4\" class=\"row_heading level0 row4\" >2916</th>\n",
       "      <td id=\"T_b3adb_row4_col0\" class=\"data row4 col0\" >roaster</td>\n",
       "      <td id=\"T_b3adb_row4_col1\" class=\"data row4 col1\" >5.280957</td>\n",
       "    </tr>\n",
       "    <tr>\n",
       "      <th id=\"T_b3adb_level0_row5\" class=\"row_heading level0 row5\" >1608</th>\n",
       "      <td id=\"T_b3adb_row5_col0\" class=\"data row5 col0\" >grinding</td>\n",
       "      <td id=\"T_b3adb_row5_col1\" class=\"data row5 col1\" >4.942569</td>\n",
       "    </tr>\n",
       "    <tr>\n",
       "      <th id=\"T_b3adb_level0_row6\" class=\"row_heading level0 row6\" >765</th>\n",
       "      <td id=\"T_b3adb_row6_col0\" class=\"data row6 col0\" >coffee</td>\n",
       "      <td id=\"T_b3adb_row6_col1\" class=\"data row6 col1\" >4.858604</td>\n",
       "    </tr>\n",
       "    <tr>\n",
       "      <th id=\"T_b3adb_level0_row7\" class=\"row_heading level0 row7\" >2105</th>\n",
       "      <td id=\"T_b3adb_row7_col0\" class=\"data row7 col0\" >machine</td>\n",
       "      <td id=\"T_b3adb_row7_col1\" class=\"data row7 col1\" >4.816869</td>\n",
       "    </tr>\n",
       "    <tr>\n",
       "      <th id=\"T_b3adb_level0_row8\" class=\"row_heading level0 row8\" >1238</th>\n",
       "      <td id=\"T_b3adb_row8_col0\" class=\"data row8 col0\" >espresso</td>\n",
       "      <td id=\"T_b3adb_row8_col1\" class=\"data row8 col1\" >4.816869</td>\n",
       "    </tr>\n",
       "    <tr>\n",
       "      <th id=\"T_b3adb_level0_row9\" class=\"row_heading level0 row9\" >2672</th>\n",
       "      <td id=\"T_b3adb_row9_col0\" class=\"data row9 col0\" >pro</td>\n",
       "      <td id=\"T_b3adb_row9_col1\" class=\"data row9 col1\" >4.700797</td>\n",
       "    </tr>\n",
       "  </tbody>\n",
       "</table>\n"
      ]
     },
     "metadata": {},
     "output_type": "display_data"
    }
   ],
   "source": [
    "# display the features importance of each subreddit\n",
    "FeaturesImportanceNB(cvec_m3,nb_m3)"
   ]
  },
  {
   "cell_type": "code",
   "execution_count": 97,
   "id": "e8b43674-c9cb-4cd4-aac5-6bcb0766c593",
   "metadata": {},
   "outputs": [
    {
     "data": {
      "image/png": "[encoded data removed]",
      "text/plain": [
       "<Figure size 720x432 with 1 Axes>"
      ]
     },
     "metadata": {
      "needs_background": "light"
     },
     "output_type": "display_data"
    }
   ],
   "source": [
    "PlotROCCurve(gs3)"
   ]
  },
  {
   "cell_type": "code",
   "execution_count": 98,
   "id": "4cb07ffb-3392-4536-95fb-ad25d087c3a8",
   "metadata": {},
   "outputs": [
    {
     "data": {
      "text/plain": [
       "Text(0.5, 1.0, 'Confusion Matrix of Count Vectorizer + Bernoulli NB')"
      ]
     },
     "execution_count": 98,
     "metadata": {},
     "output_type": "execute_result"
    },
    {
     "data": {
      "image/png": "[encoded data removed]",
      "text/plain": [
       "<Figure size 1800x432 with 2 Axes>"
      ]
     },
     "metadata": {
      "needs_background": "light"
     },
     "output_type": "display_data"
    }
   ],
   "source": [
    "# View confusion matrix\n",
    "plt.rcParams['figure.figsize'] = 25,6\n",
    "\n",
    "plot_confusion_matrix(gs3, X_test, y_test, cmap='Blues', display_labels=['tea','coffee'] , values_format='d')\n",
    "\n",
    "plt.title('Confusion Matrix of Count Vectorizer + Bernoulli NB')"
   ]
  },
  {
   "cell_type": "code",
   "execution_count": 99,
   "id": "a16ab2fc-d024-4ba8-b0d1-8f9066d9ec9f",
   "metadata": {},
   "outputs": [
    {
     "name": "stdout",
     "output_type": "stream",
     "text": [
      "              precision    recall  f1-score   support\n",
      "\n",
      "           0       0.79      0.94      0.86       366\n",
      "           1       0.93      0.77      0.84       389\n",
      "\n",
      "    accuracy                           0.85       755\n",
      "   macro avg       0.86      0.85      0.85       755\n",
      "weighted avg       0.86      0.85      0.85       755\n",
      "\n"
     ]
    }
   ],
   "source": [
    "print(classification_report(y_test, preds3))"
   ]
  },
  {
   "cell_type": "markdown",
   "id": "b83f26f9-e9a9-4205-b0ba-5d55e0f4dda4",
   "metadata": {},
   "source": [
    "### 4.4 TF-IDF / Bernoulli Naive Bayes"
   ]
  },
  {
   "cell_type": "code",
   "execution_count": 100,
   "id": "9206a5cf-837b-4036-a5bb-1522d2744466",
   "metadata": {},
   "outputs": [],
   "source": [
    "# Let's set a pipeline up with two stages:\n",
    "# 1. TF-IDF (transformer)\n",
    "# 2. Bernoulli Naive Bayes (estimator)\n",
    "\n",
    "pipe4 = Pipeline([\n",
    "    ('tfidf', TfidfVectorizer()),\n",
    "    ('bnb', BernoulliNB())\n",
    "])"
   ]
  },
  {
   "cell_type": "code",
   "execution_count": 101,
   "id": "10965d03-7e28-4165-abb1-446711a44651",
   "metadata": {},
   "outputs": [],
   "source": [
    "# Search over the following values of hyperparameters:\n",
    "# Maximum number of features fit: 2000, 3000, 4000, 5000\n",
    "# Minimum number of documents needed to include token: 2, 3\n",
    "# Maximum number of documents needed to include token: 90%, 95%\n",
    "# Check (individual tokens) and also check (individual tokens and 2-grams).\n",
    "# Alpha for the laplace smoothing of the Bernoulli NB: 0.25, 0.5, 0.75, 1.0\n",
    "# Binarize for the Bernoulli NB: 0.25, 0.5, 0.75, 1.0\n",
    "\n",
    "pipe_params4 = {\n",
    "    'tfidf__max_features': [2_000, 3_000, 4_000, 5_000],\n",
    "    'tfidf__min_df': [2, 3],\n",
    "    'tfidf__max_df': [.9, .95],\n",
    "    'tfidf__ngram_range': [(1,1), (1,2), (2,2)],\n",
    "    'bnb__alpha': [0.25, 0.5, 0.75, 1.0],\n",
    "    'bnb__binarize': [0.25, 0.5, 0.75, 1.0]\n",
    "}"
   ]
  },
  {
   "cell_type": "code",
   "execution_count": 102,
   "id": "17557c4c-3abc-4b02-8c5a-5ac6a9b942c8",
   "metadata": {},
   "outputs": [],
   "source": [
    "# Instantiate GridSearchCV.\n",
    "\n",
    "gs4 = GridSearchCV(pipe4, # what object are we optimizing?\n",
    "                  param_grid=pipe_params4, # what parameters values are we searching?\n",
    "                  cv=5, n_jobs=-1) # 5-fold cross-validation."
   ]
  },
  {
   "cell_type": "code",
   "execution_count": 103,
   "id": "61db0f4b-c601-4449-8a26-0b8a32b4b0db",
   "metadata": {
    "scrolled": true
   },
   "outputs": [
    {
     "name": "stdout",
     "output_type": "stream",
     "text": [
      "Wall time: 2min 45s\n"
     ]
    },
    {
     "data": {
      "text/plain": [
       "GridSearchCV(cv=5,\n",
       "             estimator=Pipeline(steps=[('tfidf', TfidfVectorizer()),\n",
       "                                       ('bnb', BernoulliNB())]),\n",
       "             n_jobs=-1,\n",
       "             param_grid={'bnb__alpha': [0.25, 0.5, 0.75, 1.0],\n",
       "                         'bnb__binarize': [0.25, 0.5, 0.75, 1.0],\n",
       "                         'tfidf__max_df': [0.9, 0.95],\n",
       "                         'tfidf__max_features': [2000, 3000, 4000, 5000],\n",
       "                         'tfidf__min_df': [2, 3],\n",
       "                         'tfidf__ngram_range': [(1, 1), (1, 2), (2, 2)]})"
      ]
     },
     "execution_count": 103,
     "metadata": {},
     "output_type": "execute_result"
    }
   ],
   "source": [
    "%%time\n",
    "# Fit GridSearch to training data.\n",
    "gs4.fit(X_train, y_train)"
   ]
  },
  {
   "cell_type": "code",
   "execution_count": 104,
   "id": "418f4e12-1cf7-4cae-a244-345bb2119976",
   "metadata": {},
   "outputs": [
    {
     "data": {
      "text/plain": [
       "{'bnb__alpha': 0.75,\n",
       " 'bnb__binarize': 0.25,\n",
       " 'tfidf__max_df': 0.9,\n",
       " 'tfidf__max_features': 2000,\n",
       " 'tfidf__min_df': 3,\n",
       " 'tfidf__ngram_range': (1, 2)}"
      ]
     },
     "execution_count": 104,
     "metadata": {},
     "output_type": "execute_result"
    }
   ],
   "source": [
    "gs4.best_params_"
   ]
  },
  {
   "cell_type": "code",
   "execution_count": 105,
   "id": "4e0e532c-a083-435c-b33d-3d6da7429a00",
   "metadata": {},
   "outputs": [
    {
     "name": "stdout",
     "output_type": "stream",
     "text": [
      "0.8092801941623555\n"
     ]
    }
   ],
   "source": [
    "print(gs4.best_score_)"
   ]
  },
  {
   "cell_type": "code",
   "execution_count": 106,
   "id": "1e560584-a367-4ea7-9d0a-3bbec636b710",
   "metadata": {},
   "outputs": [
    {
     "data": {
      "text/plain": [
       "0.9418680600914435"
      ]
     },
     "execution_count": 106,
     "metadata": {},
     "output_type": "execute_result"
    }
   ],
   "source": [
    "# Score model on training set.\n",
    "gs4.score(X_train, y_train)"
   ]
  },
  {
   "cell_type": "code",
   "execution_count": 107,
   "id": "044f8f12-4923-4923-99ac-8e73e9c1d91b",
   "metadata": {},
   "outputs": [
    {
     "data": {
      "text/plain": [
       "0.7774834437086092"
      ]
     },
     "execution_count": 107,
     "metadata": {},
     "output_type": "execute_result"
    }
   ],
   "source": [
    "# Score model on testing set.\n",
    "gs4.score(X_test, y_test)"
   ]
  },
  {
   "cell_type": "code",
   "execution_count": 108,
   "id": "5c45f001-71c6-4e28-a32d-4040cfc5c31c",
   "metadata": {},
   "outputs": [],
   "source": [
    "# Get predictions\n",
    "preds4 = gs4.predict(X_test)\n",
    "\n",
    "# Save confusion matrix values\n",
    "tn, fp, fn, tp = confusion_matrix(y_test, preds).ravel()"
   ]
  },
  {
   "cell_type": "markdown",
   "id": "bfa3985f-9613-4cd8-8cba-9d1cca02c595",
   "metadata": {},
   "source": [
    "**Features Importance**"
   ]
  },
  {
   "cell_type": "code",
   "execution_count": 109,
   "id": "d0489906-78d7-436d-80de-7ae4a02bca96",
   "metadata": {},
   "outputs": [],
   "source": [
    "nb_m4 = gs4.best_estimator_.named_steps['bnb']\n",
    "tfidf_m4 = gs4.best_estimator_.named_steps['tfidf']"
   ]
  },
  {
   "cell_type": "code",
   "execution_count": 110,
   "id": "9325727e-6b5e-43bc-be68-15c876ce52ef",
   "metadata": {
    "tags": []
   },
   "outputs": [
    {
     "data": {
      "text/html": [
       "<style type=\"text/css\">\n",
       "</style>\n",
       "<table id=\"T_1aaf0_\" style='display:inline'>\n",
       "  <caption>r/tea Features Importance</caption>\n",
       "  <thead>\n",
       "    <tr>\n",
       "      <th class=\"blank level0\" >&nbsp;</th>\n",
       "      <th class=\"col_heading level0 col0\" >feature</th>\n",
       "      <th class=\"col_heading level0 col1\" >log prob diff</th>\n",
       "    </tr>\n",
       "  </thead>\n",
       "  <tbody>\n",
       "    <tr>\n",
       "      <th id=\"T_1aaf0_level0_row0\" class=\"row_heading level0 row0\" >757</th>\n",
       "      <td id=\"T_1aaf0_row0_col0\" class=\"data row0 col0\" >green</td>\n",
       "      <td id=\"T_1aaf0_row0_col1\" class=\"data row0 col1\" >-3.557804</td>\n",
       "    </tr>\n",
       "    <tr>\n",
       "      <th id=\"T_1aaf0_level0_row1\" class=\"row_heading level0 row1\" >977</th>\n",
       "      <td id=\"T_1aaf0_row1_col0\" class=\"data row1 col0\" >leaf</td>\n",
       "      <td id=\"T_1aaf0_row1_col1\" class=\"data row1 col1\" >-3.516561</td>\n",
       "    </tr>\n",
       "    <tr>\n",
       "      <th id=\"T_1aaf0_level0_row2\" class=\"row_heading level0 row2\" >1087</th>\n",
       "      <td id=\"T_1aaf0_row2_col0\" class=\"data row2 col0\" >matcha</td>\n",
       "      <td id=\"T_1aaf0_row2_col1\" class=\"data row2 col1\" >-3.516561</td>\n",
       "    </tr>\n",
       "    <tr>\n",
       "      <th id=\"T_1aaf0_level0_row3\" class=\"row_heading level0 row3\" >1223</th>\n",
       "      <td id=\"T_1aaf0_row3_col0\" class=\"data row3 col0\" >oolong</td>\n",
       "      <td id=\"T_1aaf0_row3_col1\" class=\"data row3 col1\" >-3.332132</td>\n",
       "    </tr>\n",
       "    <tr>\n",
       "      <th id=\"T_1aaf0_level0_row4\" class=\"row_heading level0 row4\" >1733</th>\n",
       "      <td id=\"T_1aaf0_row4_col0\" class=\"data row4 col0\" >teapot</td>\n",
       "      <td id=\"T_1aaf0_row4_col1\" class=\"data row4 col1\" >-3.280173</td>\n",
       "    </tr>\n",
       "    <tr>\n",
       "      <th id=\"T_1aaf0_level0_row5\" class=\"row_heading level0 row5\" >1041</th>\n",
       "      <td id=\"T_1aaf0_row5_col0\" class=\"data row5 col0\" >loose</td>\n",
       "      <td id=\"T_1aaf0_row5_col1\" class=\"data row5 col1\" >-3.225364</td>\n",
       "    </tr>\n",
       "    <tr>\n",
       "      <th id=\"T_1aaf0_level0_row6\" class=\"row_heading level0 row6\" >823</th>\n",
       "      <td id=\"T_1aaf0_row6_col0\" class=\"data row6 col0\" >herbal</td>\n",
       "      <td id=\"T_1aaf0_row6_col1\" class=\"data row6 col1\" >-3.167377</td>\n",
       "    </tr>\n",
       "    <tr>\n",
       "      <th id=\"T_1aaf0_level0_row7\" class=\"row_heading level0 row7\" >1042</th>\n",
       "      <td id=\"T_1aaf0_row7_col0\" class=\"data row7 col0\" >loose leaf</td>\n",
       "      <td id=\"T_1aaf0_row7_col1\" class=\"data row7 col1\" >-3.040222</td>\n",
       "    </tr>\n",
       "    <tr>\n",
       "      <th id=\"T_1aaf0_level0_row8\" class=\"row_heading level0 row8\" >1648</th>\n",
       "      <td id=\"T_1aaf0_row8_col0\" class=\"data row8 col0\" >steep</td>\n",
       "      <td id=\"T_1aaf0_row8_col1\" class=\"data row8 col1\" >-2.894510</td>\n",
       "    </tr>\n",
       "    <tr>\n",
       "      <th id=\"T_1aaf0_level0_row9\" class=\"row_heading level0 row9\" >1887</th>\n",
       "      <td id=\"T_1aaf0_row9_col0\" class=\"data row9 col0\" >view poll</td>\n",
       "      <td id=\"T_1aaf0_row9_col1\" class=\"data row9 col1\" >-2.812832</td>\n",
       "    </tr>\n",
       "  </tbody>\n",
       "</table>\n",
       "&emsp;&emsp;<style type=\"text/css\">\n",
       "</style>\n",
       "<table id=\"T_2ef31_\" style='display:inline'>\n",
       "  <caption>r/Coffee Features Importance</caption>\n",
       "  <thead>\n",
       "    <tr>\n",
       "      <th class=\"blank level0\" >&nbsp;</th>\n",
       "      <th class=\"col_heading level0 col0\" >feature</th>\n",
       "      <th class=\"col_heading level0 col1\" >log prob diff</th>\n",
       "    </tr>\n",
       "  </thead>\n",
       "  <tbody>\n",
       "    <tr>\n",
       "      <th id=\"T_2ef31_level0_row0\" class=\"row_heading level0 row0\" >182</th>\n",
       "      <td id=\"T_2ef31_row0_col0\" class=\"data row0 col0\" >bean</td>\n",
       "      <td id=\"T_2ef31_row0_col1\" class=\"data row0 col1\" >3.958085</td>\n",
       "    </tr>\n",
       "    <tr>\n",
       "      <th id=\"T_2ef31_level0_row1\" class=\"row_heading level0 row1\" >1058</th>\n",
       "      <td id=\"T_2ef31_row1_col0\" class=\"data row1 col0\" >machine</td>\n",
       "      <td id=\"T_2ef31_row1_col1\" class=\"data row1 col1\" >3.908995</td>\n",
       "    </tr>\n",
       "    <tr>\n",
       "      <th id=\"T_2ef31_level0_row2\" class=\"row_heading level0 row2\" >765</th>\n",
       "      <td id=\"T_2ef31_row2_col0\" class=\"data row2 col0\" >grinder</td>\n",
       "      <td id=\"T_2ef31_row2_col1\" class=\"data row2 col1\" >3.802935</td>\n",
       "    </tr>\n",
       "    <tr>\n",
       "      <th id=\"T_2ef31_level0_row3\" class=\"row_heading level0 row3\" >552</th>\n",
       "      <td id=\"T_2ef31_row3_col0\" class=\"data row3 col0\" >espresso</td>\n",
       "      <td id=\"T_2ef31_row3_col1\" class=\"data row3 col1\" >3.745366</td>\n",
       "    </tr>\n",
       "    <tr>\n",
       "      <th id=\"T_2ef31_level0_row4\" class=\"row_heading level0 row4\" >1466</th>\n",
       "      <td id=\"T_2ef31_row4_col0\" class=\"data row4 col0\" >roast</td>\n",
       "      <td id=\"T_2ef31_row4_col1\" class=\"data row4 col1\" >3.157579</td>\n",
       "    </tr>\n",
       "    <tr>\n",
       "      <th id=\"T_2ef31_level0_row5\" class=\"row_heading level0 row5\" >1138</th>\n",
       "      <td id=\"T_2ef31_row5_col0\" class=\"data row5 col0\" >moka</td>\n",
       "      <td id=\"T_2ef31_row5_col1\" class=\"data row5 col1\" >3.102771</td>\n",
       "    </tr>\n",
       "    <tr>\n",
       "      <th id=\"T_2ef31_level0_row6\" class=\"row_heading level0 row6\" >264</th>\n",
       "      <td id=\"T_2ef31_row6_col0\" class=\"data row6 col0\" >burr</td>\n",
       "      <td id=\"T_2ef31_row6_col1\" class=\"data row6 col1\" >2.983226</td>\n",
       "    </tr>\n",
       "    <tr>\n",
       "      <th id=\"T_2ef31_level0_row7\" class=\"row_heading level0 row7\" >1337</th>\n",
       "      <td id=\"T_2ef31_row7_col0\" class=\"data row7 col0\" >press</td>\n",
       "      <td id=\"T_2ef31_row7_col1\" class=\"data row7 col1\" >2.847424</td>\n",
       "    </tr>\n",
       "    <tr>\n",
       "      <th id=\"T_2ef31_level0_row8\" class=\"row_heading level0 row8\" >503</th>\n",
       "      <td id=\"T_2ef31_row8_col0\" class=\"data row8 col0\" >drip</td>\n",
       "      <td id=\"T_2ef31_row8_col1\" class=\"data row8 col1\" >2.847424</td>\n",
       "    </tr>\n",
       "    <tr>\n",
       "      <th id=\"T_2ef31_level0_row9\" class=\"row_heading level0 row9\" >1469</th>\n",
       "      <td id=\"T_2ef31_row9_col0\" class=\"data row9 col0\" >roaster</td>\n",
       "      <td id=\"T_2ef31_row9_col1\" class=\"data row9 col1\" >2.847424</td>\n",
       "    </tr>\n",
       "  </tbody>\n",
       "</table>\n"
      ]
     },
     "metadata": {},
     "output_type": "display_data"
    }
   ],
   "source": [
    "# display the features importance of each subreddit\n",
    "FeaturesImportanceNB(tfidf_m4,nb_m4)"
   ]
  },
  {
   "cell_type": "code",
   "execution_count": 111,
   "id": "5f4a7552-ba4f-44fb-b69a-6f51db5b3437",
   "metadata": {},
   "outputs": [
    {
     "data": {
      "image/png": "[encoded data removed]",
      "text/plain": [
       "<Figure size 720x432 with 1 Axes>"
      ]
     },
     "metadata": {
      "needs_background": "light"
     },
     "output_type": "display_data"
    }
   ],
   "source": [
    "PlotROCCurve(gs4)"
   ]
  },
  {
   "cell_type": "code",
   "execution_count": 112,
   "id": "f7f32c31-f201-45c0-a2e0-f3d7afa38698",
   "metadata": {},
   "outputs": [
    {
     "data": {
      "text/plain": [
       "Text(0.5, 1.0, 'Confusion Matrix of TF-IDF + Bernoulli NB')"
      ]
     },
     "execution_count": 112,
     "metadata": {},
     "output_type": "execute_result"
    },
    {
     "data": {
      "image/png": "[encoded data removed]",
      "text/plain": [
       "<Figure size 1800x432 with 2 Axes>"
      ]
     },
     "metadata": {
      "needs_background": "light"
     },
     "output_type": "display_data"
    }
   ],
   "source": [
    "# View confusion matrix\n",
    "plt.rcParams['figure.figsize'] = 25,6\n",
    "\n",
    "plot_confusion_matrix(gs4, X_test, y_test, cmap='Reds', display_labels=['tea','coffee'] , values_format='d')\n",
    "\n",
    "plt.title('Confusion Matrix of TF-IDF + Bernoulli NB')"
   ]
  },
  {
   "cell_type": "code",
   "execution_count": 113,
   "id": "d21c6923-5666-431a-8a77-f97953eccfa4",
   "metadata": {},
   "outputs": [
    {
     "name": "stdout",
     "output_type": "stream",
     "text": [
      "              precision    recall  f1-score   support\n",
      "\n",
      "           0       0.79      0.73      0.76       366\n",
      "           1       0.76      0.82      0.79       389\n",
      "\n",
      "    accuracy                           0.78       755\n",
      "   macro avg       0.78      0.78      0.78       755\n",
      "weighted avg       0.78      0.78      0.78       755\n",
      "\n"
     ]
    }
   ],
   "source": [
    "print(classification_report(y_test, preds4))"
   ]
  },
  {
   "cell_type": "markdown",
   "id": "3c5c6e57-cebf-4037-a256-b1a84c158d93",
   "metadata": {},
   "source": [
    "### 4.5 Count Vectorizer / Logistic Regression"
   ]
  },
  {
   "cell_type": "code",
   "execution_count": 114,
   "id": "1e3a5124-86f5-41c0-882a-88a4c0562282",
   "metadata": {},
   "outputs": [],
   "source": [
    "# Let's set a pipeline up with two stages:\n",
    "# 1. CountVectorizer (transformer)\n",
    "# 2. Logistic Regression (estimator)\n",
    "\n",
    "pipe5 = Pipeline([\n",
    "    ('cvec', CountVectorizer()),\n",
    "    ('logreg', LogisticRegression())\n",
    "])"
   ]
  },
  {
   "cell_type": "code",
   "execution_count": 115,
   "id": "6a8fa4e6-43a4-4430-813f-1da789b45f79",
   "metadata": {},
   "outputs": [],
   "source": [
    "# Search over the following values of hyperparameters:\n",
    "# Maximum number of features fit: 2000, 3000, 4000, 5000\n",
    "# Minimum number of documents needed to include token: 2, 3\n",
    "# Maximum number of documents needed to include token: 90%, 95%\n",
    "# Check (individual tokens) and also check (individual tokens and 2-grams).\n",
    "# Alpha for the laplace smoothing of the multinomial NB\n",
    "\n",
    "pipe_params5 = {\n",
    "    'cvec__max_features': [2_000, 3_000, 4_000, 5_000],\n",
    "    'cvec__min_df': [2, 3],\n",
    "    'cvec__max_df': [.9, .95],\n",
    "    'cvec__ngram_range': [(1,1), (1,2), (2,2)],\n",
    "    'logreg__C': np.logspace(-2,2,50),\n",
    "    'logreg__penalty': ['l1','l2'],\n",
    "    'logreg__solver': ['liblinear']\n",
    "}"
   ]
  },
  {
   "cell_type": "code",
   "execution_count": 116,
   "id": "bfc1476e-78ae-4ab7-bd36-2231da4cfb87",
   "metadata": {},
   "outputs": [],
   "source": [
    "# Instantiate GridSearchCV.\n",
    "\n",
    "gs5 = GridSearchCV(pipe5, # what object are we optimizing?\n",
    "                  param_grid=pipe_params5, # what parameters values are we searching?\n",
    "                  cv=5, n_jobs=-1) # 5-fold cross-validation."
   ]
  },
  {
   "cell_type": "code",
   "execution_count": 117,
   "id": "959f6222-8c6d-4ea3-8f45-1a2d3a1dddcb",
   "metadata": {
    "scrolled": true
   },
   "outputs": [
    {
     "name": "stdout",
     "output_type": "stream",
     "text": [
      "Wall time: 16min 50s\n"
     ]
    },
    {
     "data": {
      "text/plain": [
       "GridSearchCV(cv=5,\n",
       "             estimator=Pipeline(steps=[('cvec', CountVectorizer()),\n",
       "                                       ('logreg', LogisticRegression())]),\n",
       "             n_jobs=-1,\n",
       "             param_grid={'cvec__max_df': [0.9, 0.95],\n",
       "                         'cvec__max_features': [2000, 3000, 4000, 5000],\n",
       "                         'cvec__min_df': [2, 3],\n",
       "                         'cvec__ngram_range': [(1, 1), (1, 2), (2, 2)],\n",
       "                         'logreg__C': array([1.00000000e-02, 1.20679264e-02, 1.45634848e-02, 1.75751062e-02,\n",
       "       2.12095089e-02...\n",
       "       1.93069773e+00, 2.32995181e+00, 2.81176870e+00, 3.39322177e+00,\n",
       "       4.09491506e+00, 4.94171336e+00, 5.96362332e+00, 7.19685673e+00,\n",
       "       8.68511374e+00, 1.04811313e+01, 1.26485522e+01, 1.52641797e+01,\n",
       "       1.84206997e+01, 2.22299648e+01, 2.68269580e+01, 3.23745754e+01,\n",
       "       3.90693994e+01, 4.71486636e+01, 5.68986603e+01, 6.86648845e+01,\n",
       "       8.28642773e+01, 1.00000000e+02]),\n",
       "                         'logreg__penalty': ['l1', 'l2'],\n",
       "                         'logreg__solver': ['liblinear']})"
      ]
     },
     "execution_count": 117,
     "metadata": {},
     "output_type": "execute_result"
    }
   ],
   "source": [
    "%%time\n",
    "# Fit GridSearch to training data.\n",
    "gs5.fit(X_train, y_train)"
   ]
  },
  {
   "cell_type": "code",
   "execution_count": 118,
   "id": "350a4adc-f573-487f-aaff-b022de35a74f",
   "metadata": {},
   "outputs": [
    {
     "data": {
      "text/plain": [
       "{'cvec__max_df': 0.9,\n",
       " 'cvec__max_features': 3000,\n",
       " 'cvec__min_df': 2,\n",
       " 'cvec__ngram_range': (1, 1),\n",
       " 'logreg__C': 0.09540954763499938,\n",
       " 'logreg__penalty': 'l2',\n",
       " 'logreg__solver': 'liblinear'}"
      ]
     },
     "execution_count": 118,
     "metadata": {},
     "output_type": "execute_result"
    }
   ],
   "source": [
    "gs5.best_params_"
   ]
  },
  {
   "cell_type": "code",
   "execution_count": 119,
   "id": "e23bb3ef-f967-49ef-927c-e7e8bce8688d",
   "metadata": {},
   "outputs": [
    {
     "name": "stdout",
     "output_type": "stream",
     "text": [
      "0.8772072129611889\n"
     ]
    }
   ],
   "source": [
    "print(gs5.best_score_)"
   ]
  },
  {
   "cell_type": "code",
   "execution_count": 120,
   "id": "238ae5dc-8e43-44d4-8373-6dc0489cdf3f",
   "metadata": {},
   "outputs": [
    {
     "data": {
      "text/plain": [
       "0.9804049640757675"
      ]
     },
     "execution_count": 120,
     "metadata": {},
     "output_type": "execute_result"
    }
   ],
   "source": [
    "# Score model on training set.\n",
    "gs5.score(X_train, y_train)"
   ]
  },
  {
   "cell_type": "code",
   "execution_count": 121,
   "id": "2fc44573-3bd4-4ff5-a0e4-dce2fdda8e53",
   "metadata": {},
   "outputs": [
    {
     "data": {
      "text/plain": [
       "0.8728476821192053"
      ]
     },
     "execution_count": 121,
     "metadata": {},
     "output_type": "execute_result"
    }
   ],
   "source": [
    "# Score model on testing set.\n",
    "gs5.score(X_test, y_test)"
   ]
  },
  {
   "cell_type": "code",
   "execution_count": 122,
   "id": "8b3cddfb-de82-4a25-8880-061763b477ea",
   "metadata": {},
   "outputs": [],
   "source": [
    "# Get predictions\n",
    "preds5 = gs5.predict(X_test)\n",
    "\n",
    "# Save confusion matrix values\n",
    "tn, fp, fn, tp = confusion_matrix(y_test, preds5).ravel()"
   ]
  },
  {
   "cell_type": "code",
   "execution_count": 123,
   "id": "1a478cbc-e067-4e05-ad05-1f13b89e92d2",
   "metadata": {},
   "outputs": [],
   "source": [
    "logreg_m5 = gs5.best_estimator_.named_steps['logreg']\n",
    "cvec_m5 = gs5.best_estimator_.named_steps['cvec']"
   ]
  },
  {
   "cell_type": "code",
   "execution_count": 124,
   "id": "f2fd8fbe-731a-4288-8195-0f85a866385d",
   "metadata": {},
   "outputs": [],
   "source": [
    "def FeaturesImportanceLogReg(trfmr, lr):\n",
    "    df = pd.DataFrame()\n",
    "\n",
    "    df['feature'] = trfmr.get_feature_names()\n",
    "    df['coef'] = lr.coef_.reshape(-1)\n",
    "\n",
    "    df_tea = df.sort_values(by= 'coef', ascending= True).head(10)\n",
    "    df_coffee = df.sort_values(by= 'coef', ascending= False).head(10)\n",
    "\n",
    "    caption1 = df_tea.style.set_table_attributes(\"style='display:inline'\").set_caption('r/tea Features Importance')\n",
    "    caption2 = df_coffee.style.set_table_attributes(\"style='display:inline'\").set_caption('r/Coffee Features Importance')\n",
    "    display_html(caption1._repr_html_()+'&emsp;&emsp;'+caption2._repr_html_(), raw=True)\n",
    "    "
   ]
  },
  {
   "cell_type": "code",
   "execution_count": 125,
   "id": "affcbd31-2f84-4cb1-b6dc-ef338f0cc111",
   "metadata": {},
   "outputs": [
    {
     "data": {
      "text/html": [
       "<style type=\"text/css\">\n",
       "</style>\n",
       "<table id=\"T_68f44_\" style='display:inline'>\n",
       "  <caption>r/tea Features Importance</caption>\n",
       "  <thead>\n",
       "    <tr>\n",
       "      <th class=\"blank level0\" >&nbsp;</th>\n",
       "      <th class=\"col_heading level0 col0\" >feature</th>\n",
       "      <th class=\"col_heading level0 col1\" >coef</th>\n",
       "    </tr>\n",
       "  </thead>\n",
       "  <tbody>\n",
       "    <tr>\n",
       "      <th id=\"T_68f44_level0_row0\" class=\"row_heading level0 row0\" >1540</th>\n",
       "      <td id=\"T_68f44_row0_col0\" class=\"data row0 col0\" >leaf</td>\n",
       "      <td id=\"T_68f44_row0_col1\" class=\"data row0 col1\" >-0.950821</td>\n",
       "    </tr>\n",
       "    <tr>\n",
       "      <th id=\"T_68f44_level0_row1\" class=\"row_heading level0 row1\" >1231</th>\n",
       "      <td id=\"T_68f44_row1_col0\" class=\"data row1 col0\" >green</td>\n",
       "      <td id=\"T_68f44_row1_col1\" class=\"data row1 col1\" >-0.837500</td>\n",
       "    </tr>\n",
       "    <tr>\n",
       "      <th id=\"T_68f44_level0_row2\" class=\"row_heading level0 row2\" >1660</th>\n",
       "      <td id=\"T_68f44_row2_col0\" class=\"data row2 col0\" >matcha</td>\n",
       "      <td id=\"T_68f44_row2_col1\" class=\"data row2 col1\" >-0.577634</td>\n",
       "    </tr>\n",
       "    <tr>\n",
       "      <th id=\"T_68f44_level0_row3\" class=\"row_heading level0 row3\" >1608</th>\n",
       "      <td id=\"T_68f44_row3_col0\" class=\"data row3 col0\" >loose</td>\n",
       "      <td id=\"T_68f44_row3_col1\" class=\"data row3 col1\" >-0.475148</td>\n",
       "    </tr>\n",
       "    <tr>\n",
       "      <th id=\"T_68f44_level0_row4\" class=\"row_heading level0 row4\" >1843</th>\n",
       "      <td id=\"T_68f44_row4_col0\" class=\"data row4 col0\" >oolong</td>\n",
       "      <td id=\"T_68f44_row4_col1\" class=\"data row4 col1\" >-0.462009</td>\n",
       "    </tr>\n",
       "    <tr>\n",
       "      <th id=\"T_68f44_level0_row5\" class=\"row_heading level0 row5\" >1308</th>\n",
       "      <td id=\"T_68f44_row5_col0\" class=\"data row5 col0\" >herbal</td>\n",
       "      <td id=\"T_68f44_row5_col1\" class=\"data row5 col1\" >-0.452882</td>\n",
       "    </tr>\n",
       "    <tr>\n",
       "      <th id=\"T_68f44_level0_row6\" class=\"row_heading level0 row6\" >522</th>\n",
       "      <td id=\"T_68f44_row6_col0\" class=\"data row6 col0\" >chai</td>\n",
       "      <td id=\"T_68f44_row6_col1\" class=\"data row6 col1\" >-0.443759</td>\n",
       "    </tr>\n",
       "    <tr>\n",
       "      <th id=\"T_68f44_level0_row7\" class=\"row_heading level0 row7\" >2656</th>\n",
       "      <td id=\"T_68f44_row7_col0\" class=\"data row7 col0\" >teapot</td>\n",
       "      <td id=\"T_68f44_row7_col1\" class=\"data row7 col1\" >-0.443370</td>\n",
       "    </tr>\n",
       "    <tr>\n",
       "      <th id=\"T_68f44_level0_row8\" class=\"row_heading level0 row8\" >2522</th>\n",
       "      <td id=\"T_68f44_row8_col0\" class=\"data row8 col0\" >steep</td>\n",
       "      <td id=\"T_68f44_row8_col1\" class=\"data row8 col1\" >-0.395352</td>\n",
       "    </tr>\n",
       "    <tr>\n",
       "      <th id=\"T_68f44_level0_row9\" class=\"row_heading level0 row9\" >291</th>\n",
       "      <td id=\"T_68f44_row9_col0\" class=\"data row9 col0\" >bag</td>\n",
       "      <td id=\"T_68f44_row9_col1\" class=\"data row9 col1\" >-0.386590</td>\n",
       "    </tr>\n",
       "  </tbody>\n",
       "</table>\n",
       "&emsp;&emsp;<style type=\"text/css\">\n",
       "</style>\n",
       "<table id=\"T_99100_\" style='display:inline'>\n",
       "  <caption>r/Coffee Features Importance</caption>\n",
       "  <thead>\n",
       "    <tr>\n",
       "      <th class=\"blank level0\" >&nbsp;</th>\n",
       "      <th class=\"col_heading level0 col0\" >feature</th>\n",
       "      <th class=\"col_heading level0 col1\" >coef</th>\n",
       "    </tr>\n",
       "  </thead>\n",
       "  <tbody>\n",
       "    <tr>\n",
       "      <th id=\"T_99100_level0_row0\" class=\"row_heading level0 row0\" >321</th>\n",
       "      <td id=\"T_99100_row0_col0\" class=\"data row0 col0\" >bean</td>\n",
       "      <td id=\"T_99100_row0_col1\" class=\"data row0 col1\" >1.068305</td>\n",
       "    </tr>\n",
       "    <tr>\n",
       "      <th id=\"T_99100_level0_row1\" class=\"row_heading level0 row1\" >1236</th>\n",
       "      <td id=\"T_99100_row1_col0\" class=\"data row1 col0\" >grinder</td>\n",
       "      <td id=\"T_99100_row1_col1\" class=\"data row1 col1\" >0.825137</td>\n",
       "    </tr>\n",
       "    <tr>\n",
       "      <th id=\"T_99100_level0_row2\" class=\"row_heading level0 row2\" >950</th>\n",
       "      <td id=\"T_99100_row2_col0\" class=\"data row2 col0\" >espresso</td>\n",
       "      <td id=\"T_99100_row2_col1\" class=\"data row2 col1\" >0.816404</td>\n",
       "    </tr>\n",
       "    <tr>\n",
       "      <th id=\"T_99100_level0_row3\" class=\"row_heading level0 row3\" >1628</th>\n",
       "      <td id=\"T_99100_row3_col0\" class=\"data row3 col0\" >machine</td>\n",
       "      <td id=\"T_99100_row3_col1\" class=\"data row3 col1\" >0.799796</td>\n",
       "    </tr>\n",
       "    <tr>\n",
       "      <th id=\"T_99100_level0_row4\" class=\"row_heading level0 row4\" >2218</th>\n",
       "      <td id=\"T_99100_row4_col0\" class=\"data row4 col0\" >roaster</td>\n",
       "      <td id=\"T_99100_row4_col1\" class=\"data row4 col1\" >0.679050</td>\n",
       "    </tr>\n",
       "    <tr>\n",
       "      <th id=\"T_99100_level0_row5\" class=\"row_heading level0 row5\" >1240</th>\n",
       "      <td id=\"T_99100_row5_col0\" class=\"data row5 col0\" >ground</td>\n",
       "      <td id=\"T_99100_row5_col1\" class=\"data row5 col1\" >0.610114</td>\n",
       "    </tr>\n",
       "    <tr>\n",
       "      <th id=\"T_99100_level0_row6\" class=\"row_heading level0 row6\" >2216</th>\n",
       "      <td id=\"T_99100_row6_col0\" class=\"data row6 col0\" >roast</td>\n",
       "      <td id=\"T_99100_row6_col1\" class=\"data row6 col1\" >0.530669</td>\n",
       "    </tr>\n",
       "    <tr>\n",
       "      <th id=\"T_99100_level0_row7\" class=\"row_heading level0 row7\" >2026</th>\n",
       "      <td id=\"T_99100_row7_col0\" class=\"data row7 col0\" >press</td>\n",
       "      <td id=\"T_99100_row7_col1\" class=\"data row7 col1\" >0.467332</td>\n",
       "    </tr>\n",
       "    <tr>\n",
       "      <th id=\"T_99100_level0_row8\" class=\"row_heading level0 row8\" >1734</th>\n",
       "      <td id=\"T_99100_row8_col0\" class=\"data row8 col0\" >moka</td>\n",
       "      <td id=\"T_99100_row8_col1\" class=\"data row8 col1\" >0.458562</td>\n",
       "    </tr>\n",
       "    <tr>\n",
       "      <th id=\"T_99100_level0_row9\" class=\"row_heading level0 row9\" >1061</th>\n",
       "      <td id=\"T_99100_row9_col0\" class=\"data row9 col0\" >filter</td>\n",
       "      <td id=\"T_99100_row9_col1\" class=\"data row9 col1\" >0.439782</td>\n",
       "    </tr>\n",
       "  </tbody>\n",
       "</table>\n"
      ]
     },
     "metadata": {},
     "output_type": "display_data"
    }
   ],
   "source": [
    "FeaturesImportanceLogReg(cvec_m5,logreg_m5)"
   ]
  },
  {
   "cell_type": "code",
   "execution_count": 126,
   "id": "1a9a3de9-be23-44c6-a224-99fa6dbc57c2",
   "metadata": {},
   "outputs": [
    {
     "data": {
      "image/png": "[encoded data removed]",
      "text/plain": [
       "<Figure size 720x432 with 1 Axes>"
      ]
     },
     "metadata": {
      "needs_background": "light"
     },
     "output_type": "display_data"
    }
   ],
   "source": [
    "PlotROCCurve(gs5)"
   ]
  },
  {
   "cell_type": "code",
   "execution_count": 127,
   "id": "4e7f8447-42ce-4d76-81e4-f72ee17899a2",
   "metadata": {},
   "outputs": [
    {
     "data": {
      "text/plain": [
       "Text(0.5, 1.0, 'Confusion Matrix of Count Vectorizer + Logistic Regression')"
      ]
     },
     "execution_count": 127,
     "metadata": {},
     "output_type": "execute_result"
    },
    {
     "data": {
      "image/png": "[encoded data removed]",
      "text/plain": [
       "<Figure size 1800x432 with 2 Axes>"
      ]
     },
     "metadata": {
      "needs_background": "light"
     },
     "output_type": "display_data"
    }
   ],
   "source": [
    "# View confusion matrix\n",
    "plt.rcParams['figure.figsize'] = 25,6\n",
    "\n",
    "plot_confusion_matrix(gs5, X_test, y_test, cmap='Blues', display_labels=['tea','coffee'] , values_format='d')\n",
    "\n",
    "plt.title('Confusion Matrix of Count Vectorizer + Logistic Regression')"
   ]
  },
  {
   "cell_type": "code",
   "execution_count": 128,
   "id": "2148e400-ad2c-48b5-983a-4b78dcca9971",
   "metadata": {},
   "outputs": [
    {
     "name": "stdout",
     "output_type": "stream",
     "text": [
      "              precision    recall  f1-score   support\n",
      "\n",
      "           0       0.83      0.92      0.88       366\n",
      "           1       0.92      0.83      0.87       389\n",
      "\n",
      "    accuracy                           0.87       755\n",
      "   macro avg       0.88      0.87      0.87       755\n",
      "weighted avg       0.88      0.87      0.87       755\n",
      "\n"
     ]
    }
   ],
   "source": [
    "print(classification_report(y_test, preds5))"
   ]
  },
  {
   "cell_type": "markdown",
   "id": "8d5df20b-2c83-45ed-9078-1e7e36ab85ba",
   "metadata": {},
   "source": [
    "### 4.6 TF-IDF / Logistic Regression"
   ]
  },
  {
   "cell_type": "code",
   "execution_count": 132,
   "id": "058663de-4bb2-4502-aed0-9b6cfc8b2063",
   "metadata": {},
   "outputs": [],
   "source": [
    "# Let's set a pipeline up with two stages:\n",
    "# 1. TF-IDF (transformer)\n",
    "# 2. Logistic Regression (estimator)\n",
    "\n",
    "pipe6 = Pipeline([\n",
    "    ('tfidf', TfidfVectorizer()),\n",
    "    ('logreg', LogisticRegression())\n",
    "])"
   ]
  },
  {
   "cell_type": "code",
   "execution_count": 133,
   "id": "9436290c-4477-427d-89b7-50b6eedb15a8",
   "metadata": {},
   "outputs": [],
   "source": [
    "# Search over the following values of hyperparameters:\n",
    "# Maximum number of features fit: 2000, 3000, 4000, 5000\n",
    "# Minimum number of documents needed to include token: 2, 3\n",
    "# Maximum number of documents needed to include token: 90%, 95%\n",
    "# Check (individual tokens) and also check (individual tokens and 2-grams).\n",
    "# Alpha for the laplace smoothing of the multinomial NB\n",
    "\n",
    "pipe_params6 = {\n",
    "    'tfidf__max_features': [2_000, 3_000, 4_000, 5_000],\n",
    "    'tfidf__min_df': [2, 3],\n",
    "    'tfidf__max_df': [.9, .95],\n",
    "    'tfidf__ngram_range': [(1,1), (1,2), (2,2)],\n",
    "    'logreg__C': np.logspace(-2,2,50),\n",
    "    'logreg__penalty': ['l1','l2'],\n",
    "    'logreg__solver': ['liblinear']\n",
    "}"
   ]
  },
  {
   "cell_type": "code",
   "execution_count": 134,
   "id": "53c8f54e-3162-4277-b6bc-b807f57636b3",
   "metadata": {},
   "outputs": [],
   "source": [
    "# Instantiate GridSearchCV.\n",
    "\n",
    "gs6 = GridSearchCV(pipe6, # what object are we optimizing?\n",
    "                  param_grid=pipe_params6, # what parameters values are we searching?\n",
    "                  cv=5, n_jobs=-1) # 5-fold cross-validation."
   ]
  },
  {
   "cell_type": "code",
   "execution_count": 136,
   "id": "02938160-c449-47d9-a62d-22304bb2e061",
   "metadata": {
    "scrolled": true
   },
   "outputs": [
    {
     "name": "stdout",
     "output_type": "stream",
     "text": [
      "Wall time: 15min 24s\n"
     ]
    },
    {
     "data": {
      "text/plain": [
       "GridSearchCV(cv=5,\n",
       "             estimator=Pipeline(steps=[('tfidf', TfidfVectorizer()),\n",
       "                                       ('logreg', LogisticRegression())]),\n",
       "             n_jobs=-1,\n",
       "             param_grid={'logreg__C': array([1.00000000e-02, 1.20679264e-02, 1.45634848e-02, 1.75751062e-02,\n",
       "       2.12095089e-02, 2.55954792e-02, 3.08884360e-02, 3.72759372e-02,\n",
       "       4.49843267e-02, 5.42867544e-02, 6.55128557e-02, 7.90604321e-02,\n",
       "       9.54095476e-02, 1.151395...\n",
       "       8.68511374e+00, 1.04811313e+01, 1.26485522e+01, 1.52641797e+01,\n",
       "       1.84206997e+01, 2.22299648e+01, 2.68269580e+01, 3.23745754e+01,\n",
       "       3.90693994e+01, 4.71486636e+01, 5.68986603e+01, 6.86648845e+01,\n",
       "       8.28642773e+01, 1.00000000e+02]),\n",
       "                         'logreg__penalty': ['l1', 'l2'],\n",
       "                         'logreg__solver': ['liblinear'],\n",
       "                         'tfidf__max_df': [0.9, 0.95],\n",
       "                         'tfidf__max_features': [2000, 3000, 4000, 5000],\n",
       "                         'tfidf__min_df': [2, 3],\n",
       "                         'tfidf__ngram_range': [(1, 1), (1, 2), (2, 2)]})"
      ]
     },
     "execution_count": 136,
     "metadata": {},
     "output_type": "execute_result"
    }
   ],
   "source": [
    "%%time\n",
    "# Fit GridSearch to training data.\n",
    "gs6.fit(X_train, y_train)"
   ]
  },
  {
   "cell_type": "code",
   "execution_count": 137,
   "id": "3e4e8f29-7272-45a0-9ca6-3708003a0bb8",
   "metadata": {},
   "outputs": [
    {
     "data": {
      "text/plain": [
       "{'logreg__C': 0.9102981779915218,\n",
       " 'logreg__penalty': 'l2',\n",
       " 'logreg__solver': 'liblinear',\n",
       " 'tfidf__max_df': 0.9,\n",
       " 'tfidf__max_features': 3000,\n",
       " 'tfidf__min_df': 3,\n",
       " 'tfidf__ngram_range': (1, 2)}"
      ]
     },
     "execution_count": 137,
     "metadata": {},
     "output_type": "execute_result"
    }
   ],
   "source": [
    "gs6.best_params_"
   ]
  },
  {
   "cell_type": "code",
   "execution_count": 138,
   "id": "70f43060-24ec-443e-93cc-6691e27b7848",
   "metadata": {},
   "outputs": [
    {
     "name": "stdout",
     "output_type": "stream",
     "text": [
      "0.8928785846586191\n"
     ]
    }
   ],
   "source": [
    "print(gs6.best_score_)"
   ]
  },
  {
   "cell_type": "code",
   "execution_count": 139,
   "id": "e0dc0d52-f3c1-46b4-9ae1-ad3c2bc10f51",
   "metadata": {},
   "outputs": [
    {
     "data": {
      "text/plain": [
       "0.9797517962116263"
      ]
     },
     "execution_count": 139,
     "metadata": {},
     "output_type": "execute_result"
    }
   ],
   "source": [
    "# Score model on training set.\n",
    "gs6.score(X_train, y_train)"
   ]
  },
  {
   "cell_type": "code",
   "execution_count": 140,
   "id": "dc2b6e2c-fef3-4948-bd2b-8b987b61ae10",
   "metadata": {},
   "outputs": [
    {
     "data": {
      "text/plain": [
       "0.8940397350993378"
      ]
     },
     "execution_count": 140,
     "metadata": {},
     "output_type": "execute_result"
    }
   ],
   "source": [
    "# Score model on testing set.\n",
    "gs6.score(X_test, y_test)"
   ]
  },
  {
   "cell_type": "code",
   "execution_count": 141,
   "id": "1039d6a5-21fa-413c-939b-a5a6ca8bbc8f",
   "metadata": {},
   "outputs": [],
   "source": [
    "# Get predictions\n",
    "preds6 = gs6.predict(X_test)\n",
    "\n",
    "# Save confusion matrix values\n",
    "tn, fp, fn, tp = confusion_matrix(y_test, preds6).ravel()"
   ]
  },
  {
   "cell_type": "code",
   "execution_count": 142,
   "id": "adce7a5c-6b43-4238-8e11-0a885e13a90a",
   "metadata": {},
   "outputs": [],
   "source": [
    "logreg_m6 = gs6.best_estimator_.named_steps['logreg']\n",
    "tfidf_m6 = gs6.best_estimator_.named_steps['tfidf']"
   ]
  },
  {
   "cell_type": "code",
   "execution_count": 143,
   "id": "2aa5086a-22a4-4804-8ac6-b3b7016ae36e",
   "metadata": {},
   "outputs": [
    {
     "data": {
      "text/html": [
       "<style type=\"text/css\">\n",
       "</style>\n",
       "<table id=\"T_bb8d9_\" style='display:inline'>\n",
       "  <caption>r/tea Features Importance</caption>\n",
       "  <thead>\n",
       "    <tr>\n",
       "      <th class=\"blank level0\" >&nbsp;</th>\n",
       "      <th class=\"col_heading level0 col0\" >feature</th>\n",
       "      <th class=\"col_heading level0 col1\" >coef</th>\n",
       "    </tr>\n",
       "  </thead>\n",
       "  <tbody>\n",
       "    <tr>\n",
       "      <th id=\"T_bb8d9_level0_row0\" class=\"row_heading level0 row0\" >1492</th>\n",
       "      <td id=\"T_bb8d9_row0_col0\" class=\"data row0 col0\" >leaf</td>\n",
       "      <td id=\"T_bb8d9_row0_col1\" class=\"data row0 col1\" >-3.398817</td>\n",
       "    </tr>\n",
       "    <tr>\n",
       "      <th id=\"T_bb8d9_level0_row1\" class=\"row_heading level0 row1\" >1172</th>\n",
       "      <td id=\"T_bb8d9_row1_col0\" class=\"data row1 col0\" >green</td>\n",
       "      <td id=\"T_bb8d9_row1_col1\" class=\"data row1 col1\" >-2.794190</td>\n",
       "    </tr>\n",
       "    <tr>\n",
       "      <th id=\"T_bb8d9_level0_row2\" class=\"row_heading level0 row2\" >1669</th>\n",
       "      <td id=\"T_bb8d9_row2_col0\" class=\"data row2 col0\" >matcha</td>\n",
       "      <td id=\"T_bb8d9_row2_col1\" class=\"data row2 col1\" >-2.139168</td>\n",
       "    </tr>\n",
       "    <tr>\n",
       "      <th id=\"T_bb8d9_level0_row3\" class=\"row_heading level0 row3\" >1849</th>\n",
       "      <td id=\"T_bb8d9_row3_col0\" class=\"data row3 col0\" >oolong</td>\n",
       "      <td id=\"T_bb8d9_row3_col1\" class=\"data row3 col1\" >-1.980654</td>\n",
       "    </tr>\n",
       "    <tr>\n",
       "      <th id=\"T_bb8d9_level0_row4\" class=\"row_heading level0 row4\" >1582</th>\n",
       "      <td id=\"T_bb8d9_row4_col0\" class=\"data row4 col0\" >loose</td>\n",
       "      <td id=\"T_bb8d9_row4_col1\" class=\"data row4 col1\" >-1.815573</td>\n",
       "    </tr>\n",
       "    <tr>\n",
       "      <th id=\"T_bb8d9_level0_row5\" class=\"row_heading level0 row5\" >2608</th>\n",
       "      <td id=\"T_bb8d9_row5_col0\" class=\"data row5 col0\" >teapot</td>\n",
       "      <td id=\"T_bb8d9_row5_col1\" class=\"data row5 col1\" >-1.717363</td>\n",
       "    </tr>\n",
       "    <tr>\n",
       "      <th id=\"T_bb8d9_level0_row6\" class=\"row_heading level0 row6\" >1583</th>\n",
       "      <td id=\"T_bb8d9_row6_col0\" class=\"data row6 col0\" >loose leaf</td>\n",
       "      <td id=\"T_bb8d9_row6_col1\" class=\"data row6 col1\" >-1.557966</td>\n",
       "    </tr>\n",
       "    <tr>\n",
       "      <th id=\"T_bb8d9_level0_row7\" class=\"row_heading level0 row7\" >346</th>\n",
       "      <td id=\"T_bb8d9_row7_col0\" class=\"data row7 col0\" >black</td>\n",
       "      <td id=\"T_bb8d9_row7_col1\" class=\"data row7 col1\" >-1.486418</td>\n",
       "    </tr>\n",
       "    <tr>\n",
       "      <th id=\"T_bb8d9_level0_row8\" class=\"row_heading level0 row8\" >1280</th>\n",
       "      <td id=\"T_bb8d9_row8_col0\" class=\"data row8 col0\" >herbal</td>\n",
       "      <td id=\"T_bb8d9_row8_col1\" class=\"data row8 col1\" >-1.476345</td>\n",
       "    </tr>\n",
       "    <tr>\n",
       "      <th id=\"T_bb8d9_level0_row9\" class=\"row_heading level0 row9\" >2493</th>\n",
       "      <td id=\"T_bb8d9_row9_col0\" class=\"data row9 col0\" >steep</td>\n",
       "      <td id=\"T_bb8d9_row9_col1\" class=\"data row9 col1\" >-1.407911</td>\n",
       "    </tr>\n",
       "  </tbody>\n",
       "</table>\n",
       "&emsp;&emsp;<style type=\"text/css\">\n",
       "</style>\n",
       "<table id=\"T_bbe98_\" style='display:inline'>\n",
       "  <caption>r/Coffee Features Importance</caption>\n",
       "  <thead>\n",
       "    <tr>\n",
       "      <th class=\"blank level0\" >&nbsp;</th>\n",
       "      <th class=\"col_heading level0 col0\" >feature</th>\n",
       "      <th class=\"col_heading level0 col1\" >coef</th>\n",
       "    </tr>\n",
       "  </thead>\n",
       "  <tbody>\n",
       "    <tr>\n",
       "      <th id=\"T_bbe98_level0_row0\" class=\"row_heading level0 row0\" >291</th>\n",
       "      <td id=\"T_bbe98_row0_col0\" class=\"data row0 col0\" >bean</td>\n",
       "      <td id=\"T_bbe98_row0_col1\" class=\"data row0 col1\" >3.838580</td>\n",
       "    </tr>\n",
       "    <tr>\n",
       "      <th id=\"T_bbe98_level0_row1\" class=\"row_heading level0 row1\" >1609</th>\n",
       "      <td id=\"T_bbe98_row1_col0\" class=\"data row1 col0\" >machine</td>\n",
       "      <td id=\"T_bbe98_row1_col1\" class=\"data row1 col1\" >3.324033</td>\n",
       "    </tr>\n",
       "    <tr>\n",
       "      <th id=\"T_bbe98_level0_row2\" class=\"row_heading level0 row2\" >899</th>\n",
       "      <td id=\"T_bbe98_row2_col0\" class=\"data row2 col0\" >espresso</td>\n",
       "      <td id=\"T_bbe98_row2_col1\" class=\"data row2 col1\" >3.094599</td>\n",
       "    </tr>\n",
       "    <tr>\n",
       "      <th id=\"T_bbe98_level0_row3\" class=\"row_heading level0 row3\" >1182</th>\n",
       "      <td id=\"T_bbe98_row3_col0\" class=\"data row3 col0\" >grinder</td>\n",
       "      <td id=\"T_bbe98_row3_col1\" class=\"data row3 col1\" >3.082373</td>\n",
       "    </tr>\n",
       "    <tr>\n",
       "      <th id=\"T_bbe98_level0_row4\" class=\"row_heading level0 row4\" >2212</th>\n",
       "      <td id=\"T_bbe98_row4_col0\" class=\"data row4 col0\" >roaster</td>\n",
       "      <td id=\"T_bbe98_row4_col1\" class=\"data row4 col1\" >1.995703</td>\n",
       "    </tr>\n",
       "    <tr>\n",
       "      <th id=\"T_bbe98_level0_row5\" class=\"row_heading level0 row5\" >1176</th>\n",
       "      <td id=\"T_bbe98_row5_col0\" class=\"data row5 col0\" >grind</td>\n",
       "      <td id=\"T_bbe98_row5_col1\" class=\"data row5 col1\" >1.923972</td>\n",
       "    </tr>\n",
       "    <tr>\n",
       "      <th id=\"T_bbe98_level0_row6\" class=\"row_heading level0 row6\" >2207</th>\n",
       "      <td id=\"T_bbe98_row6_col0\" class=\"data row6 col0\" >roast</td>\n",
       "      <td id=\"T_bbe98_row6_col1\" class=\"data row6 col1\" >1.864091</td>\n",
       "    </tr>\n",
       "    <tr>\n",
       "      <th id=\"T_bbe98_level0_row7\" class=\"row_heading level0 row7\" >1201</th>\n",
       "      <td id=\"T_bbe98_row7_col0\" class=\"data row7 col0\" >ground</td>\n",
       "      <td id=\"T_bbe98_row7_col1\" class=\"data row7 col1\" >1.794429</td>\n",
       "    </tr>\n",
       "    <tr>\n",
       "      <th id=\"T_bbe98_level0_row8\" class=\"row_heading level0 row8\" >431</th>\n",
       "      <td id=\"T_bbe98_row8_col0\" class=\"data row8 col0\" >burr</td>\n",
       "      <td id=\"T_bbe98_row8_col1\" class=\"data row8 col1\" >1.599201</td>\n",
       "    </tr>\n",
       "    <tr>\n",
       "      <th id=\"T_bbe98_level0_row9\" class=\"row_heading level0 row9\" >1001</th>\n",
       "      <td id=\"T_bbe98_row9_col0\" class=\"data row9 col0\" >filter</td>\n",
       "      <td id=\"T_bbe98_row9_col1\" class=\"data row9 col1\" >1.556353</td>\n",
       "    </tr>\n",
       "  </tbody>\n",
       "</table>\n"
      ]
     },
     "metadata": {},
     "output_type": "display_data"
    }
   ],
   "source": [
    "FeaturesImportanceLogReg(tfidf_m6,logreg_m6)"
   ]
  },
  {
   "cell_type": "code",
   "execution_count": 144,
   "id": "9e3aa093-861d-4f85-bd90-507b55a13692",
   "metadata": {},
   "outputs": [
    {
     "data": {
      "image/png": "[encoded data removed]",
      "text/plain": [
       "<Figure size 720x432 with 1 Axes>"
      ]
     },
     "metadata": {
      "needs_background": "light"
     },
     "output_type": "display_data"
    }
   ],
   "source": [
    "PlotROCCurve(gs6)"
   ]
  },
  {
   "cell_type": "code",
   "execution_count": 145,
   "id": "104753c5-886f-4c44-80b9-72004e9c7b08",
   "metadata": {},
   "outputs": [
    {
     "data": {
      "text/plain": [
       "Text(0.5, 1.0, 'Confusion Matrix of TF-IDF + Logistic Regression')"
      ]
     },
     "execution_count": 145,
     "metadata": {},
     "output_type": "execute_result"
    },
    {
     "data": {
      "image/png": "[encoded data removed]",
      "text/plain": [
       "<Figure size 1800x432 with 2 Axes>"
      ]
     },
     "metadata": {
      "needs_background": "light"
     },
     "output_type": "display_data"
    }
   ],
   "source": [
    "# View confusion matrix\n",
    "plt.rcParams['figure.figsize'] = 25,6\n",
    "\n",
    "plot_confusion_matrix(gs6, X_test, y_test, cmap='Reds', display_labels=['tea','coffee'] , values_format='d')\n",
    "\n",
    "plt.title('Confusion Matrix of TF-IDF + Logistic Regression')"
   ]
  },
  {
   "cell_type": "code",
   "execution_count": 146,
   "id": "7b298911-3af5-4570-b0c8-4544c2b133ea",
   "metadata": {},
   "outputs": [
    {
     "name": "stdout",
     "output_type": "stream",
     "text": [
      "              precision    recall  f1-score   support\n",
      "\n",
      "           0       0.87      0.92      0.89       366\n",
      "           1       0.92      0.87      0.89       389\n",
      "\n",
      "    accuracy                           0.89       755\n",
      "   macro avg       0.89      0.89      0.89       755\n",
      "weighted avg       0.90      0.89      0.89       755\n",
      "\n"
     ]
    }
   ],
   "source": [
    "print(classification_report(y_test, preds6))"
   ]
  },
  {
   "cell_type": "markdown",
   "id": "dba02ed9-5c49-42c2-869b-856ed7acd8bb",
   "metadata": {
    "tags": []
   },
   "source": [
    "## 5. Conclusion"
   ]
  },
  {
   "cell_type": "markdown",
   "id": "148a9995-83c6-49f5-b5de-42b302e7fd28",
   "metadata": {},
   "source": [
    "### - Summary"
   ]
  },
  {
   "cell_type": "markdown",
   "id": "85e00c03-dbe7-4a50-9930-b67fb1c7fb32",
   "metadata": {},
   "source": [
    "After running all the model, below are the summary table of the accuracy score:"
   ]
  },
  {
   "cell_type": "markdown",
   "id": "050e72a8-35a7-4e6a-b8ef-c6f3ea689779",
   "metadata": {},
   "source": [
    "<style type=\"text/css\">\n",
    ".tg  {border-collapse:collapse;border-spacing:0;}\n",
    ".tg td{border-color:black;border-style:solid;border-width:1px;font-family:Arial, sans-serif;font-size:14px;\n",
    "  overflow:hidden;padding:10px 5px;word-break:normal;}\n",
    ".tg th{border-color:black;border-style:solid;border-width:1px;font-family:Arial, sans-serif;font-size:14px;\n",
    "  font-weight:normal;overflow:hidden;padding:10px 5px;word-break:normal;}\n",
    ".tg .tg-0pky{border-color:inherit;text-align:left;vertical-align:top}\n",
    ".tg .tg-0lax{text-align:left;vertical-align:top}\n",
    "</style>\n",
    "<table class=\"tg\">\n",
    "<thead>\n",
    "  <tr>\n",
    "    <th class=\"tg-0pky\"></th>\n",
    "    <th class=\"tg-0pky\" colspan=\"2\">Multinomial NB</th>\n",
    "    <th class=\"tg-0pky\" colspan=\"2\">Bernoulli NB</th>\n",
    "    <th class=\"tg-0pky\" colspan=\"2\">Logistic Regression</th>\n",
    "  </tr>\n",
    "</thead>\n",
    "<tbody>\n",
    "  <tr>\n",
    "    <td class=\"tg-0lax\"></td>\n",
    "    <td class=\"tg-0lax\">Count Vectorizer</td>\n",
    "    <td class=\"tg-0lax\">TF-IDF Vectorizer</td>\n",
    "    <td class=\"tg-0lax\">Count Vectorizer</td>\n",
    "    <td class=\"tg-0lax\">TF-IDF Vectorizer</td>\n",
    "    <td class=\"tg-0lax\">Count Vectorizer</td>\n",
    "    <td class=\"tg-0lax\">TF-IDF Vectorizer</td>\n",
    "  </tr>\n",
    "  <tr>\n",
    "    <td class=\"tg-0pky\">CV Score</td>\n",
    "    <td class=\"tg-0pky\">0.905294756</td>\n",
    "    <td class=\"tg-0pky\">0.898763067</td>\n",
    "    <td class=\"tg-0pky\">0.867411807</td>\n",
    "    <td class=\"tg-0pky\">0.809280194</td>\n",
    "    <td class=\"tg-0pky\">0.877207213</td>\n",
    "    <td class=\"tg-0pky\">0.892878585</td>  \n",
    "  </tr>\n",
    "  <tr>\n",
    "    <td class=\"tg-0pky\">Train Score</td>\n",
    "    <td class=\"tg-0pky\">0.967341607</td>\n",
    "    <td class=\"tg-0pky\">0.981058132</td>\n",
    "    <td class=\"tg-0pky\">0.935336381</td>\n",
    "    <td class=\"tg-0pky\">0.941868060</td>\n",
    "    <td class=\"tg-0pky\">0.980404964</td>\n",
    "    <td class=\"tg-0pky\">0.979751796</td>\n",
    "  </tr>\n",
    "  <tr>\n",
    "    <td class=\"tg-0pky\">Test Score</td>\n",
    "    <td class=\"tg-0pky\">0.913907285</td>\n",
    "    <td class=\"tg-0pky\">0.913907285</td>\n",
    "    <td class=\"tg-0pky\">0.850331126</td>\n",
    "    <td class=\"tg-0pky\">0.777483444</td>\n",
    "    <td class=\"tg-0pky\">0.872847682</td>\n",
    "     <td class=\"tg-0pky\">0.894039735</td>\n",
    "  </tr>\n",
    "</tbody>\n",
    "</table>"
   ]
  },
  {
   "cell_type": "markdown",
   "id": "8f1bae77-ea35-4113-94bc-f3bdf1056467",
   "metadata": {},
   "source": [
    "The pipeline that we tested fair quite good as they have CV score higher than 0.80. It has an improvement of at least 30% from the baseline model accuracy.\n",
    "\n",
    "As for this project, we consider the accuracy is the most important metrics that need to be analysed. Based on the CV score, we conclude that the Count Vectorizer with Multionomial Naive Bayes is the best model. It has the highest test score (it is the same as the TF-IDF Vecotrizer with Multinomial NB model). The other reason this is the best model, we can see the difference between the train score and test score is the lowest, this model overfitting is lesser than other models.  \n",
    "\n",
    "The AUC score for every models remains high at around 0.95 but our model still has the best AUC."
   ]
  },
  {
   "cell_type": "code",
   "execution_count": 214,
   "id": "29e1a761-c3ea-4ccc-8a17-8687a6f022b5",
   "metadata": {},
   "outputs": [
    {
     "data": {
      "text/html": [
       "<style type=\"text/css\">\n",
       "</style>\n",
       "<table id=\"T_41c8a_\" style='display:inline'>\n",
       "  <caption>r/tea Features Importance</caption>\n",
       "  <thead>\n",
       "    <tr>\n",
       "      <th class=\"blank level0\" >&nbsp;</th>\n",
       "      <th class=\"col_heading level0 col0\" >feature</th>\n",
       "      <th class=\"col_heading level0 col1\" >log prob diff</th>\n",
       "    </tr>\n",
       "  </thead>\n",
       "  <tbody>\n",
       "    <tr>\n",
       "      <th id=\"T_41c8a_level0_row0\" class=\"row_heading level0 row0\" >2396</th>\n",
       "      <td id=\"T_41c8a_row0_col0\" class=\"data row0 col0\" >oolong</td>\n",
       "      <td id=\"T_41c8a_row0_col1\" class=\"data row0 col1\" >-5.129162</td>\n",
       "    </tr>\n",
       "    <tr>\n",
       "      <th id=\"T_41c8a_level0_row1\" class=\"row_heading level0 row1\" >2149</th>\n",
       "      <td id=\"T_41c8a_row1_col0\" class=\"data row1 col0\" >matcha</td>\n",
       "      <td id=\"T_41c8a_row1_col1\" class=\"data row1 col1\" >-4.813524</td>\n",
       "    </tr>\n",
       "    <tr>\n",
       "      <th id=\"T_41c8a_level0_row2\" class=\"row_heading level0 row2\" >1990</th>\n",
       "      <td id=\"T_41c8a_row2_col0\" class=\"data row2 col0\" >leaf</td>\n",
       "      <td id=\"T_41c8a_row2_col1\" class=\"data row2 col1\" >-4.480140</td>\n",
       "    </tr>\n",
       "    <tr>\n",
       "      <th id=\"T_41c8a_level0_row3\" class=\"row_heading level0 row3\" >2712</th>\n",
       "      <td id=\"T_41c8a_row3_col0\" class=\"data row3 col0\" >pu</td>\n",
       "      <td id=\"T_41c8a_row3_col1\" class=\"data row3 col1\" >-4.170639</td>\n",
       "    </tr>\n",
       "    <tr>\n",
       "      <th id=\"T_41c8a_level0_row4\" class=\"row_heading level0 row4\" >1699</th>\n",
       "      <td id=\"T_41c8a_row4_col0\" class=\"data row4 col0\" >herbal</td>\n",
       "      <td id=\"T_41c8a_row4_col1\" class=\"data row4 col1\" >-4.170639</td>\n",
       "    </tr>\n",
       "    <tr>\n",
       "      <th id=\"T_41c8a_level0_row5\" class=\"row_heading level0 row5\" >2073</th>\n",
       "      <td id=\"T_41c8a_row5_col0\" class=\"data row5 col0\" >loose</td>\n",
       "      <td id=\"T_41c8a_row5_col1\" class=\"data row5 col1\" >-4.088961</td>\n",
       "    </tr>\n",
       "    <tr>\n",
       "      <th id=\"T_41c8a_level0_row6\" class=\"row_heading level0 row6\" >1151</th>\n",
       "      <td id=\"T_41c8a_row6_col0\" class=\"data row6 col0\" >earl</td>\n",
       "      <td id=\"T_41c8a_row6_col1\" class=\"data row6 col1\" >-4.023003</td>\n",
       "    </tr>\n",
       "    <tr>\n",
       "      <th id=\"T_41c8a_level0_row7\" class=\"row_heading level0 row7\" >3477</th>\n",
       "      <td id=\"T_41c8a_row7_col0\" class=\"data row7 col0\" >teapot</td>\n",
       "      <td id=\"T_41c8a_row7_col1\" class=\"data row7 col1\" >-3.940115</td>\n",
       "    </tr>\n",
       "    <tr>\n",
       "      <th id=\"T_41c8a_level0_row8\" class=\"row_heading level0 row8\" >1888</th>\n",
       "      <td id=\"T_41c8a_row8_col0\" class=\"data row8 col0\" >jasmine</td>\n",
       "      <td id=\"T_41c8a_row8_col1\" class=\"data row8 col1\" >-3.876399</td>\n",
       "    </tr>\n",
       "    <tr>\n",
       "      <th id=\"T_41c8a_level0_row9\" class=\"row_heading level0 row9\" >2007</th>\n",
       "      <td id=\"T_41c8a_row9_col0\" class=\"data row9 col0\" >lemon</td>\n",
       "      <td id=\"T_41c8a_row9_col1\" class=\"data row9 col1\" >-3.794161</td>\n",
       "    </tr>\n",
       "  </tbody>\n",
       "</table>\n",
       "&emsp;&emsp;<style type=\"text/css\">\n",
       "</style>\n",
       "<table id=\"T_f4509_\" style='display:inline'>\n",
       "  <caption>r/Coffee Features Importance</caption>\n",
       "  <thead>\n",
       "    <tr>\n",
       "      <th class=\"blank level0\" >&nbsp;</th>\n",
       "      <th class=\"col_heading level0 col0\" >feature</th>\n",
       "      <th class=\"col_heading level0 col1\" >log prob diff</th>\n",
       "    </tr>\n",
       "  </thead>\n",
       "  <tbody>\n",
       "    <tr>\n",
       "      <th id=\"T_f4509_level0_row0\" class=\"row_heading level0 row0\" >1607</th>\n",
       "      <td id=\"T_f4509_row0_col0\" class=\"data row0 col0\" >grinder</td>\n",
       "      <td id=\"T_f4509_row0_col1\" class=\"data row0 col1\" >5.604731</td>\n",
       "    </tr>\n",
       "    <tr>\n",
       "      <th id=\"T_f4509_level0_row1\" class=\"row_heading level0 row1\" >1238</th>\n",
       "      <td id=\"T_f4509_row1_col0\" class=\"data row1 col0\" >espresso</td>\n",
       "      <td id=\"T_f4509_row1_col1\" class=\"data row1 col1\" >4.902850</td>\n",
       "    </tr>\n",
       "    <tr>\n",
       "      <th id=\"T_f4509_level0_row2\" class=\"row_heading level0 row2\" >577</th>\n",
       "      <td id=\"T_f4509_row2_col0\" class=\"data row2 col0\" >burr</td>\n",
       "      <td id=\"T_f4509_row2_col1\" class=\"data row2 col1\" >4.523361</td>\n",
       "    </tr>\n",
       "    <tr>\n",
       "      <th id=\"T_f4509_level0_row3\" class=\"row_heading level0 row3\" >423</th>\n",
       "      <td id=\"T_f4509_row3_col0\" class=\"data row3 col0\" >bean</td>\n",
       "      <td id=\"T_f4509_row3_col1\" class=\"data row3 col1\" >4.363018</td>\n",
       "    </tr>\n",
       "    <tr>\n",
       "      <th id=\"T_f4509_level0_row4\" class=\"row_heading level0 row4\" >3709</th>\n",
       "      <td id=\"T_f4509_row4_col0\" class=\"data row4 col0\" >v60</td>\n",
       "      <td id=\"T_f4509_row4_col1\" class=\"data row4 col1\" >4.346154</td>\n",
       "    </tr>\n",
       "    <tr>\n",
       "      <th id=\"T_f4509_level0_row5\" class=\"row_heading level0 row5\" >2105</th>\n",
       "      <td id=\"T_f4509_row5_col0\" class=\"data row5 col0\" >machine</td>\n",
       "      <td id=\"T_f4509_row5_col1\" class=\"data row5 col1\" >4.235679</td>\n",
       "    </tr>\n",
       "    <tr>\n",
       "      <th id=\"T_f4509_level0_row6\" class=\"row_heading level0 row6\" >2916</th>\n",
       "      <td id=\"T_f4509_row6_col0\" class=\"data row6 col0\" >roaster</td>\n",
       "      <td id=\"T_f4509_row6_col1\" class=\"data row6 col1\" >4.180028</td>\n",
       "    </tr>\n",
       "    <tr>\n",
       "      <th id=\"T_f4509_level0_row7\" class=\"row_heading level0 row7\" >209</th>\n",
       "      <td id=\"T_f4509_row7_col0\" class=\"data row7 col0\" >aeropress</td>\n",
       "      <td id=\"T_f4509_row7_col1\" class=\"data row7 col1\" >4.155636</td>\n",
       "    </tr>\n",
       "    <tr>\n",
       "      <th id=\"T_f4509_level0_row8\" class=\"row_heading level0 row8\" >1605</th>\n",
       "      <td id=\"T_f4509_row8_col0\" class=\"data row8 col0\" >grind</td>\n",
       "      <td id=\"T_f4509_row8_col1\" class=\"data row8 col1\" >4.028551</td>\n",
       "    </tr>\n",
       "    <tr>\n",
       "      <th id=\"T_f4509_level0_row9\" class=\"row_heading level0 row9\" >2914</th>\n",
       "      <td id=\"T_f4509_row9_col0\" class=\"data row9 col0\" >roast</td>\n",
       "      <td id=\"T_f4509_row9_col1\" class=\"data row9 col1\" >3.750171</td>\n",
       "    </tr>\n",
       "  </tbody>\n",
       "</table>\n"
      ]
     },
     "metadata": {},
     "output_type": "display_data"
    }
   ],
   "source": [
    "FeaturesImportanceNB(cvec_m1,nb_m1)"
   ]
  },
  {
   "cell_type": "markdown",
   "id": "f8941301-3032-412d-986d-2e3c923b0ded",
   "metadata": {},
   "source": [
    "The top 5 most important features for r/tea are:\n",
    "- oolong\n",
    "- matcha\n",
    "- leaf\n",
    "- pu\n",
    "- herbal\n",
    "\n",
    "The top 5 most important features for r/Coffee are:\n",
    "- grinder\n",
    "- espresso\n",
    "- burr\n",
    "- bean\n",
    "- v60"
   ]
  },
  {
   "cell_type": "markdown",
   "id": "f1bec235-43f6-43d3-bc44-c8c7efd8e8ab",
   "metadata": {},
   "source": [
    "### - Recommendation"
   ]
  },
  {
   "cell_type": "markdown",
   "id": "17759da2-3e1d-4c3a-bf93-7ecedecb3aa1",
   "metadata": {},
   "source": [
    "1. Built the recommended system with top keywords and other related words\n",
    "2. Maintain the inventory based on the trend provided from the analysis to have a greater supply chain effectiveness\n",
    "3. Offer additional offerings that is related to the top keywords, such as matcha latte, RTD espresso"
   ]
  },
  {
   "cell_type": "markdown",
   "id": "cbf55225-ed67-411e-b8fe-f2b3912d8826",
   "metadata": {},
   "source": [
    "### - Limitations"
   ]
  },
  {
   "cell_type": "markdown",
   "id": "4e0ec78d-c8a3-488a-baa4-956215600985",
   "metadata": {},
   "source": [
    "1. Misspelled words is not addressed thus it may fall out of context\n",
    "2. Multi-words names of tea, beans, and their equipments are not addressed properly. Important terms that do not make sense as individual words such as pu erh or earl grey. \n",
    "3. Small stopword list, allow common words that has little relevant to tea and coffee to be included in the modelling\n",
    "4. Text analysis only, does not include image and video analysis\n",
    "5. Small datasets with only 1000s posts per subreddit\n",
    "6. Reddit may have only posts mainly from US residents, other region remained untouched"
   ]
  },
  {
   "cell_type": "markdown",
   "id": "ec6a491e-a4e1-4763-ab3b-e9ec9a60757c",
   "metadata": {},
   "source": [
    "### - Future Works"
   ]
  },
  {
   "cell_type": "markdown",
   "id": "05a3b69f-19f3-4735-9dd2-913c3fa93865",
   "metadata": {},
   "source": [
    "1. Analysis of other social media platforms that may have bigger scope of global users\n",
    "2. Analysis of forum of social media with other languages\n",
    "3. Feature Engineering based on the parameter obtain from the scraped data and other type of data\n",
    "4. Analysis of other form of data such as image and video\n",
    "5. Scrape more data from the subreddit to be analysed further"
   ]
  }
 ],
 "metadata": {
  "kernelspec": {
   "display_name": "Python 3 (ipykernel)",
   "language": "python",
   "name": "python3"
  },
  "language_info": {
   "codemirror_mode": {
    "name": "ipython",
    "version": 3
   },
   "file_extension": ".py",
   "mimetype": "text/x-python",
   "name": "python",
   "nbconvert_exporter": "python",
   "pygments_lexer": "ipython3",
   "version": "3.9.7"
  }
 },
 "nbformat": 4,
 "nbformat_minor": 5
}
